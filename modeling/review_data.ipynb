{
 "cells": [
  {
   "cell_type": "code",
   "id": "initial_id",
   "metadata": {
    "collapsed": true,
    "ExecuteTime": {
     "end_time": "2025-02-01T04:20:25.707406Z",
     "start_time": "2025-02-01T04:20:25.703759Z"
    }
   },
   "source": "import pandas as pd",
   "outputs": [],
   "execution_count": 1
  },
  {
   "metadata": {
    "ExecuteTime": {
     "end_time": "2025-02-01T04:20:26.562262Z",
     "start_time": "2025-02-01T04:20:25.744018Z"
    }
   },
   "cell_type": "code",
   "source": [
    "file_path_01 = r\"E:\\문화빅데이터플랫폼\\cleaned_data\\AVRG_SCORE_REVIEW_INFO_cleaned.csv\"\n",
    "file_path_02 = r\"E:\\문화빅데이터플랫폼\\cleaned_data\\REVIEW_MOP_INFO.csv\"\n",
    "\n",
    "AVRG_SCORE_REVIEW_INFO_cleaned = pd.read_csv(file_path_01)\n",
    "REVIEW_MOP_INFO = pd.read_csv(file_path_02)"
   ],
   "id": "f47c53d813d5f72d",
   "outputs": [],
   "execution_count": 2
  },
  {
   "metadata": {
    "ExecuteTime": {
     "end_time": "2025-02-01T04:20:26.744715Z",
     "start_time": "2025-02-01T04:20:26.691368Z"
    }
   },
   "cell_type": "code",
   "source": [
    "AVRG_SCORE_REVIEW_INFO_cleaned.info() # 감성분석, 숙박 제외\n",
    "REVIEW_MOP_INFO.info() # 형태소 분석, 전처리 됨 "
   ],
   "id": "6b97d23f56e99c69",
   "outputs": [
    {
     "name": "stdout",
     "output_type": "stream",
     "text": [
      "<class 'pandas.core.frame.DataFrame'>\n",
      "RangeIndex: 505 entries, 0 to 504\n",
      "Data columns (total 2 columns):\n",
      " #   Column        Non-Null Count  Dtype \n",
      "---  ------        --------------  ----- \n",
      " 0   TRRSRT_NM     505 non-null    object\n",
      " 1   CORE_KWRD_CN  505 non-null    object\n",
      "dtypes: object(2)\n",
      "memory usage: 8.0+ KB\n",
      "<class 'pandas.core.frame.DataFrame'>\n",
      "RangeIndex: 219655 entries, 0 to 219654\n",
      "Data columns (total 5 columns):\n",
      " #   Column       Non-Null Count   Dtype  \n",
      "---  ------       --------------   -----  \n",
      " 0   BASE_YM      219655 non-null  float64\n",
      " 1   CL_NM        219655 non-null  object \n",
      " 2   TRRSRT_NM    219655 non-null  object \n",
      " 3   TRRSRT_ADDR  219655 non-null  object \n",
      " 4   MOP_CN       219655 non-null  object \n",
      "dtypes: float64(1), object(4)\n",
      "memory usage: 8.4+ MB\n"
     ]
    }
   ],
   "execution_count": 3
  },
  {
   "metadata": {
    "ExecuteTime": {
     "end_time": "2025-02-01T04:20:26.809566Z",
     "start_time": "2025-02-01T04:20:26.806094Z"
    }
   },
   "cell_type": "code",
   "source": [
    "# 이름 변경\n",
    "AVRG_SCORE_REVIEW_INFO = AVRG_SCORE_REVIEW_INFO_cleaned"
   ],
   "id": "eadb3b03c824ac2e",
   "outputs": [],
   "execution_count": 4
  },
  {
   "metadata": {
    "ExecuteTime": {
     "end_time": "2025-02-01T04:20:27.060191Z",
     "start_time": "2025-02-01T04:20:26.855577Z"
    }
   },
   "cell_type": "code",
   "source": [
    "# TRRSRT_NM을 기준으로 병합 (inner join)\n",
    "merged_df = pd.merge(REVIEW_MOP_INFO, AVRG_SCORE_REVIEW_INFO, on=\"TRRSRT_NM\", how=\"inner\")"
   ],
   "id": "b775d32600454444",
   "outputs": [],
   "execution_count": 5
  },
  {
   "metadata": {
    "ExecuteTime": {
     "end_time": "2025-02-01T04:20:27.332980Z",
     "start_time": "2025-02-01T04:20:27.077501Z"
    }
   },
   "cell_type": "code",
   "source": [
    "merged_df.info()\n",
    "merged_df.head()"
   ],
   "id": "93b9922e9f010a2e",
   "outputs": [
    {
     "name": "stdout",
     "output_type": "stream",
     "text": [
      "<class 'pandas.core.frame.DataFrame'>\n",
      "RangeIndex: 1288907 entries, 0 to 1288906\n",
      "Data columns (total 6 columns):\n",
      " #   Column        Non-Null Count    Dtype  \n",
      "---  ------        --------------    -----  \n",
      " 0   BASE_YM       1288907 non-null  float64\n",
      " 1   CL_NM         1288907 non-null  object \n",
      " 2   TRRSRT_NM     1288907 non-null  object \n",
      " 3   TRRSRT_ADDR   1288907 non-null  object \n",
      " 4   MOP_CN        1288907 non-null  object \n",
      " 5   CORE_KWRD_CN  1288907 non-null  object \n",
      "dtypes: float64(1), object(5)\n",
      "memory usage: 59.0+ MB\n"
     ]
    },
    {
     "data": {
      "text/plain": [
       "    BASE_YM CL_NM TRRSRT_NM              TRRSRT_ADDR  MOP_CN  \\\n",
       "0  202301.0  공연전시    고흐의 정원  제주 서귀포시 성산읍 삼달신풍로 126-5  볼거리,다양   \n",
       "1  202301.0  공연전시    고흐의 정원  제주 서귀포시 성산읍 삼달신풍로 126-5  볼거리,다양   \n",
       "2  202301.0  공연전시    고흐의 정원  제주 서귀포시 성산읍 삼달신풍로 126-5  볼거리,다양   \n",
       "3  202301.0  공연전시    고흐의 정원  제주 서귀포시 성산읍 삼달신풍로 126-5  볼거리,다양   \n",
       "4  202301.0  공연전시    고흐의 정원  제주 서귀포시 성산읍 삼달신풍로 126-5  볼거리,다양   \n",
       "\n",
       "                          CORE_KWRD_CN  \n",
       "0       파충류,아이,체험,고흐,사진,친절,정원,설명,그림,시간  \n",
       "1  친절,사진,고흐,너어무,직원,입장권,주차장,네이버,구매,취향저격  \n",
       "2       파충류,체험,고흐,친절,사진,이용,그림,직원,정원,작품  \n",
       "3       파충류,체험,아이,사진,친절,고흐,방문,정원,설명,시간  \n",
       "4       관람,파충류,체험,규모,시간,정도,미로,공원,카페,구성  "
      ],
      "text/html": [
       "<div>\n",
       "<style scoped>\n",
       "    .dataframe tbody tr th:only-of-type {\n",
       "        vertical-align: middle;\n",
       "    }\n",
       "\n",
       "    .dataframe tbody tr th {\n",
       "        vertical-align: top;\n",
       "    }\n",
       "\n",
       "    .dataframe thead th {\n",
       "        text-align: right;\n",
       "    }\n",
       "</style>\n",
       "<table border=\"1\" class=\"dataframe\">\n",
       "  <thead>\n",
       "    <tr style=\"text-align: right;\">\n",
       "      <th></th>\n",
       "      <th>BASE_YM</th>\n",
       "      <th>CL_NM</th>\n",
       "      <th>TRRSRT_NM</th>\n",
       "      <th>TRRSRT_ADDR</th>\n",
       "      <th>MOP_CN</th>\n",
       "      <th>CORE_KWRD_CN</th>\n",
       "    </tr>\n",
       "  </thead>\n",
       "  <tbody>\n",
       "    <tr>\n",
       "      <th>0</th>\n",
       "      <td>202301.0</td>\n",
       "      <td>공연전시</td>\n",
       "      <td>고흐의 정원</td>\n",
       "      <td>제주 서귀포시 성산읍 삼달신풍로 126-5</td>\n",
       "      <td>볼거리,다양</td>\n",
       "      <td>파충류,아이,체험,고흐,사진,친절,정원,설명,그림,시간</td>\n",
       "    </tr>\n",
       "    <tr>\n",
       "      <th>1</th>\n",
       "      <td>202301.0</td>\n",
       "      <td>공연전시</td>\n",
       "      <td>고흐의 정원</td>\n",
       "      <td>제주 서귀포시 성산읍 삼달신풍로 126-5</td>\n",
       "      <td>볼거리,다양</td>\n",
       "      <td>친절,사진,고흐,너어무,직원,입장권,주차장,네이버,구매,취향저격</td>\n",
       "    </tr>\n",
       "    <tr>\n",
       "      <th>2</th>\n",
       "      <td>202301.0</td>\n",
       "      <td>공연전시</td>\n",
       "      <td>고흐의 정원</td>\n",
       "      <td>제주 서귀포시 성산읍 삼달신풍로 126-5</td>\n",
       "      <td>볼거리,다양</td>\n",
       "      <td>파충류,체험,고흐,친절,사진,이용,그림,직원,정원,작품</td>\n",
       "    </tr>\n",
       "    <tr>\n",
       "      <th>3</th>\n",
       "      <td>202301.0</td>\n",
       "      <td>공연전시</td>\n",
       "      <td>고흐의 정원</td>\n",
       "      <td>제주 서귀포시 성산읍 삼달신풍로 126-5</td>\n",
       "      <td>볼거리,다양</td>\n",
       "      <td>파충류,체험,아이,사진,친절,고흐,방문,정원,설명,시간</td>\n",
       "    </tr>\n",
       "    <tr>\n",
       "      <th>4</th>\n",
       "      <td>202301.0</td>\n",
       "      <td>공연전시</td>\n",
       "      <td>고흐의 정원</td>\n",
       "      <td>제주 서귀포시 성산읍 삼달신풍로 126-5</td>\n",
       "      <td>볼거리,다양</td>\n",
       "      <td>관람,파충류,체험,규모,시간,정도,미로,공원,카페,구성</td>\n",
       "    </tr>\n",
       "  </tbody>\n",
       "</table>\n",
       "</div>"
      ]
     },
     "execution_count": 6,
     "metadata": {},
     "output_type": "execute_result"
    }
   ],
   "execution_count": 6
  },
  {
   "metadata": {
    "ExecuteTime": {
     "end_time": "2025-02-01T04:20:43.026655Z",
     "start_time": "2025-02-01T04:20:27.396807Z"
    }
   },
   "cell_type": "code",
   "source": [
    "# `apply`를 사용해 각 행에서 MOP_CN과 CORE_KWRD_CN을 결합\n",
    "def merge_and_remove_duplicates(row):\n",
    "    # `,`로 구분된 문자열을 리스트로 변환 후 집합(Set)으로 중복 제거\n",
    "    combined_set = set(row['MOP_CN'].split(',')) | set(row['CORE_KWRD_CN'].split(','))\n",
    "    # 집합을 다시 문자열로 변환\n",
    "    return ','.join(sorted(combined_set))  # 정렬은 선택 사항\n",
    "\n",
    "# 데이터프레임에 새 열 생성\n",
    "merged_df['MERGED_CN'] = merged_df.apply(merge_and_remove_duplicates, axis=1)\n",
    "\n",
    "# 결과 확인\n",
    "merged_df"
   ],
   "id": "7888ba65727e1c9e",
   "outputs": [
    {
     "data": {
      "text/plain": [
       "          BASE_YM CL_NM  TRRSRT_NM              TRRSRT_ADDR          MOP_CN  \\\n",
       "0        202301.0  공연전시     고흐의 정원  제주 서귀포시 성산읍 삼달신풍로 126-5          볼거리,다양   \n",
       "1        202301.0  공연전시     고흐의 정원  제주 서귀포시 성산읍 삼달신풍로 126-5          볼거리,다양   \n",
       "2        202301.0  공연전시     고흐의 정원  제주 서귀포시 성산읍 삼달신풍로 126-5          볼거리,다양   \n",
       "3        202301.0  공연전시     고흐의 정원  제주 서귀포시 성산읍 삼달신풍로 126-5          볼거리,다양   \n",
       "4        202301.0  공연전시     고흐의 정원  제주 서귀포시 성산읍 삼달신풍로 126-5          볼거리,다양   \n",
       "...           ...   ...        ...                      ...             ...   \n",
       "1288902  202303.0    키즈  아쿠아플라넷 제주     제주 서귀포시 성산읍 섭지코지로 95  공연,종일,코스,바다,가족   \n",
       "1288903  202303.0    키즈  아쿠아플라넷 제주     제주 서귀포시 성산읍 섭지코지로 95  공연,종일,코스,바다,가족   \n",
       "1288904  202303.0    키즈  아쿠아플라넷 제주     제주 서귀포시 성산읍 섭지코지로 95  공연,종일,코스,바다,가족   \n",
       "1288905  202303.0    키즈  아쿠아플라넷 제주     제주 서귀포시 성산읍 섭지코지로 95  공연,종일,코스,바다,가족   \n",
       "1288906  202303.0    키즈  아쿠아플라넷 제주     제주 서귀포시 성산읍 섭지코지로 95  공연,종일,코스,바다,가족   \n",
       "\n",
       "                                CORE_KWRD_CN  \\\n",
       "0             파충류,아이,체험,고흐,사진,친절,정원,설명,그림,시간   \n",
       "1        친절,사진,고흐,너어무,직원,입장권,주차장,네이버,구매,취향저격   \n",
       "2             파충류,체험,고흐,친절,사진,이용,그림,직원,정원,작품   \n",
       "3             파충류,체험,아이,사진,친절,고흐,방문,정원,설명,시간   \n",
       "4             관람,파충류,체험,규모,시간,정도,미로,공원,카페,구성   \n",
       "...                                      ...   \n",
       "1288902  시간,공연,볼거리,시설,아이,사진,수족관,가격,서커스,아쿠아리움   \n",
       "1288903   공연,아이,수족관,시간,추천,아쿠아리움,제주,할인,물고기,방문   \n",
       "1288904   공연,아이,볼거리,시간,아쿠아리움,제주,방문,아레나,규모,관람   \n",
       "1288905     공연,아이,돌고래,최고,동물,가격,카드,제주도,단체,관광객   \n",
       "1288906  수족관,공연,방문,아이,시간,생물,아쿠아리움,볼거리,돌고래,동물   \n",
       "\n",
       "                                               MERGED_CN  \n",
       "0                  고흐,그림,다양,볼거리,사진,설명,시간,아이,정원,체험,친절,파충류  \n",
       "1             고흐,구매,너어무,네이버,다양,볼거리,사진,입장권,주차장,직원,취향저격,친절  \n",
       "2                  고흐,그림,다양,볼거리,사진,이용,작품,정원,직원,체험,친절,파충류  \n",
       "3                  고흐,다양,방문,볼거리,사진,설명,시간,아이,정원,체험,친절,파충류  \n",
       "4                  공원,관람,구성,규모,다양,미로,볼거리,시간,정도,체험,카페,파충류  \n",
       "...                                                  ...  \n",
       "1288902  가격,가족,공연,바다,볼거리,사진,서커스,수족관,시간,시설,아이,아쿠아리움,종일,코스  \n",
       "1288903   가족,공연,물고기,바다,방문,수족관,시간,아이,아쿠아리움,제주,종일,추천,코스,할인  \n",
       "1288904   가족,공연,관람,규모,바다,방문,볼거리,시간,아레나,아이,아쿠아리움,제주,종일,코스  \n",
       "1288905     가격,가족,공연,관광객,단체,돌고래,동물,바다,아이,제주도,종일,최고,카드,코스  \n",
       "1288906  가족,공연,돌고래,동물,바다,방문,볼거리,생물,수족관,시간,아이,아쿠아리움,종일,코스  \n",
       "\n",
       "[1288907 rows x 7 columns]"
      ],
      "text/html": [
       "<div>\n",
       "<style scoped>\n",
       "    .dataframe tbody tr th:only-of-type {\n",
       "        vertical-align: middle;\n",
       "    }\n",
       "\n",
       "    .dataframe tbody tr th {\n",
       "        vertical-align: top;\n",
       "    }\n",
       "\n",
       "    .dataframe thead th {\n",
       "        text-align: right;\n",
       "    }\n",
       "</style>\n",
       "<table border=\"1\" class=\"dataframe\">\n",
       "  <thead>\n",
       "    <tr style=\"text-align: right;\">\n",
       "      <th></th>\n",
       "      <th>BASE_YM</th>\n",
       "      <th>CL_NM</th>\n",
       "      <th>TRRSRT_NM</th>\n",
       "      <th>TRRSRT_ADDR</th>\n",
       "      <th>MOP_CN</th>\n",
       "      <th>CORE_KWRD_CN</th>\n",
       "      <th>MERGED_CN</th>\n",
       "    </tr>\n",
       "  </thead>\n",
       "  <tbody>\n",
       "    <tr>\n",
       "      <th>0</th>\n",
       "      <td>202301.0</td>\n",
       "      <td>공연전시</td>\n",
       "      <td>고흐의 정원</td>\n",
       "      <td>제주 서귀포시 성산읍 삼달신풍로 126-5</td>\n",
       "      <td>볼거리,다양</td>\n",
       "      <td>파충류,아이,체험,고흐,사진,친절,정원,설명,그림,시간</td>\n",
       "      <td>고흐,그림,다양,볼거리,사진,설명,시간,아이,정원,체험,친절,파충류</td>\n",
       "    </tr>\n",
       "    <tr>\n",
       "      <th>1</th>\n",
       "      <td>202301.0</td>\n",
       "      <td>공연전시</td>\n",
       "      <td>고흐의 정원</td>\n",
       "      <td>제주 서귀포시 성산읍 삼달신풍로 126-5</td>\n",
       "      <td>볼거리,다양</td>\n",
       "      <td>친절,사진,고흐,너어무,직원,입장권,주차장,네이버,구매,취향저격</td>\n",
       "      <td>고흐,구매,너어무,네이버,다양,볼거리,사진,입장권,주차장,직원,취향저격,친절</td>\n",
       "    </tr>\n",
       "    <tr>\n",
       "      <th>2</th>\n",
       "      <td>202301.0</td>\n",
       "      <td>공연전시</td>\n",
       "      <td>고흐의 정원</td>\n",
       "      <td>제주 서귀포시 성산읍 삼달신풍로 126-5</td>\n",
       "      <td>볼거리,다양</td>\n",
       "      <td>파충류,체험,고흐,친절,사진,이용,그림,직원,정원,작품</td>\n",
       "      <td>고흐,그림,다양,볼거리,사진,이용,작품,정원,직원,체험,친절,파충류</td>\n",
       "    </tr>\n",
       "    <tr>\n",
       "      <th>3</th>\n",
       "      <td>202301.0</td>\n",
       "      <td>공연전시</td>\n",
       "      <td>고흐의 정원</td>\n",
       "      <td>제주 서귀포시 성산읍 삼달신풍로 126-5</td>\n",
       "      <td>볼거리,다양</td>\n",
       "      <td>파충류,체험,아이,사진,친절,고흐,방문,정원,설명,시간</td>\n",
       "      <td>고흐,다양,방문,볼거리,사진,설명,시간,아이,정원,체험,친절,파충류</td>\n",
       "    </tr>\n",
       "    <tr>\n",
       "      <th>4</th>\n",
       "      <td>202301.0</td>\n",
       "      <td>공연전시</td>\n",
       "      <td>고흐의 정원</td>\n",
       "      <td>제주 서귀포시 성산읍 삼달신풍로 126-5</td>\n",
       "      <td>볼거리,다양</td>\n",
       "      <td>관람,파충류,체험,규모,시간,정도,미로,공원,카페,구성</td>\n",
       "      <td>공원,관람,구성,규모,다양,미로,볼거리,시간,정도,체험,카페,파충류</td>\n",
       "    </tr>\n",
       "    <tr>\n",
       "      <th>...</th>\n",
       "      <td>...</td>\n",
       "      <td>...</td>\n",
       "      <td>...</td>\n",
       "      <td>...</td>\n",
       "      <td>...</td>\n",
       "      <td>...</td>\n",
       "      <td>...</td>\n",
       "    </tr>\n",
       "    <tr>\n",
       "      <th>1288902</th>\n",
       "      <td>202303.0</td>\n",
       "      <td>키즈</td>\n",
       "      <td>아쿠아플라넷 제주</td>\n",
       "      <td>제주 서귀포시 성산읍 섭지코지로 95</td>\n",
       "      <td>공연,종일,코스,바다,가족</td>\n",
       "      <td>시간,공연,볼거리,시설,아이,사진,수족관,가격,서커스,아쿠아리움</td>\n",
       "      <td>가격,가족,공연,바다,볼거리,사진,서커스,수족관,시간,시설,아이,아쿠아리움,종일,코스</td>\n",
       "    </tr>\n",
       "    <tr>\n",
       "      <th>1288903</th>\n",
       "      <td>202303.0</td>\n",
       "      <td>키즈</td>\n",
       "      <td>아쿠아플라넷 제주</td>\n",
       "      <td>제주 서귀포시 성산읍 섭지코지로 95</td>\n",
       "      <td>공연,종일,코스,바다,가족</td>\n",
       "      <td>공연,아이,수족관,시간,추천,아쿠아리움,제주,할인,물고기,방문</td>\n",
       "      <td>가족,공연,물고기,바다,방문,수족관,시간,아이,아쿠아리움,제주,종일,추천,코스,할인</td>\n",
       "    </tr>\n",
       "    <tr>\n",
       "      <th>1288904</th>\n",
       "      <td>202303.0</td>\n",
       "      <td>키즈</td>\n",
       "      <td>아쿠아플라넷 제주</td>\n",
       "      <td>제주 서귀포시 성산읍 섭지코지로 95</td>\n",
       "      <td>공연,종일,코스,바다,가족</td>\n",
       "      <td>공연,아이,볼거리,시간,아쿠아리움,제주,방문,아레나,규모,관람</td>\n",
       "      <td>가족,공연,관람,규모,바다,방문,볼거리,시간,아레나,아이,아쿠아리움,제주,종일,코스</td>\n",
       "    </tr>\n",
       "    <tr>\n",
       "      <th>1288905</th>\n",
       "      <td>202303.0</td>\n",
       "      <td>키즈</td>\n",
       "      <td>아쿠아플라넷 제주</td>\n",
       "      <td>제주 서귀포시 성산읍 섭지코지로 95</td>\n",
       "      <td>공연,종일,코스,바다,가족</td>\n",
       "      <td>공연,아이,돌고래,최고,동물,가격,카드,제주도,단체,관광객</td>\n",
       "      <td>가격,가족,공연,관광객,단체,돌고래,동물,바다,아이,제주도,종일,최고,카드,코스</td>\n",
       "    </tr>\n",
       "    <tr>\n",
       "      <th>1288906</th>\n",
       "      <td>202303.0</td>\n",
       "      <td>키즈</td>\n",
       "      <td>아쿠아플라넷 제주</td>\n",
       "      <td>제주 서귀포시 성산읍 섭지코지로 95</td>\n",
       "      <td>공연,종일,코스,바다,가족</td>\n",
       "      <td>수족관,공연,방문,아이,시간,생물,아쿠아리움,볼거리,돌고래,동물</td>\n",
       "      <td>가족,공연,돌고래,동물,바다,방문,볼거리,생물,수족관,시간,아이,아쿠아리움,종일,코스</td>\n",
       "    </tr>\n",
       "  </tbody>\n",
       "</table>\n",
       "<p>1288907 rows × 7 columns</p>\n",
       "</div>"
      ]
     },
     "execution_count": 7,
     "metadata": {},
     "output_type": "execute_result"
    }
   ],
   "execution_count": 7
  },
  {
   "metadata": {
    "ExecuteTime": {
     "end_time": "2025-02-01T04:20:43.136339Z",
     "start_time": "2025-02-01T04:20:43.074229Z"
    }
   },
   "cell_type": "code",
   "source": [
    "merged_df = merged_df[['BASE_YM', 'TRRSRT_NM', 'MERGED_CN']]\n",
    "merged_df"
   ],
   "id": "4e74747961f71645",
   "outputs": [
    {
     "data": {
      "text/plain": [
       "          BASE_YM  TRRSRT_NM                                        MERGED_CN\n",
       "0        202301.0     고흐의 정원            고흐,그림,다양,볼거리,사진,설명,시간,아이,정원,체험,친절,파충류\n",
       "1        202301.0     고흐의 정원       고흐,구매,너어무,네이버,다양,볼거리,사진,입장권,주차장,직원,취향저격,친절\n",
       "2        202301.0     고흐의 정원            고흐,그림,다양,볼거리,사진,이용,작품,정원,직원,체험,친절,파충류\n",
       "3        202301.0     고흐의 정원            고흐,다양,방문,볼거리,사진,설명,시간,아이,정원,체험,친절,파충류\n",
       "4        202301.0     고흐의 정원            공원,관람,구성,규모,다양,미로,볼거리,시간,정도,체험,카페,파충류\n",
       "...           ...        ...                                              ...\n",
       "1288902  202303.0  아쿠아플라넷 제주  가격,가족,공연,바다,볼거리,사진,서커스,수족관,시간,시설,아이,아쿠아리움,종일,코스\n",
       "1288903  202303.0  아쿠아플라넷 제주   가족,공연,물고기,바다,방문,수족관,시간,아이,아쿠아리움,제주,종일,추천,코스,할인\n",
       "1288904  202303.0  아쿠아플라넷 제주   가족,공연,관람,규모,바다,방문,볼거리,시간,아레나,아이,아쿠아리움,제주,종일,코스\n",
       "1288905  202303.0  아쿠아플라넷 제주     가격,가족,공연,관광객,단체,돌고래,동물,바다,아이,제주도,종일,최고,카드,코스\n",
       "1288906  202303.0  아쿠아플라넷 제주  가족,공연,돌고래,동물,바다,방문,볼거리,생물,수족관,시간,아이,아쿠아리움,종일,코스\n",
       "\n",
       "[1288907 rows x 3 columns]"
      ],
      "text/html": [
       "<div>\n",
       "<style scoped>\n",
       "    .dataframe tbody tr th:only-of-type {\n",
       "        vertical-align: middle;\n",
       "    }\n",
       "\n",
       "    .dataframe tbody tr th {\n",
       "        vertical-align: top;\n",
       "    }\n",
       "\n",
       "    .dataframe thead th {\n",
       "        text-align: right;\n",
       "    }\n",
       "</style>\n",
       "<table border=\"1\" class=\"dataframe\">\n",
       "  <thead>\n",
       "    <tr style=\"text-align: right;\">\n",
       "      <th></th>\n",
       "      <th>BASE_YM</th>\n",
       "      <th>TRRSRT_NM</th>\n",
       "      <th>MERGED_CN</th>\n",
       "    </tr>\n",
       "  </thead>\n",
       "  <tbody>\n",
       "    <tr>\n",
       "      <th>0</th>\n",
       "      <td>202301.0</td>\n",
       "      <td>고흐의 정원</td>\n",
       "      <td>고흐,그림,다양,볼거리,사진,설명,시간,아이,정원,체험,친절,파충류</td>\n",
       "    </tr>\n",
       "    <tr>\n",
       "      <th>1</th>\n",
       "      <td>202301.0</td>\n",
       "      <td>고흐의 정원</td>\n",
       "      <td>고흐,구매,너어무,네이버,다양,볼거리,사진,입장권,주차장,직원,취향저격,친절</td>\n",
       "    </tr>\n",
       "    <tr>\n",
       "      <th>2</th>\n",
       "      <td>202301.0</td>\n",
       "      <td>고흐의 정원</td>\n",
       "      <td>고흐,그림,다양,볼거리,사진,이용,작품,정원,직원,체험,친절,파충류</td>\n",
       "    </tr>\n",
       "    <tr>\n",
       "      <th>3</th>\n",
       "      <td>202301.0</td>\n",
       "      <td>고흐의 정원</td>\n",
       "      <td>고흐,다양,방문,볼거리,사진,설명,시간,아이,정원,체험,친절,파충류</td>\n",
       "    </tr>\n",
       "    <tr>\n",
       "      <th>4</th>\n",
       "      <td>202301.0</td>\n",
       "      <td>고흐의 정원</td>\n",
       "      <td>공원,관람,구성,규모,다양,미로,볼거리,시간,정도,체험,카페,파충류</td>\n",
       "    </tr>\n",
       "    <tr>\n",
       "      <th>...</th>\n",
       "      <td>...</td>\n",
       "      <td>...</td>\n",
       "      <td>...</td>\n",
       "    </tr>\n",
       "    <tr>\n",
       "      <th>1288902</th>\n",
       "      <td>202303.0</td>\n",
       "      <td>아쿠아플라넷 제주</td>\n",
       "      <td>가격,가족,공연,바다,볼거리,사진,서커스,수족관,시간,시설,아이,아쿠아리움,종일,코스</td>\n",
       "    </tr>\n",
       "    <tr>\n",
       "      <th>1288903</th>\n",
       "      <td>202303.0</td>\n",
       "      <td>아쿠아플라넷 제주</td>\n",
       "      <td>가족,공연,물고기,바다,방문,수족관,시간,아이,아쿠아리움,제주,종일,추천,코스,할인</td>\n",
       "    </tr>\n",
       "    <tr>\n",
       "      <th>1288904</th>\n",
       "      <td>202303.0</td>\n",
       "      <td>아쿠아플라넷 제주</td>\n",
       "      <td>가족,공연,관람,규모,바다,방문,볼거리,시간,아레나,아이,아쿠아리움,제주,종일,코스</td>\n",
       "    </tr>\n",
       "    <tr>\n",
       "      <th>1288905</th>\n",
       "      <td>202303.0</td>\n",
       "      <td>아쿠아플라넷 제주</td>\n",
       "      <td>가격,가족,공연,관광객,단체,돌고래,동물,바다,아이,제주도,종일,최고,카드,코스</td>\n",
       "    </tr>\n",
       "    <tr>\n",
       "      <th>1288906</th>\n",
       "      <td>202303.0</td>\n",
       "      <td>아쿠아플라넷 제주</td>\n",
       "      <td>가족,공연,돌고래,동물,바다,방문,볼거리,생물,수족관,시간,아이,아쿠아리움,종일,코스</td>\n",
       "    </tr>\n",
       "  </tbody>\n",
       "</table>\n",
       "<p>1288907 rows × 3 columns</p>\n",
       "</div>"
      ]
     },
     "execution_count": 8,
     "metadata": {},
     "output_type": "execute_result"
    }
   ],
   "execution_count": 8
  },
  {
   "metadata": {
    "ExecuteTime": {
     "end_time": "2025-02-01T04:20:43.442898Z",
     "start_time": "2025-02-01T04:20:43.351706Z"
    }
   },
   "cell_type": "code",
   "source": [
    "unique_trrsrt_nm_counts = merged_df['TRRSRT_NM'].value_counts()\n",
    "unique_trrsrt_nm_counts"
   ],
   "id": "f9269fa62953fb8f",
   "outputs": [
    {
     "data": {
      "text/plain": [
       "TRRSRT_NM\n",
       "제주산방산탄산온천    172308\n",
       "스누피가든        131544\n",
       "아쿠아플라넷 제주    125508\n",
       "오설록 티 뮤지엄    118836\n",
       "제주레포츠랜드      113478\n",
       "              ...  \n",
       "천지연폭포            78\n",
       "난드르깡통구이          30\n",
       "블루마운틴4255        20\n",
       "베니스랜드             5\n",
       "제주유리박물관           4\n",
       "Name: count, Length: 89, dtype: int64"
      ]
     },
     "execution_count": 9,
     "metadata": {},
     "output_type": "execute_result"
    }
   ],
   "execution_count": 9
  },
  {
   "metadata": {
    "ExecuteTime": {
     "end_time": "2025-02-01T04:20:44.120436Z",
     "start_time": "2025-02-01T04:20:43.608141Z"
    }
   },
   "cell_type": "code",
   "source": [
    "file_path = r\"E:\\AI_HUB\\data\\concatenated\\tn_visit_area_info_concatened_WR.csv\"\n",
    "\n",
    "tn_visit_area_info = pd.read_csv(file_path)"
   ],
   "id": "b1eb67aebe2e4a2d",
   "outputs": [],
   "execution_count": 10
  },
  {
   "metadata": {
    "ExecuteTime": {
     "end_time": "2025-02-01T04:20:44.200247Z",
     "start_time": "2025-02-01T04:20:44.179018Z"
    }
   },
   "cell_type": "code",
   "source": "tn_visit_area_info.info()",
   "id": "8f7907aa38f17476",
   "outputs": [
    {
     "name": "stdout",
     "output_type": "stream",
     "text": [
      "<class 'pandas.core.frame.DataFrame'>\n",
      "RangeIndex: 18610 entries, 0 to 18609\n",
      "Data columns (total 12 columns):\n",
      " #   Column             Non-Null Count  Dtype  \n",
      "---  ------             --------------  -----  \n",
      " 0   VISIT_AREA_ID      18610 non-null  int64  \n",
      " 1   TRAVEL_ID          18610 non-null  object \n",
      " 2   VISIT_AREA_NM      18610 non-null  object \n",
      " 3   ROAD_NM_ADDR       18610 non-null  object \n",
      " 4   X_COORD            18610 non-null  float64\n",
      " 5   Y_COORD            18610 non-null  float64\n",
      " 6   DGSTFN             18610 non-null  int64  \n",
      " 7   REVISIT_INTENTION  18610 non-null  int64  \n",
      " 8   RCMDTN_INTENTION   18610 non-null  int64  \n",
      " 9   VISIT_SEASON       18610 non-null  object \n",
      " 10  W                  18610 non-null  float64\n",
      " 11  WR                 18610 non-null  float64\n",
      "dtypes: float64(4), int64(4), object(4)\n",
      "memory usage: 1.7+ MB\n"
     ]
    }
   ],
   "execution_count": 11
  },
  {
   "metadata": {
    "ExecuteTime": {
     "end_time": "2025-02-01T04:20:44.753836Z",
     "start_time": "2025-02-01T04:20:44.281798Z"
    }
   },
   "cell_type": "code",
   "source": [
    "# 공백 제거 후 비교\n",
    "tn_names = set(tn_visit_area_info[\"VISIT_AREA_NM\"].str.strip())\n",
    "trrsrt_names = set(merged_df[\"TRRSRT_NM\"].str.strip())\n",
    "\n",
    "# 공통 값 확인\n",
    "common_values = tn_names & trrsrt_names\n",
    "print(common_values)\n",
    "print(len(common_values))"
   ],
   "id": "8b036d393c1c87b3",
   "outputs": [
    {
     "name": "stdout",
     "output_type": "stream",
     "text": [
      "{'방림원', '고스트타운', '스누피가든', '이중섭미술관', '천제연폭포', '점보빌리지', '한림공원', '김녕요트투어', '화조원', '오설록 티 뮤지엄', '만장굴', '섬타르', '성산일출봉', '제주 레일바이크', '제주민속촌', '숨도', '소인국테마파크', '아쿠아플라넷 제주', '카멜리아힐', '삼성혈', '메이즈랜드', '고흐의 정원', '일출랜드', '더힐링타임', '비자림', '여미지식물원'}\n",
      "26\n"
     ]
    }
   ],
   "execution_count": 12
  },
  {
   "metadata": {
    "ExecuteTime": {
     "end_time": "2025-02-01T04:20:45.556260Z",
     "start_time": "2025-02-01T04:20:44.801377Z"
    }
   },
   "cell_type": "code",
   "source": [
    "# 관광지별 리뷰 합치기\n",
    "merged_grouped_df = merged_df.groupby(\"TRRSRT_NM\")[\"MERGED_CN\"].apply(lambda x: \" \".join(x)).reset_index()\n",
    "\n",
    "# 결과 확인\n",
    "merged_grouped_df"
   ],
   "id": "667712f9d13b63ff",
   "outputs": [
    {
     "data": {
      "text/plain": [
       "   TRRSRT_NM                                          MERGED_CN\n",
       "0      감귤박물관  가격,감귤,감귤박물관,공사,구경,마들렌,박물관,스무디,음료,카페,한라봉 감귤,개방,...\n",
       "1    건강과성박물관  관람,구경,내용,다양,사진,생각,설명,시간,여행,유익,제주,친구 남녀,동시,별거,생...\n",
       "2     걸리버여행기  걸리버,서비스,센터,수리,시간,여행,여행기,우도,운영,이용,자전거,장비,전기,직원,...\n",
       "3      고스트타운  가격,가성비,고스트,귀신,놀이공원,아이,여행,제주,직원,체험,친절,퀄리티,타운,폐허...\n",
       "4     고흐의 정원  고흐,그림,다양,볼거리,사진,설명,시간,아이,정원,체험,친절,파충류 고흐,구매,너어...\n",
       "..       ...                                                ...\n",
       "84  피규어뮤지엄제주  구경,다양,마블,볼거리,사진,생각,아이,어른,종류,캐릭터,피규어 다양,마블,무료입장...\n",
       "85      한림공원  강아지,공원,공작새,구경,다양,동굴,반려동물,볼거리,사진,산책,시간,식물,크기,한림...\n",
       "86  헬로키티아일랜드  방문,볼거리,사진,생각,시간,아이,여자,키티,핑크,헬로키티 가격,기대,방문,생각,성...\n",
       "87       화조원  공연,관리,독수리,동물,먹이,방문,시간,아이,알파카,체험 가까이,공연,동물,맹금류,...\n",
       "88  훈데르트바서파크  건축물,볼거리,사진,산책,시간,아이,우도,작가,작품,전시,정은혜 건물,건축물,미술관...\n",
       "\n",
       "[89 rows x 2 columns]"
      ],
      "text/html": [
       "<div>\n",
       "<style scoped>\n",
       "    .dataframe tbody tr th:only-of-type {\n",
       "        vertical-align: middle;\n",
       "    }\n",
       "\n",
       "    .dataframe tbody tr th {\n",
       "        vertical-align: top;\n",
       "    }\n",
       "\n",
       "    .dataframe thead th {\n",
       "        text-align: right;\n",
       "    }\n",
       "</style>\n",
       "<table border=\"1\" class=\"dataframe\">\n",
       "  <thead>\n",
       "    <tr style=\"text-align: right;\">\n",
       "      <th></th>\n",
       "      <th>TRRSRT_NM</th>\n",
       "      <th>MERGED_CN</th>\n",
       "    </tr>\n",
       "  </thead>\n",
       "  <tbody>\n",
       "    <tr>\n",
       "      <th>0</th>\n",
       "      <td>감귤박물관</td>\n",
       "      <td>가격,감귤,감귤박물관,공사,구경,마들렌,박물관,스무디,음료,카페,한라봉 감귤,개방,...</td>\n",
       "    </tr>\n",
       "    <tr>\n",
       "      <th>1</th>\n",
       "      <td>건강과성박물관</td>\n",
       "      <td>관람,구경,내용,다양,사진,생각,설명,시간,여행,유익,제주,친구 남녀,동시,별거,생...</td>\n",
       "    </tr>\n",
       "    <tr>\n",
       "      <th>2</th>\n",
       "      <td>걸리버여행기</td>\n",
       "      <td>걸리버,서비스,센터,수리,시간,여행,여행기,우도,운영,이용,자전거,장비,전기,직원,...</td>\n",
       "    </tr>\n",
       "    <tr>\n",
       "      <th>3</th>\n",
       "      <td>고스트타운</td>\n",
       "      <td>가격,가성비,고스트,귀신,놀이공원,아이,여행,제주,직원,체험,친절,퀄리티,타운,폐허...</td>\n",
       "    </tr>\n",
       "    <tr>\n",
       "      <th>4</th>\n",
       "      <td>고흐의 정원</td>\n",
       "      <td>고흐,그림,다양,볼거리,사진,설명,시간,아이,정원,체험,친절,파충류 고흐,구매,너어...</td>\n",
       "    </tr>\n",
       "    <tr>\n",
       "      <th>...</th>\n",
       "      <td>...</td>\n",
       "      <td>...</td>\n",
       "    </tr>\n",
       "    <tr>\n",
       "      <th>84</th>\n",
       "      <td>피규어뮤지엄제주</td>\n",
       "      <td>구경,다양,마블,볼거리,사진,생각,아이,어른,종류,캐릭터,피규어 다양,마블,무료입장...</td>\n",
       "    </tr>\n",
       "    <tr>\n",
       "      <th>85</th>\n",
       "      <td>한림공원</td>\n",
       "      <td>강아지,공원,공작새,구경,다양,동굴,반려동물,볼거리,사진,산책,시간,식물,크기,한림...</td>\n",
       "    </tr>\n",
       "    <tr>\n",
       "      <th>86</th>\n",
       "      <td>헬로키티아일랜드</td>\n",
       "      <td>방문,볼거리,사진,생각,시간,아이,여자,키티,핑크,헬로키티 가격,기대,방문,생각,성...</td>\n",
       "    </tr>\n",
       "    <tr>\n",
       "      <th>87</th>\n",
       "      <td>화조원</td>\n",
       "      <td>공연,관리,독수리,동물,먹이,방문,시간,아이,알파카,체험 가까이,공연,동물,맹금류,...</td>\n",
       "    </tr>\n",
       "    <tr>\n",
       "      <th>88</th>\n",
       "      <td>훈데르트바서파크</td>\n",
       "      <td>건축물,볼거리,사진,산책,시간,아이,우도,작가,작품,전시,정은혜 건물,건축물,미술관...</td>\n",
       "    </tr>\n",
       "  </tbody>\n",
       "</table>\n",
       "<p>89 rows × 2 columns</p>\n",
       "</div>"
      ]
     },
     "execution_count": 13,
     "metadata": {},
     "output_type": "execute_result"
    }
   ],
   "execution_count": 13
  },
  {
   "metadata": {
    "ExecuteTime": {
     "end_time": "2025-02-01T04:20:46.013678Z",
     "start_time": "2025-02-01T04:20:45.658971Z"
    }
   },
   "cell_type": "code",
   "source": [
    "from sklearn.feature_extraction.text import TfidfVectorizer\n",
    "from sklearn.metrics.pairwise import cosine_similarity\n",
    "import pandas as pd"
   ],
   "id": "e5c10e10338dd20a",
   "outputs": [],
   "execution_count": 14
  },
  {
   "metadata": {
    "ExecuteTime": {
     "end_time": "2025-02-01T04:20:54.613197Z",
     "start_time": "2025-02-01T04:20:46.162379Z"
    }
   },
   "cell_type": "code",
   "source": [
    "# TF-IDF 벡터화\n",
    "vectorizer = TfidfVectorizer()\n",
    "tfidf_matrix = vectorizer.fit_transform(merged_grouped_df[\"MERGED_CN\"])"
   ],
   "id": "13bdf01ae0ac6afb",
   "outputs": [],
   "execution_count": 15
  },
  {
   "metadata": {
    "ExecuteTime": {
     "end_time": "2025-02-01T04:20:54.635640Z",
     "start_time": "2025-02-01T04:20:54.622336Z"
    }
   },
   "cell_type": "code",
   "source": [
    "# 사용자의 선택 키워드 입력\n",
    "user_keywords = [\"힐링\"]\n",
    "user_vector = vectorizer.transform([\" \".join(user_keywords)])\n",
    "\n",
    "# 코사인 유사도 계산\n",
    "similarities = cosine_similarity(user_vector, tfidf_matrix).flatten()\n",
    "\n",
    "# 유사도가 높은 상위 관광지 추천\n",
    "top_n = 5\n",
    "top_indices = similarities.argsort()[::-1][:top_n]\n",
    "\n",
    "# 추천된 관광지 및 유사도 출력\n",
    "recommended_places = merged_grouped_df.iloc[top_indices].copy()\n",
    "recommended_places[\"Cosine_Similarity\"] = similarities[top_indices]\n",
    "\n",
    "# 추천 결과 출력\n",
    "print(\"\\n 추천된 관광지 목록:\")\n",
    "print(recommended_places[[\"TRRSRT_NM\", \"Cosine_Similarity\"]])"
   ],
   "id": "595cafe573b0b75c",
   "outputs": [
    {
     "name": "stdout",
     "output_type": "stream",
     "text": [
      "\n",
      " 추천된 관광지 목록:\n",
      "   TRRSRT_NM  Cosine_Similarity\n",
      "10     더힐링타임           0.246063\n",
      "30   서귀포치유의숲           0.173231\n",
      "39        숨도           0.160058\n",
      "21       비자림           0.149947\n",
      "81     카멜리아힐           0.070345\n"
     ]
    }
   ],
   "execution_count": 16
  },
  {
   "metadata": {
    "ExecuteTime": {
     "end_time": "2025-02-01T04:21:01.401821Z",
     "start_time": "2025-02-01T04:20:54.730583Z"
    }
   },
   "cell_type": "code",
   "source": [
    "from collections import Counter\n",
    "import pandas as pd\n",
    "import re\n",
    "\n",
    "# 모든 MERGED_CN 텍스트 합치기\n",
    "all_text = \" \".join(merged_grouped_df[\"MERGED_CN\"])\n",
    "\n",
    "# 단어 단위로 분할 (특수문자 제외, 공백 기준)\n",
    "words = re.findall(r'\\b\\w+\\b', all_text)\n",
    "\n",
    "# 단어 빈도 계산\n",
    "word_counts = Counter(words)\n",
    "\n",
    "# 빈도순 정렬\n",
    "word_freq_df = pd.DataFrame(word_counts.items(), columns=[\"Word\", \"Frequency\"]).sort_values(by=\"Frequency\", ascending=False)\n",
    "\n",
    "# 결과 출력\n",
    "print(word_freq_df.head(50))  # 상위 50개 단어 출력"
   ],
   "id": "978402eaea9988f1",
   "outputs": [
    {
     "name": "stdout",
     "output_type": "stream",
     "text": [
      "       Word  Frequency\n",
      "20       방문     710504\n",
      "24       아이     674543\n",
      "33       시간     569677\n",
      "21       사진     467838\n",
      "44       제주     388756\n",
      "79       생각     287533\n",
      "199      야외     273571\n",
      "109      실내     233159\n",
      "118      친절     232626\n",
      "101     볼거리     222093\n",
      "198     제주도     208642\n",
      "4        구경     198734\n",
      "9        카페     197305\n",
      "16       체험     196776\n",
      "741      공연     188349\n",
      "1998     탄산     172326\n",
      "855      온천     172314\n",
      "2755     노천     172308\n",
      "251      직원     170527\n",
      "341      정원     149676\n",
      "599      카트     143404\n",
      "0        가격     138565\n",
      "367      산책     137238\n",
      "97       추천     133276\n",
      "2005    스누피     131886\n",
      "81       여행     131572\n",
      "26       시설     129931\n",
      "34       예약     127437\n",
      "6       박물관     124613\n",
      "103     입장료     123443\n",
      "181      코스     123267\n",
      "272   아이스크림     120190\n",
      "1655     녹차     118902\n",
      "66       다음     117426\n",
      "2347   서바이벌     108298\n",
      "247      이용     107302\n",
      "378   아쿠아리움     106542\n",
      "1229     수국     106129\n",
      "2440    오설록     102492\n",
      "261     자동차     101904\n",
      "1756    피아노     101609\n",
      "229      사슴     101596\n",
      "723      동백      97500\n",
      "31       다양      97459\n",
      "1219    동백꽃      96450\n",
      "697      피로      95798\n",
      "32       대기      93083\n",
      "2003     가든      91762\n",
      "202      장소      91675\n",
      "13       기대      85121\n"
     ]
    }
   ],
   "execution_count": 17
  },
  {
   "metadata": {
    "ExecuteTime": {
     "end_time": "2025-02-01T04:21:18.341541Z",
     "start_time": "2025-02-01T04:21:01.500236Z"
    }
   },
   "cell_type": "code",
   "source": [
    "import pandas as pd\n",
    "import re\n",
    "from collections import Counter\n",
    "import random\n",
    "\n",
    "# 모든 MERGED_CN 텍스트 합치기\n",
    "all_text = \" \".join(merged_grouped_df[\"MERGED_CN\"])\n",
    "\n",
    "# 특수문자 제거 후 단어 분할\n",
    "words = re.findall(r'\\b\\w+\\b', all_text)\n",
    "\n",
    "# 단어 빈도 계산\n",
    "word_counts = Counter(words)\n",
    "\n",
    "# 빈도순 정렬 후 상위 50개 단어 가져오기\n",
    "word_freq_df = pd.DataFrame(word_counts.items(), columns=[\"Word\", \"Frequency\"]).sort_values(by=\"Frequency\", ascending=False)\n",
    "top_50_words = word_freq_df.head(50)[\"Word\"].tolist()\n",
    "\n",
    "# 🔹 직접 선별한 키워드 리스트 (불필요한 단어 제거 후 직접 선택)\n",
    "selected_keywords = [\n",
    "    \"미술\", \"정원\", \"고흐\", \"전시\", \"박물관\", \"자연\", \"산책\", \"역사\", \"야경\", \"공연\",\n",
    "    \"문화\", \"체험\", \"전통\", \"조형물\", \"도보\", \"명소\", \"야외\", \"유적지\", \"건축\", \"산\",\n",
    "    \"호수\", \"바다\", \"축제\", \"사찰\", \"테마파크\", \"도시\", \"휴양지\", \"공원\", \"마을\", \"사진\"\n",
    "]\n",
    "\n",
    "# BASE_YM을 정수형으로 변환\n",
    "merged_df[\"BASE_YM\"] = merged_df[\"BASE_YM\"].astype(int)\n",
    "\n",
    "# 키워드별로 가장 많이 언급된 월 찾기\n",
    "keyword_month_counts = {}\n",
    "for keyword in selected_keywords:\n",
    "    keyword_month_counts[keyword] = (\n",
    "        merged_df[merged_df[\"MERGED_CN\"].str.contains(keyword, na=False)]\n",
    "        .groupby(\"BASE_YM\").size().idxmax()\n",
    "    )\n",
    "\n",
    "# 최종적으로 제공할 랜덤 10개 키워드 선택\n",
    "num_words = min(10, len(selected_keywords))\n",
    "random_words = random.sample(selected_keywords, num_words)\n",
    "\n",
    "# 결과 출력\n",
    "print(\"\\n📌 사용자에게 제시할 랜덤 키워드와 가장 많이 언급된 월:\")\n",
    "for word in random_words:\n",
    "    print(f\"{word}: {keyword_month_counts.get(word, '데이터 없음')}월\")"
   ],
   "id": "f6900e5461515d44",
   "outputs": [
    {
     "name": "stderr",
     "output_type": "stream",
     "text": [
      "C:\\Users\\user\\AppData\\Local\\Temp\\ipykernel_11060\\1823896857.py:27: SettingWithCopyWarning: \n",
      "A value is trying to be set on a copy of a slice from a DataFrame.\n",
      "Try using .loc[row_indexer,col_indexer] = value instead\n",
      "\n",
      "See the caveats in the documentation: https://pandas.pydata.org/pandas-docs/stable/user_guide/indexing.html#returning-a-view-versus-a-copy\n",
      "  merged_df[\"BASE_YM\"] = merged_df[\"BASE_YM\"].astype(int)\n"
     ]
    },
    {
     "ename": "ValueError",
     "evalue": "attempt to get argmax of an empty sequence",
     "output_type": "error",
     "traceback": [
      "\u001B[1;31m---------------------------------------------------------------------------\u001B[0m",
      "\u001B[1;31mValueError\u001B[0m                                Traceback (most recent call last)",
      "Cell \u001B[1;32mIn[18], line 34\u001B[0m\n\u001B[0;32m     30\u001B[0m keyword_month_counts \u001B[38;5;241m=\u001B[39m {}\n\u001B[0;32m     31\u001B[0m \u001B[38;5;28;01mfor\u001B[39;00m keyword \u001B[38;5;129;01min\u001B[39;00m selected_keywords:\n\u001B[0;32m     32\u001B[0m     keyword_month_counts[keyword] \u001B[38;5;241m=\u001B[39m (\n\u001B[0;32m     33\u001B[0m         merged_df[merged_df[\u001B[38;5;124m\"\u001B[39m\u001B[38;5;124mMERGED_CN\u001B[39m\u001B[38;5;124m\"\u001B[39m]\u001B[38;5;241m.\u001B[39mstr\u001B[38;5;241m.\u001B[39mcontains(keyword, na\u001B[38;5;241m=\u001B[39m\u001B[38;5;28;01mFalse\u001B[39;00m)]\n\u001B[1;32m---> 34\u001B[0m         \u001B[38;5;241m.\u001B[39mgroupby(\u001B[38;5;124m\"\u001B[39m\u001B[38;5;124mBASE_YM\u001B[39m\u001B[38;5;124m\"\u001B[39m)\u001B[38;5;241m.\u001B[39msize()\u001B[38;5;241m.\u001B[39midxmax()\n\u001B[0;32m     35\u001B[0m     )\n\u001B[0;32m     37\u001B[0m \u001B[38;5;66;03m# 최종적으로 제공할 랜덤 10개 키워드 선택\u001B[39;00m\n\u001B[0;32m     38\u001B[0m num_words \u001B[38;5;241m=\u001B[39m \u001B[38;5;28mmin\u001B[39m(\u001B[38;5;241m10\u001B[39m, \u001B[38;5;28mlen\u001B[39m(selected_keywords))\n",
      "File \u001B[1;32m~\\anaconda3\\Lib\\site-packages\\pandas\\core\\series.py:2761\u001B[0m, in \u001B[0;36mSeries.idxmax\u001B[1;34m(self, axis, skipna, *args, **kwargs)\u001B[0m\n\u001B[0;32m   2756\u001B[0m \u001B[38;5;28;01mwith\u001B[39;00m warnings\u001B[38;5;241m.\u001B[39mcatch_warnings():\n\u001B[0;32m   2757\u001B[0m     \u001B[38;5;66;03m# TODO(3.0): this catching/filtering can be removed\u001B[39;00m\n\u001B[0;32m   2758\u001B[0m     \u001B[38;5;66;03m# ignore warning produced by argmax since we will issue a different\u001B[39;00m\n\u001B[0;32m   2759\u001B[0m     \u001B[38;5;66;03m#  warning for argmax\u001B[39;00m\n\u001B[0;32m   2760\u001B[0m     warnings\u001B[38;5;241m.\u001B[39msimplefilter(\u001B[38;5;124m\"\u001B[39m\u001B[38;5;124mignore\u001B[39m\u001B[38;5;124m\"\u001B[39m)\n\u001B[1;32m-> 2761\u001B[0m     i \u001B[38;5;241m=\u001B[39m \u001B[38;5;28mself\u001B[39m\u001B[38;5;241m.\u001B[39margmax(axis, skipna, \u001B[38;5;241m*\u001B[39margs, \u001B[38;5;241m*\u001B[39m\u001B[38;5;241m*\u001B[39mkwargs)\n\u001B[0;32m   2763\u001B[0m \u001B[38;5;28;01mif\u001B[39;00m i \u001B[38;5;241m==\u001B[39m \u001B[38;5;241m-\u001B[39m\u001B[38;5;241m1\u001B[39m:\n\u001B[0;32m   2764\u001B[0m     \u001B[38;5;66;03m# GH#43587 give correct NA value for Index.\u001B[39;00m\n\u001B[0;32m   2765\u001B[0m     warnings\u001B[38;5;241m.\u001B[39mwarn(\n\u001B[0;32m   2766\u001B[0m         \u001B[38;5;124mf\u001B[39m\u001B[38;5;124m\"\u001B[39m\u001B[38;5;124mThe behavior of \u001B[39m\u001B[38;5;132;01m{\u001B[39;00m\u001B[38;5;28mtype\u001B[39m(\u001B[38;5;28mself\u001B[39m)\u001B[38;5;241m.\u001B[39m\u001B[38;5;18m__name__\u001B[39m\u001B[38;5;132;01m}\u001B[39;00m\u001B[38;5;124m.idxmax with all-NA \u001B[39m\u001B[38;5;124m\"\u001B[39m\n\u001B[0;32m   2767\u001B[0m         \u001B[38;5;124m\"\u001B[39m\u001B[38;5;124mvalues, or any-NA and skipna=False, is deprecated. In a future \u001B[39m\u001B[38;5;124m\"\u001B[39m\n\u001B[1;32m   (...)\u001B[0m\n\u001B[0;32m   2770\u001B[0m         stacklevel\u001B[38;5;241m=\u001B[39mfind_stack_level(),\n\u001B[0;32m   2771\u001B[0m     )\n",
      "File \u001B[1;32m~\\anaconda3\\Lib\\site-packages\\pandas\\core\\base.py:751\u001B[0m, in \u001B[0;36mIndexOpsMixin.argmax\u001B[1;34m(self, axis, skipna, *args, **kwargs)\u001B[0m\n\u001B[0;32m    749\u001B[0m         \u001B[38;5;28;01mreturn\u001B[39;00m delegate\u001B[38;5;241m.\u001B[39margmax()\n\u001B[0;32m    750\u001B[0m \u001B[38;5;28;01melse\u001B[39;00m:\n\u001B[1;32m--> 751\u001B[0m     result \u001B[38;5;241m=\u001B[39m nanops\u001B[38;5;241m.\u001B[39mnanargmax(delegate, skipna\u001B[38;5;241m=\u001B[39mskipna)\n\u001B[0;32m    752\u001B[0m     \u001B[38;5;28;01mif\u001B[39;00m result \u001B[38;5;241m==\u001B[39m \u001B[38;5;241m-\u001B[39m\u001B[38;5;241m1\u001B[39m:\n\u001B[0;32m    753\u001B[0m         warnings\u001B[38;5;241m.\u001B[39mwarn(\n\u001B[0;32m    754\u001B[0m             \u001B[38;5;124mf\u001B[39m\u001B[38;5;124m\"\u001B[39m\u001B[38;5;124mThe behavior of \u001B[39m\u001B[38;5;132;01m{\u001B[39;00m\u001B[38;5;28mtype\u001B[39m(\u001B[38;5;28mself\u001B[39m)\u001B[38;5;241m.\u001B[39m\u001B[38;5;18m__name__\u001B[39m\u001B[38;5;132;01m}\u001B[39;00m\u001B[38;5;124m.argmax/argmin \u001B[39m\u001B[38;5;124m\"\u001B[39m\n\u001B[0;32m    755\u001B[0m             \u001B[38;5;124m\"\u001B[39m\u001B[38;5;124mwith skipna=False and NAs, or with all-NAs is deprecated. \u001B[39m\u001B[38;5;124m\"\u001B[39m\n\u001B[1;32m   (...)\u001B[0m\n\u001B[0;32m    758\u001B[0m             stacklevel\u001B[38;5;241m=\u001B[39mfind_stack_level(),\n\u001B[0;32m    759\u001B[0m         )\n",
      "File \u001B[1;32m~\\anaconda3\\Lib\\site-packages\\pandas\\core\\nanops.py:1148\u001B[0m, in \u001B[0;36mnanargmax\u001B[1;34m(values, axis, skipna, mask)\u001B[0m\n\u001B[0;32m   1116\u001B[0m \u001B[38;5;250m\u001B[39m\u001B[38;5;124;03m\"\"\"\u001B[39;00m\n\u001B[0;32m   1117\u001B[0m \u001B[38;5;124;03mParameters\u001B[39;00m\n\u001B[0;32m   1118\u001B[0m \u001B[38;5;124;03m----------\u001B[39;00m\n\u001B[1;32m   (...)\u001B[0m\n\u001B[0;32m   1145\u001B[0m \u001B[38;5;124;03marray([2, 2, 1, 1])\u001B[39;00m\n\u001B[0;32m   1146\u001B[0m \u001B[38;5;124;03m\"\"\"\u001B[39;00m\n\u001B[0;32m   1147\u001B[0m values, mask \u001B[38;5;241m=\u001B[39m _get_values(values, \u001B[38;5;28;01mTrue\u001B[39;00m, fill_value_typ\u001B[38;5;241m=\u001B[39m\u001B[38;5;124m\"\u001B[39m\u001B[38;5;124m-inf\u001B[39m\u001B[38;5;124m\"\u001B[39m, mask\u001B[38;5;241m=\u001B[39mmask)\n\u001B[1;32m-> 1148\u001B[0m result \u001B[38;5;241m=\u001B[39m values\u001B[38;5;241m.\u001B[39margmax(axis)\n\u001B[0;32m   1149\u001B[0m \u001B[38;5;66;03m# error: Argument 1 to \"_maybe_arg_null_out\" has incompatible type \"Any |\u001B[39;00m\n\u001B[0;32m   1150\u001B[0m \u001B[38;5;66;03m# signedinteger[Any]\"; expected \"ndarray[Any, Any]\"\u001B[39;00m\n\u001B[0;32m   1151\u001B[0m result \u001B[38;5;241m=\u001B[39m _maybe_arg_null_out(result, axis, mask, skipna)  \u001B[38;5;66;03m# type: ignore[arg-type]\u001B[39;00m\n",
      "\u001B[1;31mValueError\u001B[0m: attempt to get argmax of an empty sequence"
     ]
    }
   ],
   "execution_count": 18
  },
  {
   "metadata": {
    "ExecuteTime": {
     "end_time": "2025-02-01T04:21:18.362097100Z",
     "start_time": "2025-01-30T18:18:46.780002Z"
    }
   },
   "cell_type": "code",
   "source": [
    "import random\n",
    "import pandas as pd\n",
    "import re\n",
    "from collections import Counter\n",
    "\n",
    "# 모든 MERGED_CN 텍스트 합치기\n",
    "all_text = \" \".join(merged_grouped_df[\"MERGED_CN\"])\n",
    "\n",
    "# 특수문자 제거 후 단어 분할 (불필요한 공백 포함 방지)\n",
    "words = re.findall(r'\\b\\w+\\b', all_text)\n",
    "\n",
    "# 단어 빈도 계산\n",
    "word_counts = Counter(words)\n",
    "\n",
    "# 빈도순 정렬\n",
    "word_freq_df = pd.DataFrame(word_counts.items(), columns=[\"Word\", \"Frequency\"]).sort_values(by=\"Frequency\", ascending=False)\n",
    "\n",
    "# 상위 5% 단어 제외 (너무 흔한 단어 방지)\n",
    "top_n = int(len(word_freq_df) * 0.05)\n",
    "filtered_words = word_freq_df.iloc[top_n:][\"Word\"].tolist()\n",
    "\n",
    "# 단어 개수가 10개보다 적을 경우 대비\n",
    "num_words = min(10, len(filtered_words))\n",
    "\n",
    "# 랜덤 10개 선택\n",
    "random_words = random.sample(filtered_words, num_words)\n",
    "\n",
    "# 결과 출력\n",
    "print(\"📌 사용자에게 제시할 랜덤 키워드:\", random_words)"
   ],
   "id": "188579775882526",
   "outputs": [
    {
     "name": "stdout",
     "output_type": "stream",
     "text": [
      "📌 사용자에게 제시할 랜덤 키워드: ['하이라이트', '수압', '차별', '도보', '상점', '풀기', '동심', '크림트', '과정', '개발']\n"
     ]
    }
   ],
   "execution_count": 60
  },
  {
   "metadata": {
    "ExecuteTime": {
     "end_time": "2025-02-01T04:21:18.364119400Z",
     "start_time": "2025-01-30T18:12:42.356133Z"
    }
   },
   "cell_type": "code",
   "source": [
    "# \"E:\\문화빅데이터플랫폼\\cleaned_data\"\n",
    "# \n",
    "# merged_grouped_df.to_csv(r\"E:\\문화빅데이터플랫폼\\cleaned_data\\merged_grouped_df.csv\", index=False)"
   ],
   "id": "43e37f904eca3605",
   "outputs": [
    {
     "name": "stderr",
     "output_type": "stream",
     "text": [
      "<>:1: SyntaxWarning: invalid escape sequence '\\c'\n",
      "<>:1: SyntaxWarning: invalid escape sequence '\\c'\n",
      "C:\\Users\\user\\AppData\\Local\\Temp\\ipykernel_22572\\335958917.py:1: SyntaxWarning: invalid escape sequence '\\c'\n",
      "  \"E:\\문화빅데이터플랫폼\\cleaned_data\"\n"
     ]
    }
   ],
   "execution_count": 53
  },
  {
   "metadata": {},
   "cell_type": "code",
   "outputs": [],
   "execution_count": null,
   "source": "",
   "id": "9db5a409008f532d"
  }
 ],
 "metadata": {
  "kernelspec": {
   "display_name": "Python 3",
   "language": "python",
   "name": "python3"
  },
  "language_info": {
   "codemirror_mode": {
    "name": "ipython",
    "version": 2
   },
   "file_extension": ".py",
   "mimetype": "text/x-python",
   "name": "python",
   "nbconvert_exporter": "python",
   "pygments_lexer": "ipython2",
   "version": "2.7.6"
  }
 },
 "nbformat": 4,
 "nbformat_minor": 5
}
