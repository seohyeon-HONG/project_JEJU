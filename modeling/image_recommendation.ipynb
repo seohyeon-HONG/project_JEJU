{
 "cells": [
  {
   "metadata": {},
   "cell_type": "markdown",
   "source": "이미지 선택과 추천 알고리즘",
   "id": "f2eb90783b7031b1"
  },
  {
   "cell_type": "code",
   "id": "initial_id",
   "metadata": {
    "collapsed": true,
    "ExecuteTime": {
     "end_time": "2025-02-01T07:26:52.401057Z",
     "start_time": "2025-02-01T07:26:52.385276Z"
    }
   },
   "source": "import pandas as pd ",
   "outputs": [],
   "execution_count": 1
  },
  {
   "metadata": {
    "ExecuteTime": {
     "end_time": "2025-02-01T06:44:01.654032Z",
     "start_time": "2025-02-01T06:44:01.646031Z"
    }
   },
   "cell_type": "code",
   "source": "",
   "id": "c102ca94f4a3097",
   "outputs": [],
   "execution_count": null
  },
  {
   "metadata": {
    "ExecuteTime": {
     "end_time": "2025-02-01T07:26:54.396337Z",
     "start_time": "2025-02-01T07:26:54.363934Z"
    }
   },
   "cell_type": "code",
   "source": [
    "file_path_01 = '01.csv' # validation 1669 장으로 클러스터링한 것. 파일경로+클러스터 번호\n",
    "clustered_images = pd.read_csv(file_path_01)"
   ],
   "id": "4813c8a9eac95f9b",
   "outputs": [],
   "execution_count": 2
  },
  {
   "metadata": {
    "ExecuteTime": {
     "end_time": "2025-02-01T07:26:56.291648Z",
     "start_time": "2025-02-01T07:26:56.258150Z"
    }
   },
   "cell_type": "code",
   "source": "clustered_images",
   "id": "f95598762db0d498",
   "outputs": [
    {
     "data": {
      "text/plain": [
       "                                             Image_Path  Cluster_Label\n",
       "0     E:\\AI_HUB\\data\\Validation\\raw_data\\VS_photo\\e0...             -1\n",
       "1     E:\\AI_HUB\\data\\Validation\\raw_data\\VS_photo\\e0...             24\n",
       "2     E:\\AI_HUB\\data\\Validation\\raw_data\\VS_photo\\e0...             -1\n",
       "3     E:\\AI_HUB\\data\\Validation\\raw_data\\VS_photo\\e0...             -1\n",
       "4     E:\\AI_HUB\\data\\Validation\\raw_data\\VS_photo\\e0...             24\n",
       "...                                                 ...            ...\n",
       "1664  E:\\AI_HUB\\data\\Validation\\raw_data\\VS_photo\\h0...             -1\n",
       "1665  E:\\AI_HUB\\data\\Validation\\raw_data\\VS_photo\\h0...             -1\n",
       "1666  E:\\AI_HUB\\data\\Validation\\raw_data\\VS_photo\\h0...             -1\n",
       "1667  E:\\AI_HUB\\data\\Validation\\raw_data\\VS_photo\\h0...             -1\n",
       "1668  E:\\AI_HUB\\data\\Validation\\raw_data\\VS_photo\\h0...              0\n",
       "\n",
       "[1669 rows x 2 columns]"
      ],
      "text/html": [
       "<div>\n",
       "<style scoped>\n",
       "    .dataframe tbody tr th:only-of-type {\n",
       "        vertical-align: middle;\n",
       "    }\n",
       "\n",
       "    .dataframe tbody tr th {\n",
       "        vertical-align: top;\n",
       "    }\n",
       "\n",
       "    .dataframe thead th {\n",
       "        text-align: right;\n",
       "    }\n",
       "</style>\n",
       "<table border=\"1\" class=\"dataframe\">\n",
       "  <thead>\n",
       "    <tr style=\"text-align: right;\">\n",
       "      <th></th>\n",
       "      <th>Image_Path</th>\n",
       "      <th>Cluster_Label</th>\n",
       "    </tr>\n",
       "  </thead>\n",
       "  <tbody>\n",
       "    <tr>\n",
       "      <th>0</th>\n",
       "      <td>E:\\AI_HUB\\data\\Validation\\raw_data\\VS_photo\\e0...</td>\n",
       "      <td>-1</td>\n",
       "    </tr>\n",
       "    <tr>\n",
       "      <th>1</th>\n",
       "      <td>E:\\AI_HUB\\data\\Validation\\raw_data\\VS_photo\\e0...</td>\n",
       "      <td>24</td>\n",
       "    </tr>\n",
       "    <tr>\n",
       "      <th>2</th>\n",
       "      <td>E:\\AI_HUB\\data\\Validation\\raw_data\\VS_photo\\e0...</td>\n",
       "      <td>-1</td>\n",
       "    </tr>\n",
       "    <tr>\n",
       "      <th>3</th>\n",
       "      <td>E:\\AI_HUB\\data\\Validation\\raw_data\\VS_photo\\e0...</td>\n",
       "      <td>-1</td>\n",
       "    </tr>\n",
       "    <tr>\n",
       "      <th>4</th>\n",
       "      <td>E:\\AI_HUB\\data\\Validation\\raw_data\\VS_photo\\e0...</td>\n",
       "      <td>24</td>\n",
       "    </tr>\n",
       "    <tr>\n",
       "      <th>...</th>\n",
       "      <td>...</td>\n",
       "      <td>...</td>\n",
       "    </tr>\n",
       "    <tr>\n",
       "      <th>1664</th>\n",
       "      <td>E:\\AI_HUB\\data\\Validation\\raw_data\\VS_photo\\h0...</td>\n",
       "      <td>-1</td>\n",
       "    </tr>\n",
       "    <tr>\n",
       "      <th>1665</th>\n",
       "      <td>E:\\AI_HUB\\data\\Validation\\raw_data\\VS_photo\\h0...</td>\n",
       "      <td>-1</td>\n",
       "    </tr>\n",
       "    <tr>\n",
       "      <th>1666</th>\n",
       "      <td>E:\\AI_HUB\\data\\Validation\\raw_data\\VS_photo\\h0...</td>\n",
       "      <td>-1</td>\n",
       "    </tr>\n",
       "    <tr>\n",
       "      <th>1667</th>\n",
       "      <td>E:\\AI_HUB\\data\\Validation\\raw_data\\VS_photo\\h0...</td>\n",
       "      <td>-1</td>\n",
       "    </tr>\n",
       "    <tr>\n",
       "      <th>1668</th>\n",
       "      <td>E:\\AI_HUB\\data\\Validation\\raw_data\\VS_photo\\h0...</td>\n",
       "      <td>0</td>\n",
       "    </tr>\n",
       "  </tbody>\n",
       "</table>\n",
       "<p>1669 rows × 2 columns</p>\n",
       "</div>"
      ]
     },
     "execution_count": 3,
     "metadata": {},
     "output_type": "execute_result"
    }
   ],
   "execution_count": 3
  },
  {
   "metadata": {
    "ExecuteTime": {
     "end_time": "2025-02-01T07:26:59.235155Z",
     "start_time": "2025-02-01T07:26:58.802771Z"
    }
   },
   "cell_type": "code",
   "source": [
    "tn_tour_photo_merged_path = r\"E:\\AI_HUB\\data\\concatenated\\tn_tour_photo_merged.csv\"\n",
    "tn_tour_photo_merged = pd.read_csv(tn_tour_photo_merged_path)"
   ],
   "id": "29dcbeeef0cb01c3",
   "outputs": [],
   "execution_count": 4
  },
  {
   "metadata": {
    "ExecuteTime": {
     "end_time": "2025-02-01T07:27:00.869838Z",
     "start_time": "2025-02-01T07:27:00.837818Z"
    }
   },
   "cell_type": "code",
   "source": "tn_tour_photo_merged.info()",
   "id": "150e06443484b710",
   "outputs": [
    {
     "name": "stdout",
     "output_type": "stream",
     "text": [
      "<class 'pandas.core.frame.DataFrame'>\n",
      "RangeIndex: 16996 entries, 0 to 16995\n",
      "Data columns (total 6 columns):\n",
      " #   Column              Non-Null Count  Dtype  \n",
      "---  ------              --------------  -----  \n",
      " 0   VISIT_AREA_ID       16996 non-null  int64  \n",
      " 1   VISIT_AREA_NM       16996 non-null  object \n",
      " 2   PHOTO_FILE_NM       16996 non-null  object \n",
      " 3   PHOTO_FILE_DT       16996 non-null  object \n",
      " 4   PHOTO_FILE_X_COORD  16996 non-null  float64\n",
      " 5   PHOTO_FILE_Y_COORD  16996 non-null  float64\n",
      "dtypes: float64(2), int64(1), object(3)\n",
      "memory usage: 796.8+ KB\n"
     ]
    }
   ],
   "execution_count": 5
  },
  {
   "metadata": {
    "ExecuteTime": {
     "end_time": "2025-02-01T06:44:05.381102Z",
     "start_time": "2025-02-01T06:44:05.349104Z"
    }
   },
   "cell_type": "code",
   "source": "tn_tour_photo_merged",
   "id": "c4313f23b542d4b9",
   "outputs": [
    {
     "data": {
      "text/plain": [
       "       VISIT_AREA_ID    VISIT_AREA_NM          PHOTO_FILE_NM  \\\n",
       "0         2307010002          제주 국제공항  g00317501099p0002.jpg   \n",
       "1         2307010002          제주 국제공항  h00064701002p0002.jpg   \n",
       "2         2307010002          제주 국제공항  e00331001002p0001.jpg   \n",
       "3         2307010002          제주 국제공항  e00349601003p0001.jpg   \n",
       "4         2307010002          제주 국제공항  e00368501002p0001.jpg   \n",
       "...              ...              ...                    ...   \n",
       "16991     2307200007          제주 국제공항  h00239801007p0018.jpg   \n",
       "16992     2306170003             교에 향  h00106002006p0019.jpg   \n",
       "16993     2309170004  스타벅스 제주 용담 DT 점  h00664101004p0019.jpg   \n",
       "16994     2306250003          제주 국제공항  h00124901004p0020.jpg   \n",
       "16995     2309160005         무민 랜드 제주  h00666001006p0020.jpg   \n",
       "\n",
       "             PHOTO_FILE_DT  PHOTO_FILE_X_COORD  PHOTO_FILE_Y_COORD  \n",
       "0      2023-07-01 19:57:54          126.388008           34.732722  \n",
       "1      2023-07-01 11:39:46          128.324962           34.649425  \n",
       "2      2023-07-01 13:51:50          126.607156           37.553997  \n",
       "3      2023-07-01 09:17:26          126.618821           37.475521  \n",
       "4      2023-07-01 12:48:43          126.606345           37.310702  \n",
       "...                    ...                 ...                 ...  \n",
       "16991  2023-07-20 16:17:39          124.609208           37.962464  \n",
       "16992  2023-06-17 15:00:13          126.669906           33.426525  \n",
       "16993  2023-09-17 18:09:03          126.737097           33.555583  \n",
       "16994  2023-06-25 22:31:45          126.322878           33.254447  \n",
       "16995  2023-09-16 15:35:34          126.587106           33.523411  \n",
       "\n",
       "[16996 rows x 6 columns]"
      ],
      "text/html": [
       "<div>\n",
       "<style scoped>\n",
       "    .dataframe tbody tr th:only-of-type {\n",
       "        vertical-align: middle;\n",
       "    }\n",
       "\n",
       "    .dataframe tbody tr th {\n",
       "        vertical-align: top;\n",
       "    }\n",
       "\n",
       "    .dataframe thead th {\n",
       "        text-align: right;\n",
       "    }\n",
       "</style>\n",
       "<table border=\"1\" class=\"dataframe\">\n",
       "  <thead>\n",
       "    <tr style=\"text-align: right;\">\n",
       "      <th></th>\n",
       "      <th>VISIT_AREA_ID</th>\n",
       "      <th>VISIT_AREA_NM</th>\n",
       "      <th>PHOTO_FILE_NM</th>\n",
       "      <th>PHOTO_FILE_DT</th>\n",
       "      <th>PHOTO_FILE_X_COORD</th>\n",
       "      <th>PHOTO_FILE_Y_COORD</th>\n",
       "    </tr>\n",
       "  </thead>\n",
       "  <tbody>\n",
       "    <tr>\n",
       "      <th>0</th>\n",
       "      <td>2307010002</td>\n",
       "      <td>제주 국제공항</td>\n",
       "      <td>g00317501099p0002.jpg</td>\n",
       "      <td>2023-07-01 19:57:54</td>\n",
       "      <td>126.388008</td>\n",
       "      <td>34.732722</td>\n",
       "    </tr>\n",
       "    <tr>\n",
       "      <th>1</th>\n",
       "      <td>2307010002</td>\n",
       "      <td>제주 국제공항</td>\n",
       "      <td>h00064701002p0002.jpg</td>\n",
       "      <td>2023-07-01 11:39:46</td>\n",
       "      <td>128.324962</td>\n",
       "      <td>34.649425</td>\n",
       "    </tr>\n",
       "    <tr>\n",
       "      <th>2</th>\n",
       "      <td>2307010002</td>\n",
       "      <td>제주 국제공항</td>\n",
       "      <td>e00331001002p0001.jpg</td>\n",
       "      <td>2023-07-01 13:51:50</td>\n",
       "      <td>126.607156</td>\n",
       "      <td>37.553997</td>\n",
       "    </tr>\n",
       "    <tr>\n",
       "      <th>3</th>\n",
       "      <td>2307010002</td>\n",
       "      <td>제주 국제공항</td>\n",
       "      <td>e00349601003p0001.jpg</td>\n",
       "      <td>2023-07-01 09:17:26</td>\n",
       "      <td>126.618821</td>\n",
       "      <td>37.475521</td>\n",
       "    </tr>\n",
       "    <tr>\n",
       "      <th>4</th>\n",
       "      <td>2307010002</td>\n",
       "      <td>제주 국제공항</td>\n",
       "      <td>e00368501002p0001.jpg</td>\n",
       "      <td>2023-07-01 12:48:43</td>\n",
       "      <td>126.606345</td>\n",
       "      <td>37.310702</td>\n",
       "    </tr>\n",
       "    <tr>\n",
       "      <th>...</th>\n",
       "      <td>...</td>\n",
       "      <td>...</td>\n",
       "      <td>...</td>\n",
       "      <td>...</td>\n",
       "      <td>...</td>\n",
       "      <td>...</td>\n",
       "    </tr>\n",
       "    <tr>\n",
       "      <th>16991</th>\n",
       "      <td>2307200007</td>\n",
       "      <td>제주 국제공항</td>\n",
       "      <td>h00239801007p0018.jpg</td>\n",
       "      <td>2023-07-20 16:17:39</td>\n",
       "      <td>124.609208</td>\n",
       "      <td>37.962464</td>\n",
       "    </tr>\n",
       "    <tr>\n",
       "      <th>16992</th>\n",
       "      <td>2306170003</td>\n",
       "      <td>교에 향</td>\n",
       "      <td>h00106002006p0019.jpg</td>\n",
       "      <td>2023-06-17 15:00:13</td>\n",
       "      <td>126.669906</td>\n",
       "      <td>33.426525</td>\n",
       "    </tr>\n",
       "    <tr>\n",
       "      <th>16993</th>\n",
       "      <td>2309170004</td>\n",
       "      <td>스타벅스 제주 용담 DT 점</td>\n",
       "      <td>h00664101004p0019.jpg</td>\n",
       "      <td>2023-09-17 18:09:03</td>\n",
       "      <td>126.737097</td>\n",
       "      <td>33.555583</td>\n",
       "    </tr>\n",
       "    <tr>\n",
       "      <th>16994</th>\n",
       "      <td>2306250003</td>\n",
       "      <td>제주 국제공항</td>\n",
       "      <td>h00124901004p0020.jpg</td>\n",
       "      <td>2023-06-25 22:31:45</td>\n",
       "      <td>126.322878</td>\n",
       "      <td>33.254447</td>\n",
       "    </tr>\n",
       "    <tr>\n",
       "      <th>16995</th>\n",
       "      <td>2309160005</td>\n",
       "      <td>무민 랜드 제주</td>\n",
       "      <td>h00666001006p0020.jpg</td>\n",
       "      <td>2023-09-16 15:35:34</td>\n",
       "      <td>126.587106</td>\n",
       "      <td>33.523411</td>\n",
       "    </tr>\n",
       "  </tbody>\n",
       "</table>\n",
       "<p>16996 rows × 6 columns</p>\n",
       "</div>"
      ]
     },
     "execution_count": 13,
     "metadata": {},
     "output_type": "execute_result"
    }
   ],
   "execution_count": 13
  },
  {
   "metadata": {
    "ExecuteTime": {
     "end_time": "2025-02-01T07:27:03.778722Z",
     "start_time": "2025-02-01T07:27:03.763003Z"
    }
   },
   "cell_type": "code",
   "source": [
    "# 이미지가 저장된 폴더 경로\n",
    "image_folder = r\"E:\\AI_HUB\\data\\Validation\\raw_data\\VS_photo\"\n",
    "\n",
    "# PHOTO_FILE_NM을 전체 경로로 변환\n",
    "clustered_images[\"PHOTO_FILE_NM\"] = clustered_images[\"Image_Path\"].apply(lambda x: x.split(\"\\\\\")[-1])"
   ],
   "id": "8d5073940b447f1b",
   "outputs": [],
   "execution_count": 6
  },
  {
   "metadata": {
    "ExecuteTime": {
     "end_time": "2025-02-01T06:44:06.829662Z",
     "start_time": "2025-02-01T06:44:06.787444Z"
    }
   },
   "cell_type": "code",
   "source": "clustered_images",
   "id": "d7680e6e76155799",
   "outputs": [
    {
     "data": {
      "text/plain": [
       "                                             Image_Path  Cluster_Label  \\\n",
       "0     E:\\AI_HUB\\data\\Validation\\raw_data\\VS_photo\\e0...             -1   \n",
       "1     E:\\AI_HUB\\data\\Validation\\raw_data\\VS_photo\\e0...             24   \n",
       "2     E:\\AI_HUB\\data\\Validation\\raw_data\\VS_photo\\e0...             -1   \n",
       "3     E:\\AI_HUB\\data\\Validation\\raw_data\\VS_photo\\e0...             -1   \n",
       "4     E:\\AI_HUB\\data\\Validation\\raw_data\\VS_photo\\e0...             24   \n",
       "...                                                 ...            ...   \n",
       "1664  E:\\AI_HUB\\data\\Validation\\raw_data\\VS_photo\\h0...             -1   \n",
       "1665  E:\\AI_HUB\\data\\Validation\\raw_data\\VS_photo\\h0...             -1   \n",
       "1666  E:\\AI_HUB\\data\\Validation\\raw_data\\VS_photo\\h0...             -1   \n",
       "1667  E:\\AI_HUB\\data\\Validation\\raw_data\\VS_photo\\h0...             -1   \n",
       "1668  E:\\AI_HUB\\data\\Validation\\raw_data\\VS_photo\\h0...              0   \n",
       "\n",
       "              PHOTO_FILE_NM  \n",
       "0     e00106401002p0004.jpg  \n",
       "1     e00271201099p0004.jpg  \n",
       "2     e00301501004p0004.jpg  \n",
       "3     e00123601099p0008.jpg  \n",
       "4     e00123601003p0009.jpg  \n",
       "...                     ...  \n",
       "1664  h00667001002p0005.jpg  \n",
       "1665  h00668401003p0001.jpg  \n",
       "1666  h00675301002p0003.jpg  \n",
       "1667  h00665801005p0006.jpg  \n",
       "1668  h00666001006p0020.jpg  \n",
       "\n",
       "[1669 rows x 3 columns]"
      ],
      "text/html": [
       "<div>\n",
       "<style scoped>\n",
       "    .dataframe tbody tr th:only-of-type {\n",
       "        vertical-align: middle;\n",
       "    }\n",
       "\n",
       "    .dataframe tbody tr th {\n",
       "        vertical-align: top;\n",
       "    }\n",
       "\n",
       "    .dataframe thead th {\n",
       "        text-align: right;\n",
       "    }\n",
       "</style>\n",
       "<table border=\"1\" class=\"dataframe\">\n",
       "  <thead>\n",
       "    <tr style=\"text-align: right;\">\n",
       "      <th></th>\n",
       "      <th>Image_Path</th>\n",
       "      <th>Cluster_Label</th>\n",
       "      <th>PHOTO_FILE_NM</th>\n",
       "    </tr>\n",
       "  </thead>\n",
       "  <tbody>\n",
       "    <tr>\n",
       "      <th>0</th>\n",
       "      <td>E:\\AI_HUB\\data\\Validation\\raw_data\\VS_photo\\e0...</td>\n",
       "      <td>-1</td>\n",
       "      <td>e00106401002p0004.jpg</td>\n",
       "    </tr>\n",
       "    <tr>\n",
       "      <th>1</th>\n",
       "      <td>E:\\AI_HUB\\data\\Validation\\raw_data\\VS_photo\\e0...</td>\n",
       "      <td>24</td>\n",
       "      <td>e00271201099p0004.jpg</td>\n",
       "    </tr>\n",
       "    <tr>\n",
       "      <th>2</th>\n",
       "      <td>E:\\AI_HUB\\data\\Validation\\raw_data\\VS_photo\\e0...</td>\n",
       "      <td>-1</td>\n",
       "      <td>e00301501004p0004.jpg</td>\n",
       "    </tr>\n",
       "    <tr>\n",
       "      <th>3</th>\n",
       "      <td>E:\\AI_HUB\\data\\Validation\\raw_data\\VS_photo\\e0...</td>\n",
       "      <td>-1</td>\n",
       "      <td>e00123601099p0008.jpg</td>\n",
       "    </tr>\n",
       "    <tr>\n",
       "      <th>4</th>\n",
       "      <td>E:\\AI_HUB\\data\\Validation\\raw_data\\VS_photo\\e0...</td>\n",
       "      <td>24</td>\n",
       "      <td>e00123601003p0009.jpg</td>\n",
       "    </tr>\n",
       "    <tr>\n",
       "      <th>...</th>\n",
       "      <td>...</td>\n",
       "      <td>...</td>\n",
       "      <td>...</td>\n",
       "    </tr>\n",
       "    <tr>\n",
       "      <th>1664</th>\n",
       "      <td>E:\\AI_HUB\\data\\Validation\\raw_data\\VS_photo\\h0...</td>\n",
       "      <td>-1</td>\n",
       "      <td>h00667001002p0005.jpg</td>\n",
       "    </tr>\n",
       "    <tr>\n",
       "      <th>1665</th>\n",
       "      <td>E:\\AI_HUB\\data\\Validation\\raw_data\\VS_photo\\h0...</td>\n",
       "      <td>-1</td>\n",
       "      <td>h00668401003p0001.jpg</td>\n",
       "    </tr>\n",
       "    <tr>\n",
       "      <th>1666</th>\n",
       "      <td>E:\\AI_HUB\\data\\Validation\\raw_data\\VS_photo\\h0...</td>\n",
       "      <td>-1</td>\n",
       "      <td>h00675301002p0003.jpg</td>\n",
       "    </tr>\n",
       "    <tr>\n",
       "      <th>1667</th>\n",
       "      <td>E:\\AI_HUB\\data\\Validation\\raw_data\\VS_photo\\h0...</td>\n",
       "      <td>-1</td>\n",
       "      <td>h00665801005p0006.jpg</td>\n",
       "    </tr>\n",
       "    <tr>\n",
       "      <th>1668</th>\n",
       "      <td>E:\\AI_HUB\\data\\Validation\\raw_data\\VS_photo\\h0...</td>\n",
       "      <td>0</td>\n",
       "      <td>h00666001006p0020.jpg</td>\n",
       "    </tr>\n",
       "  </tbody>\n",
       "</table>\n",
       "<p>1669 rows × 3 columns</p>\n",
       "</div>"
      ]
     },
     "execution_count": 15,
     "metadata": {},
     "output_type": "execute_result"
    }
   ],
   "execution_count": 15
  },
  {
   "metadata": {
    "ExecuteTime": {
     "end_time": "2025-02-01T07:27:09.793494Z",
     "start_time": "2025-02-01T07:27:09.753926Z"
    }
   },
   "cell_type": "code",
   "source": [
    "# 중복 제거 (PHOTO_FILE_NM이 유일한 값이므로 유지)\n",
    "clustered_images = clustered_images.drop_duplicates(subset=[\"PHOTO_FILE_NM\"])\n",
    "tn_tour_photo_merged = tn_tour_photo_merged.drop_duplicates(subset=[\"PHOTO_FILE_NM\"])\n",
    "\n",
    "# PHOTO_FILE_NM을 기준으로 병합 (INNER JOIN)\n",
    "merged_df = tn_tour_photo_merged.merge(clustered_images, on=\"PHOTO_FILE_NM\", how=\"inner\")\n",
    "\n",
    "# 데이터 크기 확인\n",
    "print(f\"clustered_images 행 수: {len(clustered_images)}\")\n",
    "print(f\"tn_tour_photo_merged 행 수: {len(tn_tour_photo_merged)}\")\n",
    "print(f\"merged_df 행 수: {len(merged_df)}\")"
   ],
   "id": "a50301b56a01a175",
   "outputs": [
    {
     "name": "stdout",
     "output_type": "stream",
     "text": [
      "clustered_images 행 수: 1669\n",
      "tn_tour_photo_merged 행 수: 16996\n",
      "merged_df 행 수: 1669\n"
     ]
    }
   ],
   "execution_count": 7
  },
  {
   "metadata": {
    "ExecuteTime": {
     "end_time": "2025-02-01T06:44:07.578471Z",
     "start_time": "2025-02-01T06:44:07.554295Z"
    }
   },
   "cell_type": "code",
   "source": "merged_df.info()",
   "id": "c7ba2dc80e37eb35",
   "outputs": [
    {
     "name": "stdout",
     "output_type": "stream",
     "text": [
      "<class 'pandas.core.frame.DataFrame'>\n",
      "RangeIndex: 1669 entries, 0 to 1668\n",
      "Data columns (total 8 columns):\n",
      " #   Column              Non-Null Count  Dtype  \n",
      "---  ------              --------------  -----  \n",
      " 0   VISIT_AREA_ID       1669 non-null   int64  \n",
      " 1   VISIT_AREA_NM       1669 non-null   object \n",
      " 2   PHOTO_FILE_NM       1669 non-null   object \n",
      " 3   PHOTO_FILE_DT       1669 non-null   object \n",
      " 4   PHOTO_FILE_X_COORD  1669 non-null   float64\n",
      " 5   PHOTO_FILE_Y_COORD  1669 non-null   float64\n",
      " 6   Image_Path          1669 non-null   object \n",
      " 7   Cluster_Label       1669 non-null   int64  \n",
      "dtypes: float64(2), int64(2), object(4)\n",
      "memory usage: 104.4+ KB\n"
     ]
    }
   ],
   "execution_count": 17
  },
  {
   "metadata": {
    "ExecuteTime": {
     "end_time": "2025-02-01T07:27:13.404708Z",
     "start_time": "2025-02-01T07:27:13.389065Z"
    }
   },
   "cell_type": "code",
   "source": [
    "# 선택한 클러스터 리스트\n",
    "selected_clusters = [1, 3, 4, 5, 6, 8, 10, 12, 16, 23, 25]\n",
    "\n",
    "# 선택한 클러스터들만 필터링하여 개수 확인\n",
    "if \"Cluster_Label\" in merged_df.columns:\n",
    "    filtered_counts = merged_df[merged_df[\"Cluster_Label\"].isin(selected_clusters)][\"Cluster_Label\"].value_counts()\n",
    "    print(filtered_counts)\n",
    "else:\n",
    "    print(\"Error: 'Cluster_Label' 컬럼이 merged_df에 존재하지 않습니다.\")"
   ],
   "id": "b0fad51dfd3fffd0",
   "outputs": [
    {
     "name": "stdout",
     "output_type": "stream",
     "text": [
      "Cluster_Label\n",
      "6     73\n",
      "12    40\n",
      "4     29\n",
      "25    27\n",
      "16    21\n",
      "3     19\n",
      "8     18\n",
      "23    18\n",
      "1     15\n",
      "10    13\n",
      "5     12\n",
      "Name: count, dtype: int64\n"
     ]
    }
   ],
   "execution_count": 8
  },
  {
   "metadata": {
    "ExecuteTime": {
     "end_time": "2025-02-01T07:27:16.465568Z",
     "start_time": "2025-02-01T07:27:16.453533Z"
    }
   },
   "cell_type": "code",
   "source": [
    "import random\n",
    "import pandas as pd\n",
    "import matplotlib.pyplot as plt\n",
    "from PIL import Image\n",
    "import os"
   ],
   "id": "c9f429a263384709",
   "outputs": [],
   "execution_count": 9
  },
  {
   "metadata": {},
   "cell_type": "code",
   "outputs": [],
   "execution_count": null,
   "source": "",
   "id": "a014a8250835e14e"
  },
  {
   "metadata": {
    "ExecuteTime": {
     "end_time": "2025-02-01T06:44:29.077507Z",
     "start_time": "2025-02-01T06:44:29.044569Z"
    }
   },
   "cell_type": "code",
   "source": "print(merged_df[[\"PHOTO_FILE_NM\", \"VISIT_AREA_NM\"]].head(30))",
   "id": "b15c542d3ba5d464",
   "outputs": [
    {
     "name": "stdout",
     "output_type": "stream",
     "text": [
      "            PHOTO_FILE_NM     VISIT_AREA_NM\n",
      "0   h00006301006p0001.jpg               법련사\n",
      "1   h00011704005p0001.jpg             서문 식당\n",
      "2   h00015302099p0001.jpg            소노캄 제주\n",
      "3   f00185202004p0001.jpg          오드란 베이커리\n",
      "4   f00201101004p0001.jpg     비스타 케이 호텔 월드컵\n",
      "5   h00024601006p0001.jpg      칼 맞은 삼겹살 노형점\n",
      "6   h00019801003p0001.jpg            카페 더 씨\n",
      "7   h00055002004p0001.jpg            카페 더 씨\n",
      "8   g00137601009p0001.jpg          호텔 더본 제주\n",
      "9   h00055004003p0001.jpg         제주 렌터카 본사\n",
      "10  f00208901003p0001.jpg           제주 국제공항\n",
      "11  g00137602003p0001.jpg           제주 국제공항\n",
      "12  f00189601003p0001.jpg               빌리가\n",
      "13  f00208901004p0001.jpg               빌리가\n",
      "14  h00024604005p0001.jpg               빌리가\n",
      "15  f00208901009p0001.jpg            플로 웨이브\n",
      "16  f00209102002p0001.jpg            파더스 가든\n",
      "17  f00274701004p0001.jpg         제주 돌 문화공원\n",
      "18  h00018402004p0001.jpg         제주 돌 문화공원\n",
      "19  f00274701005p0001.jpg            아시진 호텔\n",
      "20  f00274701008p0001.jpg  걸어가는 늑대들 전이수 갤러리\n",
      "21  f00276101005p0001.jpg            카페유디에이\n",
      "22  h00070801006p0001.jpg               어부촌\n",
      "23  f00276101010p0001.jpg         애월 파티장 설렘\n",
      "24  g00226701002p0001.jpg            놀이터 서핑\n",
      "25  h00070802004p0001.jpg            놀이터 서핑\n",
      "26  h00070802007p0001.jpg       제주 오르게 소품 숍\n",
      "27  h00077002002p0001.jpg           제주 국제공항\n",
      "28  h00089404006p0001.jpg          로스터리 풀잎들\n",
      "29  h00070804007p0001.jpg            제주동문시장\n"
     ]
    }
   ],
   "execution_count": 21
  },
  {
   "metadata": {
    "ExecuteTime": {
     "end_time": "2025-02-01T07:38:29.012706Z",
     "start_time": "2025-02-01T07:38:28.986892Z"
    }
   },
   "cell_type": "code",
   "source": [
    "# 선택된 클러스터 내에서만 작업\n",
    "selected_clusters = [1, 3, 4, 5, 6, 8, 10, 12, 16, 23, 25]\n",
    "merged_df = merged_df[merged_df[\"Cluster_Label\"].isin(selected_clusters)]\n",
    "\n",
    "# 선택한 클러스터별 대표 이미지 5개 추출 (클러스터 번호 + 이미지명 출력)\n",
    "representative_images = {}\n",
    "for cluster in selected_clusters:\n",
    "    cluster_images = merged_df[merged_df[\"Cluster_Label\"] == cluster]\n",
    "    if not cluster_images.empty:\n",
    "        selected_image = cluster_images.sample(n=1, random_state=42)[\"PHOTO_FILE_NM\"].values[0]\n",
    "        representative_images[cluster] = selected_image\n"
   ],
   "id": "7f80dc2b7a7154e4",
   "outputs": [],
   "execution_count": 12
  },
  {
   "metadata": {
    "ExecuteTime": {
     "end_time": "2025-02-01T07:38:33.539699Z",
     "start_time": "2025-02-01T07:38:33.521426Z"
    }
   },
   "cell_type": "code",
   "source": [
    "print(\"사용자에게 제시할 대표 이미지:\")\n",
    "for cluster, image in representative_images.items():\n",
    "    print(f\"클러스터 {cluster}: {image}\")"
   ],
   "id": "ac611070af6df09a",
   "outputs": [
    {
     "name": "stdout",
     "output_type": "stream",
     "text": [
      "사용자에게 제시할 대표 이미지:\n",
      "클러스터 1: h00070802006p0012.jpg\n",
      "클러스터 3: h00275905003p0002.jpg\n",
      "클러스터 4: f00625101006p0011.jpg\n",
      "클러스터 5: h00351201008p0016.jpg\n",
      "클러스터 6: h00439601004p0001.jpg\n",
      "클러스터 8: h00580902005p0001.jpg\n",
      "클러스터 10: g00198801004p0008.jpg\n",
      "클러스터 12: g00021902003p0005.jpg\n",
      "클러스터 16: h00089403099p0002.jpg\n",
      "클러스터 23: h00070603005p0002.jpg\n",
      "클러스터 25: h00070802005p0001.jpg\n"
     ]
    }
   ],
   "execution_count": 13
  },
  {
   "metadata": {
    "ExecuteTime": {
     "end_time": "2025-02-01T07:42:35.567763Z",
     "start_time": "2025-02-01T07:42:35.542345Z"
    }
   },
   "cell_type": "code",
   "source": [
    "# 사용자가 선택한 사진 리스트 (예시)\n",
    "selected_images = [\"h00275905003p0002.jpg\", \"h00351201008p0016.jpg\", \"g00198801004p0008.jpg\"]\n",
    "recommended_images = recommend_similar_images(selected_images, merged_df)\n",
    "print(\"추천된 이미지 리스트:\")\n",
    "for img in recommended_images:\n",
    "    print(f\"파일명: {img['PHOTO_FILE_NM']}, 경로: {img['Image_Path']}\")\n",
    "\n"
   ],
   "id": "4fc10fa47fbdbaad",
   "outputs": [
    {
     "name": "stdout",
     "output_type": "stream",
     "text": [
      "추천된 이미지 리스트:\n",
      "파일명: h00645301003p0001.jpg, 경로: E:\\AI_HUB\\data\\Validation\\raw_data\\VS_photo\\h00645301003p0001.jpg\n",
      "파일명: h00063402006p0003.jpg, 경로: E:\\AI_HUB\\data\\Validation\\raw_data\\VS_photo\\h00063402006p0003.jpg\n",
      "파일명: h00026401008p0007.jpg, 경로: E:\\AI_HUB\\data\\Validation\\raw_data\\VS_photo\\h00026401008p0007.jpg\n",
      "파일명: f00085701005p0006.jpg, 경로: E:\\AI_HUB\\data\\Validation\\raw_data\\VS_photo\\f00085701005p0006.jpg\n",
      "파일명: f00085701005p0007.jpg, 경로: E:\\AI_HUB\\data\\Validation\\raw_data\\VS_photo\\f00085701005p0007.jpg\n",
      "파일명: h00214902005p0002.jpg, 경로: E:\\AI_HUB\\data\\Validation\\raw_data\\VS_photo\\h00214902005p0002.jpg\n",
      "파일명: g00461501004p0002.jpg, 경로: E:\\AI_HUB\\data\\Validation\\raw_data\\VS_photo\\g00461501004p0002.jpg\n",
      "파일명: h00659501004p0003.jpg, 경로: E:\\AI_HUB\\data\\Validation\\raw_data\\VS_photo\\h00659501004p0003.jpg\n",
      "파일명: h00063402007p0004.jpg, 경로: E:\\AI_HUB\\data\\Validation\\raw_data\\VS_photo\\h00063402007p0004.jpg\n",
      "파일명: h00437204002p0004.jpg, 경로: E:\\AI_HUB\\data\\Validation\\raw_data\\VS_photo\\h00437204002p0004.jpg\n",
      "파일명: h00109302003p0001.jpg, 경로: E:\\AI_HUB\\data\\Validation\\raw_data\\VS_photo\\h00109302003p0001.jpg\n",
      "파일명: h00291601099p0001.jpg, 경로: E:\\AI_HUB\\data\\Validation\\raw_data\\VS_photo\\h00291601099p0001.jpg\n",
      "파일명: h00260401005p0001.jpg, 경로: E:\\AI_HUB\\data\\Validation\\raw_data\\VS_photo\\h00260401005p0001.jpg\n",
      "파일명: h00020804006p0001.jpg, 경로: E:\\AI_HUB\\data\\Validation\\raw_data\\VS_photo\\h00020804006p0001.jpg\n",
      "파일명: f00625101004p0001.jpg, 경로: E:\\AI_HUB\\data\\Validation\\raw_data\\VS_photo\\f00625101004p0001.jpg\n"
     ]
    }
   ],
   "execution_count": 21
  },
  {
   "metadata": {
    "ExecuteTime": {
     "end_time": "2025-02-01T07:42:40.406147Z",
     "start_time": "2025-02-01T07:42:40.390978Z"
    }
   },
   "cell_type": "code",
   "source": [
    "def recommend_similar_images(selected_images, merged_df):\n",
    "    recommended_images = []\n",
    "    \n",
    "    # 선택한 이미지 리스트를 `PHOTO_FILE_NM`과 매칭되는 형식으로 변환\n",
    "    selected_images = [img for img in selected_images if img in merged_df[\"PHOTO_FILE_NM\"].values]\n",
    "\n",
    "    if not selected_images:\n",
    "        print(\"경고: 선택한 이미지가 데이터셋에 존재하지 않습니다.\")\n",
    "        return []\n",
    "\n",
    "    for selected_image in selected_images:\n",
    "        cluster_info = merged_df.loc[merged_df[\"PHOTO_FILE_NM\"] == selected_image, \"Cluster_Label\"]\n",
    "        if cluster_info.empty:\n",
    "            print(f\"경고: {selected_image}에 대한 클러스터 정보가 없습니다.\")\n",
    "            continue\n",
    "\n",
    "        cluster = cluster_info.values[0]\n",
    "        if cluster not in selected_clusters:\n",
    "            print(f\"경고: {selected_image}의 클러스터({cluster})가 허용된 클러스터에 포함되지 않습니다.\")\n",
    "            continue\n",
    "\n",
    "        # 해당 클러스터 내에서 같은 클러스터의 이미지 리스트 가져오기\n",
    "        cluster_images = merged_df[merged_df[\"Cluster_Label\"] == cluster][[\"PHOTO_FILE_NM\", \"Image_Path\"]]\n",
    "\n",
    "        # 선택된 이미지 제외 후 유사한 이미지 추천\n",
    "        similar_images = cluster_images[cluster_images[\"PHOTO_FILE_NM\"] != selected_image].head(5).to_dict(orient=\"records\")\n",
    "        recommended_images.extend(similar_images)\n",
    "\n",
    "    return recommended_images\n",
    "\n"
   ],
   "id": "dc9562f84bba862c",
   "outputs": [],
   "execution_count": 22
  },
  {
   "metadata": {
    "ExecuteTime": {
     "end_time": "2025-02-01T07:42:42.681628Z",
     "start_time": "2025-02-01T07:42:42.658120Z"
    }
   },
   "cell_type": "code",
   "source": [
    "# 유사 이미지 추천 실행\n",
    "recommended_images = recommend_similar_images(selected_images, merged_df)\n",
    "print(\"추천된 이미지 리스트:\", recommended_images)"
   ],
   "id": "6019eee7752465b0",
   "outputs": [
    {
     "name": "stdout",
     "output_type": "stream",
     "text": [
      "추천된 이미지 리스트: [{'PHOTO_FILE_NM': 'h00645301003p0001.jpg', 'Image_Path': 'E:\\\\AI_HUB\\\\data\\\\Validation\\\\raw_data\\\\VS_photo\\\\h00645301003p0001.jpg'}, {'PHOTO_FILE_NM': 'h00063402006p0003.jpg', 'Image_Path': 'E:\\\\AI_HUB\\\\data\\\\Validation\\\\raw_data\\\\VS_photo\\\\h00063402006p0003.jpg'}, {'PHOTO_FILE_NM': 'h00026401008p0007.jpg', 'Image_Path': 'E:\\\\AI_HUB\\\\data\\\\Validation\\\\raw_data\\\\VS_photo\\\\h00026401008p0007.jpg'}, {'PHOTO_FILE_NM': 'f00085701005p0006.jpg', 'Image_Path': 'E:\\\\AI_HUB\\\\data\\\\Validation\\\\raw_data\\\\VS_photo\\\\f00085701005p0006.jpg'}, {'PHOTO_FILE_NM': 'f00085701005p0007.jpg', 'Image_Path': 'E:\\\\AI_HUB\\\\data\\\\Validation\\\\raw_data\\\\VS_photo\\\\f00085701005p0007.jpg'}, {'PHOTO_FILE_NM': 'h00214902005p0002.jpg', 'Image_Path': 'E:\\\\AI_HUB\\\\data\\\\Validation\\\\raw_data\\\\VS_photo\\\\h00214902005p0002.jpg'}, {'PHOTO_FILE_NM': 'g00461501004p0002.jpg', 'Image_Path': 'E:\\\\AI_HUB\\\\data\\\\Validation\\\\raw_data\\\\VS_photo\\\\g00461501004p0002.jpg'}, {'PHOTO_FILE_NM': 'h00659501004p0003.jpg', 'Image_Path': 'E:\\\\AI_HUB\\\\data\\\\Validation\\\\raw_data\\\\VS_photo\\\\h00659501004p0003.jpg'}, {'PHOTO_FILE_NM': 'h00063402007p0004.jpg', 'Image_Path': 'E:\\\\AI_HUB\\\\data\\\\Validation\\\\raw_data\\\\VS_photo\\\\h00063402007p0004.jpg'}, {'PHOTO_FILE_NM': 'h00437204002p0004.jpg', 'Image_Path': 'E:\\\\AI_HUB\\\\data\\\\Validation\\\\raw_data\\\\VS_photo\\\\h00437204002p0004.jpg'}, {'PHOTO_FILE_NM': 'h00109302003p0001.jpg', 'Image_Path': 'E:\\\\AI_HUB\\\\data\\\\Validation\\\\raw_data\\\\VS_photo\\\\h00109302003p0001.jpg'}, {'PHOTO_FILE_NM': 'h00291601099p0001.jpg', 'Image_Path': 'E:\\\\AI_HUB\\\\data\\\\Validation\\\\raw_data\\\\VS_photo\\\\h00291601099p0001.jpg'}, {'PHOTO_FILE_NM': 'h00260401005p0001.jpg', 'Image_Path': 'E:\\\\AI_HUB\\\\data\\\\Validation\\\\raw_data\\\\VS_photo\\\\h00260401005p0001.jpg'}, {'PHOTO_FILE_NM': 'h00020804006p0001.jpg', 'Image_Path': 'E:\\\\AI_HUB\\\\data\\\\Validation\\\\raw_data\\\\VS_photo\\\\h00020804006p0001.jpg'}, {'PHOTO_FILE_NM': 'f00625101004p0001.jpg', 'Image_Path': 'E:\\\\AI_HUB\\\\data\\\\Validation\\\\raw_data\\\\VS_photo\\\\f00625101004p0001.jpg'}]\n"
     ]
    }
   ],
   "execution_count": 23
  },
  {
   "metadata": {
    "ExecuteTime": {
     "end_time": "2025-02-01T07:41:04.203352Z",
     "start_time": "2025-02-01T07:41:04.188471Z"
    }
   },
   "cell_type": "code",
   "source": "print(merged_df[\"PHOTO_FILE_NM\"].head(10))  # 상위 10개 파일명 출력\n",
   "id": "5519a1932cf6770d",
   "outputs": [
    {
     "name": "stdout",
     "output_type": "stream",
     "text": [
      "6     h00019801003p0001.jpg\n",
      "7     h00055002004p0001.jpg\n",
      "23    f00276101010p0001.jpg\n",
      "25    h00070802004p0001.jpg\n",
      "29    h00070804007p0001.jpg\n",
      "30    h00109302003p0001.jpg\n",
      "49    f00487401002p0001.jpg\n",
      "55    h00291601099p0001.jpg\n",
      "61    h00291603002p0002.jpg\n",
      "64    g00501502005p0001.jpg\n",
      "Name: PHOTO_FILE_NM, dtype: object\n"
     ]
    }
   ],
   "execution_count": 17
  },
  {
   "metadata": {
    "ExecuteTime": {
     "end_time": "2025-02-01T07:45:39.661369Z",
     "start_time": "2025-02-01T07:45:37.270173Z"
    }
   },
   "cell_type": "code",
   "source": [
    "import matplotlib.pyplot as plt\n",
    "import matplotlib.image as mpimg\n",
    "import os\n",
    "\n",
    "def visualize_selected_and_recommended(selected_images, recommended_images):\n",
    "    num_selected = len(selected_images)\n",
    "    num_recommended = len(recommended_images)\n",
    "\n",
    "    # 최소한의 추천 이미지를 선택된 이미지 개수와 맞춤\n",
    "    num_recommendations_per_selected = max(1, num_recommended // num_selected)\n",
    "    \n",
    "    fig, axes = plt.subplots(num_selected * 2, num_recommendations_per_selected, figsize=(num_recommendations_per_selected * 4, num_selected * 5))\n",
    "\n",
    "    if num_selected == 1:\n",
    "        axes = [axes]  # 1개인 경우 리스트 변환\n",
    "\n",
    "    for i, selected_image in enumerate(selected_images):\n",
    "        # 선택한 이미지 불러오기\n",
    "        selected_path = selected_image[\"Image_Path\"]\n",
    "        selected_img = mpimg.imread(selected_path) if os.path.exists(selected_path) else None\n",
    "        \n",
    "        # 선택한 이미지 표시\n",
    "        ax = axes[i * 2] if num_recommendations_per_selected == 1 else axes[i * 2, 0]\n",
    "        ax.imshow(selected_img)\n",
    "        ax.axis(\"off\")\n",
    "        ax.set_title(f\"사용자가 선택한 이미지: {selected_image['PHOTO_FILE_NM']}\")\n",
    "\n",
    "        # 해당 선택 이미지에 대한 추천 이미지 가져오기\n",
    "        recommended_subset = recommended_images[i * num_recommendations_per_selected:(i + 1) * num_recommendations_per_selected]\n",
    "\n",
    "        for j, recommended_image in enumerate(recommended_subset):\n",
    "            recommended_path = recommended_image[\"Image_Path\"]\n",
    "            recommended_img = mpimg.imread(recommended_path) if os.path.exists(recommended_path) else None\n",
    "\n",
    "            # 추천된 이미지 표시\n",
    "            ax = axes[i * 2 + 1, j] if num_recommendations_per_selected > 1 else axes[i * 2 + 1]\n",
    "            ax.imshow(recommended_img)\n",
    "            ax.axis(\"off\")\n",
    "            ax.set_title(f\"추천 이미지: {recommended_image['PHOTO_FILE_NM']}\")\n",
    "\n",
    "    plt.tight_layout()\n",
    "    plt.show()\n",
    "\n",
    "# 시각화 실행\n",
    "visualize_selected_and_recommended(selected_images, recommended_images)\n"
   ],
   "id": "4eaeadfac529520b",
   "outputs": [
    {
     "ename": "TypeError",
     "evalue": "string indices must be integers",
     "output_type": "error",
     "traceback": [
      "\u001B[1;31m---------------------------------------------------------------------------\u001B[0m",
      "\u001B[1;31mTypeError\u001B[0m                                 Traceback (most recent call last)",
      "Cell \u001B[1;32mIn[24], line 45\u001B[0m\n\u001B[0;32m     42\u001B[0m     plt\u001B[38;5;241m.\u001B[39mshow()\n\u001B[0;32m     44\u001B[0m \u001B[38;5;66;03m# 시각화 실행\u001B[39;00m\n\u001B[1;32m---> 45\u001B[0m \u001B[43mvisualize_selected_and_recommended\u001B[49m\u001B[43m(\u001B[49m\u001B[43mselected_images\u001B[49m\u001B[43m,\u001B[49m\u001B[43m \u001B[49m\u001B[43mrecommended_images\u001B[49m\u001B[43m)\u001B[49m\n",
      "Cell \u001B[1;32mIn[24], line 19\u001B[0m, in \u001B[0;36mvisualize_selected_and_recommended\u001B[1;34m(selected_images, recommended_images)\u001B[0m\n\u001B[0;32m     15\u001B[0m     axes \u001B[38;5;241m=\u001B[39m [axes]  \u001B[38;5;66;03m# 1개인 경우 리스트 변환\u001B[39;00m\n\u001B[0;32m     17\u001B[0m \u001B[38;5;28;01mfor\u001B[39;00m i, selected_image \u001B[38;5;129;01min\u001B[39;00m \u001B[38;5;28menumerate\u001B[39m(selected_images):\n\u001B[0;32m     18\u001B[0m     \u001B[38;5;66;03m# 선택한 이미지 불러오기\u001B[39;00m\n\u001B[1;32m---> 19\u001B[0m     selected_path \u001B[38;5;241m=\u001B[39m \u001B[43mselected_image\u001B[49m\u001B[43m[\u001B[49m\u001B[38;5;124;43m\"\u001B[39;49m\u001B[38;5;124;43mImage_Path\u001B[39;49m\u001B[38;5;124;43m\"\u001B[39;49m\u001B[43m]\u001B[49m\n\u001B[0;32m     20\u001B[0m     selected_img \u001B[38;5;241m=\u001B[39m mpimg\u001B[38;5;241m.\u001B[39mimread(selected_path) \u001B[38;5;28;01mif\u001B[39;00m os\u001B[38;5;241m.\u001B[39mpath\u001B[38;5;241m.\u001B[39mexists(selected_path) \u001B[38;5;28;01melse\u001B[39;00m \u001B[38;5;28;01mNone\u001B[39;00m\n\u001B[0;32m     22\u001B[0m     \u001B[38;5;66;03m# 선택한 이미지 표시\u001B[39;00m\n",
      "\u001B[1;31mTypeError\u001B[0m: string indices must be integers"
     ]
    },
    {
     "data": {
      "text/plain": [
       "<Figure size 2000x1500 with 30 Axes>"
      ],
      "image/png": "[encoded data removed]"
     },
     "metadata": {},
     "output_type": "display_data"
    }
   ],
   "execution_count": 24
  },
  {
   "metadata": {},
   "cell_type": "code",
   "outputs": [],
   "execution_count": null,
   "source": "",
   "id": "34ae982c92e5c2e4"
  }
 ],
 "metadata": {
  "kernelspec": {
   "display_name": "Python 3",
   "language": "python",
   "name": "python3"
  },
  "language_info": {
   "codemirror_mode": {
    "name": "ipython",
    "version": 2
   },
   "file_extension": ".py",
   "mimetype": "text/x-python",
   "name": "python",
   "nbconvert_exporter": "python",
   "pygments_lexer": "ipython2",
   "version": "2.7.6"
  }
 },
 "nbformat": 4,
 "nbformat_minor": 5
}
