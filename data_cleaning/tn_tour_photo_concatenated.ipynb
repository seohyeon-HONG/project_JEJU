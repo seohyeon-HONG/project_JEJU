{
 "cells": [
  {
   "cell_type": "code",
   "id": "initial_id",
   "metadata": {
    "collapsed": true,
    "ExecuteTime": {
     "end_time": "2025-01-31T17:22:11.166891Z",
     "start_time": "2025-01-31T17:22:11.137415Z"
    }
   },
   "source": "import pandas as pd",
   "outputs": [],
   "execution_count": 17
  },
  {
   "metadata": {
    "ExecuteTime": {
     "end_time": "2025-01-31T17:32:52.553429Z",
     "start_time": "2025-01-31T17:32:52.077260Z"
    }
   },
   "cell_type": "code",
   "source": [
    "file_path_01= r\"E:\\AI_HUB\\data\\Training\\labeled_data\\TL_csv\\cleaned_data\\tn_tour_photo_jeju_filtered.csv\"\n",
    "file_path_02 = r\"E:\\AI_HUB\\data\\Validation\\labeled_data\\VL_csv\\cleaned_data\\tn_tour_photo_jeju_filtered.csv\"\n",
    "\n",
    "tn_photo_tr = pd.read_csv(file_path_01)\n",
    "tn_photo_val = pd.read_csv(file_path_02) "
   ],
   "id": "39830f268673064c",
   "outputs": [],
   "execution_count": 24
  },
  {
   "metadata": {
    "ExecuteTime": {
     "end_time": "2025-01-31T17:32:56.419878Z",
     "start_time": "2025-01-31T17:32:56.377765Z"
    }
   },
   "cell_type": "code",
   "source": [
    "# import pandas as pd\n",
    "# \n",
    "# # 데이터 병합 (인덱스 리셋)\n",
    "# merged_photo = pd.concat([tn_photo_tr, tn_photo_val], ignore_index=True)\n",
    "# \n",
    "# # 중복 제거 (PHOTO_FILE_NM 기준)\n",
    "# merged_photo = merged_photo.drop_duplicates(subset=[\"PHOTO_FILE_NM\"])\n",
    "# \n",
    "# # 결측값 확인\n",
    "# print(merged_photo.isnull().sum())\n",
    "# \n",
    "# # 병합된 데이터 크기 확인\n",
    "# print(f\"병합 후 행 개수: {len(merged_photo)}\")\n"
   ],
   "id": "5b1730f220f60818",
   "outputs": [
    {
     "name": "stdout",
     "output_type": "stream",
     "text": [
      "VISIT_AREA_ID         0\n",
      "VISIT_AREA_NM         0\n",
      "PHOTO_FILE_NM         0\n",
      "PHOTO_FILE_DT         0\n",
      "PHOTO_FILE_X_COORD    0\n",
      "PHOTO_FILE_Y_COORD    0\n",
      "dtype: int64\n",
      "병합 후 행 개수: 16996\n"
     ]
    }
   ],
   "execution_count": 25
  },
  {
   "metadata": {
    "ExecuteTime": {
     "end_time": "2025-01-31T17:22:11.733822Z",
     "start_time": "2025-01-31T17:22:11.666721Z"
    }
   },
   "cell_type": "code",
   "source": "tn_photo_tr.info()",
   "id": "96589a4aa242b618",
   "outputs": [
    {
     "name": "stdout",
     "output_type": "stream",
     "text": [
      "<class 'pandas.core.frame.DataFrame'>\n",
      "RangeIndex: 15327 entries, 0 to 15326\n",
      "Data columns (total 6 columns):\n",
      " #   Column              Non-Null Count  Dtype  \n",
      "---  ------              --------------  -----  \n",
      " 0   VISIT_AREA_ID       15327 non-null  int64  \n",
      " 1   VISIT_AREA_NM       15327 non-null  object \n",
      " 2   PHOTO_FILE_NM       15327 non-null  object \n",
      " 3   PHOTO_FILE_DT       15327 non-null  object \n",
      " 4   PHOTO_FILE_X_COORD  15327 non-null  float64\n",
      " 5   PHOTO_FILE_Y_COORD  15327 non-null  float64\n",
      "dtypes: float64(2), int64(1), object(3)\n",
      "memory usage: 718.6+ KB\n"
     ]
    }
   ],
   "execution_count": 19
  },
  {
   "metadata": {
    "ExecuteTime": {
     "end_time": "2025-01-31T17:22:11.822204Z",
     "start_time": "2025-01-31T17:22:11.805481Z"
    }
   },
   "cell_type": "code",
   "source": "tn_photo_val.info()",
   "id": "ea600bee0cb6a294",
   "outputs": [
    {
     "name": "stdout",
     "output_type": "stream",
     "text": [
      "<class 'pandas.core.frame.DataFrame'>\n",
      "RangeIndex: 1669 entries, 0 to 1668\n",
      "Data columns (total 6 columns):\n",
      " #   Column              Non-Null Count  Dtype  \n",
      "---  ------              --------------  -----  \n",
      " 0   VISIT_AREA_ID       1669 non-null   int64  \n",
      " 1   VISIT_AREA_NM       1669 non-null   object \n",
      " 2   PHOTO_FILE_NM       1669 non-null   object \n",
      " 3   PHOTO_FILE_DT       1669 non-null   object \n",
      " 4   PHOTO_FILE_X_COORD  1669 non-null   float64\n",
      " 5   PHOTO_FILE_Y_COORD  1669 non-null   float64\n",
      "dtypes: float64(2), int64(1), object(3)\n",
      "memory usage: 78.4+ KB\n"
     ]
    }
   ],
   "execution_count": 20
  },
  {
   "metadata": {
    "ExecuteTime": {
     "end_time": "2025-01-31T17:22:11.958706Z",
     "start_time": "2025-01-31T17:22:11.944691Z"
    }
   },
   "cell_type": "code",
   "source": "merged_photo = pd.concat([tn_photo_tr, tn_photo_val])",
   "id": "7a3a6083f741a2ea",
   "outputs": [],
   "execution_count": 21
  },
  {
   "metadata": {
    "ExecuteTime": {
     "end_time": "2025-01-31T17:22:12.246414Z",
     "start_time": "2025-01-31T17:22:12.202606Z"
    }
   },
   "cell_type": "code",
   "source": [
    "merged_photo.info()\n",
    "merged_photo.head()"
   ],
   "id": "30e294dabc796ddb",
   "outputs": [
    {
     "name": "stdout",
     "output_type": "stream",
     "text": [
      "<class 'pandas.core.frame.DataFrame'>\n",
      "Index: 16996 entries, 0 to 1668\n",
      "Data columns (total 6 columns):\n",
      " #   Column              Non-Null Count  Dtype  \n",
      "---  ------              --------------  -----  \n",
      " 0   VISIT_AREA_ID       16996 non-null  int64  \n",
      " 1   VISIT_AREA_NM       16996 non-null  object \n",
      " 2   PHOTO_FILE_NM       16996 non-null  object \n",
      " 3   PHOTO_FILE_DT       16996 non-null  object \n",
      " 4   PHOTO_FILE_X_COORD  16996 non-null  float64\n",
      " 5   PHOTO_FILE_Y_COORD  16996 non-null  float64\n",
      "dtypes: float64(2), int64(1), object(3)\n",
      "memory usage: 929.5+ KB\n"
     ]
    },
    {
     "data": {
      "text/plain": [
       "   VISIT_AREA_ID VISIT_AREA_NM          PHOTO_FILE_NM        PHOTO_FILE_DT  \\\n",
       "0     2307010002       제주 국제공항  g00317501099p0002.jpg  2023-07-01 19:57:54   \n",
       "1     2307010002       제주 국제공항  h00064701002p0002.jpg  2023-07-01 11:39:46   \n",
       "2     2307010002       제주 국제공항  e00331001002p0001.jpg  2023-07-01 13:51:50   \n",
       "3     2307010002       제주 국제공항  e00349601003p0001.jpg  2023-07-01 09:17:26   \n",
       "4     2307010002       제주 국제공항  e00368501002p0001.jpg  2023-07-01 12:48:43   \n",
       "\n",
       "   PHOTO_FILE_X_COORD  PHOTO_FILE_Y_COORD  \n",
       "0          126.388008           34.732722  \n",
       "1          128.324962           34.649425  \n",
       "2          126.607156           37.553997  \n",
       "3          126.618821           37.475521  \n",
       "4          126.606345           37.310702  "
      ],
      "text/html": [
       "<div>\n",
       "<style scoped>\n",
       "    .dataframe tbody tr th:only-of-type {\n",
       "        vertical-align: middle;\n",
       "    }\n",
       "\n",
       "    .dataframe tbody tr th {\n",
       "        vertical-align: top;\n",
       "    }\n",
       "\n",
       "    .dataframe thead th {\n",
       "        text-align: right;\n",
       "    }\n",
       "</style>\n",
       "<table border=\"1\" class=\"dataframe\">\n",
       "  <thead>\n",
       "    <tr style=\"text-align: right;\">\n",
       "      <th></th>\n",
       "      <th>VISIT_AREA_ID</th>\n",
       "      <th>VISIT_AREA_NM</th>\n",
       "      <th>PHOTO_FILE_NM</th>\n",
       "      <th>PHOTO_FILE_DT</th>\n",
       "      <th>PHOTO_FILE_X_COORD</th>\n",
       "      <th>PHOTO_FILE_Y_COORD</th>\n",
       "    </tr>\n",
       "  </thead>\n",
       "  <tbody>\n",
       "    <tr>\n",
       "      <th>0</th>\n",
       "      <td>2307010002</td>\n",
       "      <td>제주 국제공항</td>\n",
       "      <td>g00317501099p0002.jpg</td>\n",
       "      <td>2023-07-01 19:57:54</td>\n",
       "      <td>126.388008</td>\n",
       "      <td>34.732722</td>\n",
       "    </tr>\n",
       "    <tr>\n",
       "      <th>1</th>\n",
       "      <td>2307010002</td>\n",
       "      <td>제주 국제공항</td>\n",
       "      <td>h00064701002p0002.jpg</td>\n",
       "      <td>2023-07-01 11:39:46</td>\n",
       "      <td>128.324962</td>\n",
       "      <td>34.649425</td>\n",
       "    </tr>\n",
       "    <tr>\n",
       "      <th>2</th>\n",
       "      <td>2307010002</td>\n",
       "      <td>제주 국제공항</td>\n",
       "      <td>e00331001002p0001.jpg</td>\n",
       "      <td>2023-07-01 13:51:50</td>\n",
       "      <td>126.607156</td>\n",
       "      <td>37.553997</td>\n",
       "    </tr>\n",
       "    <tr>\n",
       "      <th>3</th>\n",
       "      <td>2307010002</td>\n",
       "      <td>제주 국제공항</td>\n",
       "      <td>e00349601003p0001.jpg</td>\n",
       "      <td>2023-07-01 09:17:26</td>\n",
       "      <td>126.618821</td>\n",
       "      <td>37.475521</td>\n",
       "    </tr>\n",
       "    <tr>\n",
       "      <th>4</th>\n",
       "      <td>2307010002</td>\n",
       "      <td>제주 국제공항</td>\n",
       "      <td>e00368501002p0001.jpg</td>\n",
       "      <td>2023-07-01 12:48:43</td>\n",
       "      <td>126.606345</td>\n",
       "      <td>37.310702</td>\n",
       "    </tr>\n",
       "  </tbody>\n",
       "</table>\n",
       "</div>"
      ]
     },
     "execution_count": 22,
     "metadata": {},
     "output_type": "execute_result"
    }
   ],
   "execution_count": 22
  },
  {
   "metadata": {
    "ExecuteTime": {
     "end_time": "2025-01-31T17:22:12.859740Z",
     "start_time": "2025-01-31T17:22:12.526659Z"
    }
   },
   "cell_type": "code",
   "source": [
    "local_path = r\"E:\\AI_HUB\\data\\concatenated\\tn_tour_photo_merged.csv\"\n",
    "merged_photo.to_csv(local_path, index=False, encoding='utf-8-sig')\n",
    "\n",
    "# 파일 저장 확인\n",
    "print(f\"로컬 경로에 파일 저장 완료: {local_path}\")"
   ],
   "id": "46bf295c0a47ecc",
   "outputs": [
    {
     "name": "stdout",
     "output_type": "stream",
     "text": [
      "로컬 경로에 파일 저장 완료: E:\\AI_HUB\\data\\concatenated\\tn_tour_photo_merged.csv\n"
     ]
    }
   ],
   "execution_count": 23
  }
 ],
 "metadata": {
  "kernelspec": {
   "display_name": "Python 3",
   "language": "python",
   "name": "python3"
  },
  "language_info": {
   "codemirror_mode": {
    "name": "ipython",
    "version": 2
   },
   "file_extension": ".py",
   "mimetype": "text/x-python",
   "name": "python",
   "nbconvert_exporter": "python",
   "pygments_lexer": "ipython2",
   "version": "2.7.6"
  }
 },
 "nbformat": 4,
 "nbformat_minor": 5
}
