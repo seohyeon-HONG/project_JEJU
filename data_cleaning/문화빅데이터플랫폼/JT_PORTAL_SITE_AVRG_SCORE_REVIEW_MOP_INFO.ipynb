{
 "cells": [
  {
   "metadata": {
    "ExecuteTime": {
     "end_time": "2025-01-28T17:19:16.093950Z",
     "start_time": "2025-01-28T17:19:16.080857Z"
    }
   },
   "cell_type": "code",
   "source": [
    "import os\n",
    "import pandas as pd"
   ],
   "id": "d05d1ee63fabcb6f",
   "outputs": [],
   "execution_count": 74
  },
  {
   "metadata": {
    "ExecuteTime": {
     "end_time": "2025-01-28T17:19:16.127253Z",
     "start_time": "2025-01-28T17:19:16.107954Z"
    }
   },
   "cell_type": "code",
   "source": [
    "# # 2023-01부터 2023-12까지 데이터 합치기\n",
    "# \n",
    "# folder_path = r\"E:\\문화빅데이터플랫폼\\JT_PORTAL_SITE_AVRG_SCORE_REVIEW_MOP_INFO\"\n",
    "# \n",
    "# # 합칠 CSV 파일을 저장할 빈 리스트 생성\n",
    "# dataframes = []\n",
    "# \n",
    "# # 파일 확장자가 CSV인 것만 불러오기\n",
    "# for file_name in os.listdir(folder_path):\n",
    "#     if file_name.endswith('.csv'):\n",
    "#         file_path = os.path.join(folder_path, file_name) \n",
    "#         try:\n",
    "#             df = pd.read_csv(file_path)\n",
    "#             dataframes.append(df)\n",
    "#         except Exception as e:\n",
    "#             print(f\"파일 {file_name}을 읽는 중 오류 발생: {e}\")\n",
    "# \n",
    "# # 모든 DataFrame 합치기\n",
    "# if dataframes:\n",
    "#     combined_df = pd.concat(dataframes, ignore_index=True)\n",
    "#     print(\"CSV 파일 합치기 완료\")\n",
    "# else:\n",
    "#     print(\"CSV 파일이 없습니다.\")"
   ],
   "id": "6246820fe7e3897a",
   "outputs": [],
   "execution_count": 75
  },
  {
   "metadata": {
    "ExecuteTime": {
     "end_time": "2025-01-28T17:19:16.367933Z",
     "start_time": "2025-01-28T17:19:16.149260Z"
    }
   },
   "cell_type": "code",
   "source": [
    "# 합친 파일 확인\n",
    "combined_df.info()\n",
    "combined_df.isnull().sum()"
   ],
   "id": "bbd8020fffc111e4",
   "outputs": [
    {
     "ename": "NameError",
     "evalue": "name 'combined_df' is not defined",
     "output_type": "error",
     "traceback": [
      "\u001B[1;31m---------------------------------------------------------------------------\u001B[0m",
      "\u001B[1;31mNameError\u001B[0m                                 Traceback (most recent call last)",
      "Cell \u001B[1;32mIn[76], line 2\u001B[0m\n\u001B[0;32m      1\u001B[0m \u001B[38;5;66;03m# 합친 파일 확인\u001B[39;00m\n\u001B[1;32m----> 2\u001B[0m combined_df\u001B[38;5;241m.\u001B[39minfo()\n\u001B[0;32m      3\u001B[0m combined_df\u001B[38;5;241m.\u001B[39misnull()\u001B[38;5;241m.\u001B[39msum()\n",
      "\u001B[1;31mNameError\u001B[0m: name 'combined_df' is not defined"
     ]
    }
   ],
   "execution_count": 76
  },
  {
   "metadata": {},
   "cell_type": "code",
   "source": [
    "# dtype 변환\n",
    "\n",
    "combined_df['BASE_YM'] = combined_df['BASE_YM'].astype(object)"
   ],
   "id": "f5a5b1f89d7063a1",
   "outputs": [],
   "execution_count": null
  },
  {
   "metadata": {
    "ExecuteTime": {
     "end_time": "2025-01-28T17:19:16.574507700Z",
     "start_time": "2025-01-27T04:55:49.208395Z"
    }
   },
   "cell_type": "code",
   "source": [
    "# 전처리\n",
    "column_to_drop = ['REGIST_DE']\n",
    "\n",
    "# 열 삭제\n",
    "combined_df = combined_df.drop(columns=column_to_drop)"
   ],
   "id": "7825561875480df2",
   "outputs": [],
   "execution_count": 8
  },
  {
   "metadata": {
    "ExecuteTime": {
     "end_time": "2025-01-28T17:19:16.576507400Z",
     "start_time": "2025-01-27T04:55:49.286844Z"
    }
   },
   "cell_type": "code",
   "source": [
    "# SCORE_VALUE가 0인 것과 아닌 것의 분포 확인\n",
    "score_distribution = combined_df['SCORE_VALUE'].value_counts()\n",
    "\n",
    "# 결과 출력\n",
    "print(score_distribution)"
   ],
   "id": "a7dbe483a253ce78",
   "outputs": [
    {
     "name": "stdout",
     "output_type": "stream",
     "text": [
      "SCORE_VALUE\n",
      "0.0      810653\n",
      "100.0     12507\n",
      "80.0       4524\n",
      "60.0       1820\n",
      "90.0       1298\n",
      "          ...  \n",
      "4.6           1\n",
      "1.7           1\n",
      "4.2           1\n",
      "22.0          1\n",
      "2.4           1\n",
      "Name: count, Length: 151, dtype: int64\n"
     ]
    }
   ],
   "execution_count": 9
  },
  {
   "metadata": {
    "ExecuteTime": {
     "end_time": "2025-01-28T17:19:16.578736Z",
     "start_time": "2025-01-27T04:55:49.317945Z"
    }
   },
   "cell_type": "code",
   "source": "combined_df = combined_df.drop(columns=['SCORE_VALUE'])",
   "id": "142975cf18bea1d6",
   "outputs": [],
   "execution_count": 10
  },
  {
   "metadata": {},
   "cell_type": "markdown",
   "source": "평점 칼럼에서, 0값이 너무 많아 지우기로 함. ",
   "id": "1643345efbad72e"
  },
  {
   "metadata": {
    "ExecuteTime": {
     "end_time": "2025-01-28T17:19:16.579758600Z",
     "start_time": "2025-01-27T04:55:49.389462Z"
    }
   },
   "cell_type": "code",
   "source": [
    "# MOP_CN이 NULL인 행 확인\n",
    "null_mop_cn_rows = combined_df[combined_df['MOP_CN'].isnull()]\n",
    "\n",
    "null_mop_cn_rows"
   ],
   "id": "b619cbff429ad9a8",
   "outputs": [
    {
     "data": {
      "text/plain": [
       "         BASE_YM    CL_NM        TRRSRT_NM                 TRRSRT_ADDR MOP_CN\n",
       "33292   202302.0     공연전시           고흐의 정원     제주 서귀포시 성산읍 삼달신풍로 126-5    NaN\n",
       "33325   202302.0     공연전시           고흐의 정원     제주 서귀포시 성산읍 삼달신풍로 126-5    NaN\n",
       "33349   202302.0     공연전시           고흐의 정원     제주 서귀포시 성산읍 삼달신풍로 126-5    NaN\n",
       "33368   202302.0     공연전시           고흐의 정원     제주 서귀포시 성산읍 삼달신풍로 126-5    NaN\n",
       "33392   202302.0     공연전시           고흐의 정원     제주 서귀포시 성산읍 삼달신풍로 126-5    NaN\n",
       "...          ...      ...              ...                         ...    ...\n",
       "844975  202312.0     일반호텔           호텔위드제주          제주특별자치도 제주시 노연로 34    NaN\n",
       "844979  202312.0  숙박업(생활)         휘닉스 섭지코지  제주특별자치도 서귀포시 성산읍 섭지코지로 107    NaN\n",
       "844990  202312.0  숙박업(생활)         휘닉스 섭지코지  제주특별자치도 서귀포시 성산읍 섭지코지로 107    NaN\n",
       "844998  202312.0     일반호텔              휘슬락        제주특별자치도 제주시 서부두2길 26    NaN\n",
       "845027  202312.0     관광호텔  히든 클리프 호텔 앤 네이처        제주특별자치도 서귀포시 상예동 625    NaN\n",
       "\n",
       "[7072 rows x 5 columns]"
      ],
      "text/html": [
       "<div>\n",
       "<style scoped>\n",
       "    .dataframe tbody tr th:only-of-type {\n",
       "        vertical-align: middle;\n",
       "    }\n",
       "\n",
       "    .dataframe tbody tr th {\n",
       "        vertical-align: top;\n",
       "    }\n",
       "\n",
       "    .dataframe thead th {\n",
       "        text-align: right;\n",
       "    }\n",
       "</style>\n",
       "<table border=\"1\" class=\"dataframe\">\n",
       "  <thead>\n",
       "    <tr style=\"text-align: right;\">\n",
       "      <th></th>\n",
       "      <th>BASE_YM</th>\n",
       "      <th>CL_NM</th>\n",
       "      <th>TRRSRT_NM</th>\n",
       "      <th>TRRSRT_ADDR</th>\n",
       "      <th>MOP_CN</th>\n",
       "    </tr>\n",
       "  </thead>\n",
       "  <tbody>\n",
       "    <tr>\n",
       "      <th>33292</th>\n",
       "      <td>202302.0</td>\n",
       "      <td>공연전시</td>\n",
       "      <td>고흐의 정원</td>\n",
       "      <td>제주 서귀포시 성산읍 삼달신풍로 126-5</td>\n",
       "      <td>NaN</td>\n",
       "    </tr>\n",
       "    <tr>\n",
       "      <th>33325</th>\n",
       "      <td>202302.0</td>\n",
       "      <td>공연전시</td>\n",
       "      <td>고흐의 정원</td>\n",
       "      <td>제주 서귀포시 성산읍 삼달신풍로 126-5</td>\n",
       "      <td>NaN</td>\n",
       "    </tr>\n",
       "    <tr>\n",
       "      <th>33349</th>\n",
       "      <td>202302.0</td>\n",
       "      <td>공연전시</td>\n",
       "      <td>고흐의 정원</td>\n",
       "      <td>제주 서귀포시 성산읍 삼달신풍로 126-5</td>\n",
       "      <td>NaN</td>\n",
       "    </tr>\n",
       "    <tr>\n",
       "      <th>33368</th>\n",
       "      <td>202302.0</td>\n",
       "      <td>공연전시</td>\n",
       "      <td>고흐의 정원</td>\n",
       "      <td>제주 서귀포시 성산읍 삼달신풍로 126-5</td>\n",
       "      <td>NaN</td>\n",
       "    </tr>\n",
       "    <tr>\n",
       "      <th>33392</th>\n",
       "      <td>202302.0</td>\n",
       "      <td>공연전시</td>\n",
       "      <td>고흐의 정원</td>\n",
       "      <td>제주 서귀포시 성산읍 삼달신풍로 126-5</td>\n",
       "      <td>NaN</td>\n",
       "    </tr>\n",
       "    <tr>\n",
       "      <th>...</th>\n",
       "      <td>...</td>\n",
       "      <td>...</td>\n",
       "      <td>...</td>\n",
       "      <td>...</td>\n",
       "      <td>...</td>\n",
       "    </tr>\n",
       "    <tr>\n",
       "      <th>844975</th>\n",
       "      <td>202312.0</td>\n",
       "      <td>일반호텔</td>\n",
       "      <td>호텔위드제주</td>\n",
       "      <td>제주특별자치도 제주시 노연로 34</td>\n",
       "      <td>NaN</td>\n",
       "    </tr>\n",
       "    <tr>\n",
       "      <th>844979</th>\n",
       "      <td>202312.0</td>\n",
       "      <td>숙박업(생활)</td>\n",
       "      <td>휘닉스 섭지코지</td>\n",
       "      <td>제주특별자치도 서귀포시 성산읍 섭지코지로 107</td>\n",
       "      <td>NaN</td>\n",
       "    </tr>\n",
       "    <tr>\n",
       "      <th>844990</th>\n",
       "      <td>202312.0</td>\n",
       "      <td>숙박업(생활)</td>\n",
       "      <td>휘닉스 섭지코지</td>\n",
       "      <td>제주특별자치도 서귀포시 성산읍 섭지코지로 107</td>\n",
       "      <td>NaN</td>\n",
       "    </tr>\n",
       "    <tr>\n",
       "      <th>844998</th>\n",
       "      <td>202312.0</td>\n",
       "      <td>일반호텔</td>\n",
       "      <td>휘슬락</td>\n",
       "      <td>제주특별자치도 제주시 서부두2길 26</td>\n",
       "      <td>NaN</td>\n",
       "    </tr>\n",
       "    <tr>\n",
       "      <th>845027</th>\n",
       "      <td>202312.0</td>\n",
       "      <td>관광호텔</td>\n",
       "      <td>히든 클리프 호텔 앤 네이처</td>\n",
       "      <td>제주특별자치도 서귀포시 상예동 625</td>\n",
       "      <td>NaN</td>\n",
       "    </tr>\n",
       "  </tbody>\n",
       "</table>\n",
       "<p>7072 rows × 5 columns</p>\n",
       "</div>"
      ]
     },
     "execution_count": 11,
     "metadata": {},
     "output_type": "execute_result"
    }
   ],
   "execution_count": 11
  },
  {
   "metadata": {
    "ExecuteTime": {
     "end_time": "2025-01-28T17:19:16.677726500Z",
     "start_time": "2025-01-27T04:55:49.475640Z"
    }
   },
   "cell_type": "code",
   "source": "combined_df = combined_df.dropna(subset=['MOP_CN'])",
   "id": "887334376e7d6ac0",
   "outputs": [],
   "execution_count": 12
  },
  {
   "metadata": {
    "ExecuteTime": {
     "end_time": "2025-01-28T17:19:16.679726600Z",
     "start_time": "2025-01-27T04:55:49.618497Z"
    }
   },
   "cell_type": "code",
   "source": "combined_df.isnull().sum()",
   "id": "e8345f543039ac9f",
   "outputs": [
    {
     "data": {
      "text/plain": [
       "BASE_YM        3058\n",
       "CL_NM            30\n",
       "TRRSRT_NM         0\n",
       "TRRSRT_ADDR       0\n",
       "MOP_CN            0\n",
       "dtype: int64"
      ]
     },
     "execution_count": 13,
     "metadata": {},
     "output_type": "execute_result"
    }
   ],
   "execution_count": 13
  },
  {
   "metadata": {
    "ExecuteTime": {
     "end_time": "2025-01-28T17:19:16.681730700Z",
     "start_time": "2025-01-27T04:55:50.149781Z"
    }
   },
   "cell_type": "code",
   "source": [
    "combined_df = combined_df.dropna()\n",
    "\n",
    "combined_df.info()"
   ],
   "id": "2d339034bcb074e6",
   "outputs": [
    {
     "name": "stdout",
     "output_type": "stream",
     "text": [
      "<class 'pandas.core.frame.DataFrame'>\n",
      "Index: 834914 entries, 0 to 845043\n",
      "Data columns (total 5 columns):\n",
      " #   Column       Non-Null Count   Dtype \n",
      "---  ------       --------------   ----- \n",
      " 0   BASE_YM      834914 non-null  object\n",
      " 1   CL_NM        834914 non-null  object\n",
      " 2   TRRSRT_NM    834914 non-null  object\n",
      " 3   TRRSRT_ADDR  834914 non-null  object\n",
      " 4   MOP_CN       834914 non-null  object\n",
      "dtypes: object(5)\n",
      "memory usage: 38.2+ MB\n"
     ]
    }
   ],
   "execution_count": 14
  },
  {
   "metadata": {
    "ExecuteTime": {
     "end_time": "2025-01-28T17:19:16.689727700Z",
     "start_time": "2025-01-27T04:55:50.539993Z"
    }
   },
   "cell_type": "code",
   "source": [
    "# # 저장 경로와 파일 이름 설정\n",
    "# save_path = r\"E:\\문화빅데이터플랫폼\\cleaned_data\\REVIEW_MOP_INFO.csv\"  # 원하는 경로로 수정\n",
    "# \n",
    "# # CSV 파일로 저장\n",
    "# combined_df.to_csv(save_path, index=False, encoding='utf-8-sig')\n",
    "# \n",
    "# print(f\"데이터프레임이 로컬에 저장되었습니다: {save_path}\")"
   ],
   "id": "99a3303a78f60a94",
   "outputs": [
    {
     "ename": "KeyboardInterrupt",
     "evalue": "",
     "output_type": "error",
     "traceback": [
      "\u001B[1;31m---------------------------------------------------------------------------\u001B[0m",
      "\u001B[1;31mKeyboardInterrupt\u001B[0m                         Traceback (most recent call last)",
      "Cell \u001B[1;32mIn[16], line 5\u001B[0m\n\u001B[0;32m      2\u001B[0m save_path \u001B[38;5;241m=\u001B[39m \u001B[38;5;124mr\u001B[39m\u001B[38;5;124m\"\u001B[39m\u001B[38;5;124mE:\u001B[39m\u001B[38;5;124m\\\u001B[39m\u001B[38;5;124m문화빅데이터플랫폼\u001B[39m\u001B[38;5;124m\\\u001B[39m\u001B[38;5;124mcleaned_data\u001B[39m\u001B[38;5;124m\\\u001B[39m\u001B[38;5;124mREVIEW_MOP_INFO.csv\u001B[39m\u001B[38;5;124m\"\u001B[39m  \u001B[38;5;66;03m# 원하는 경로로 수정\u001B[39;00m\n\u001B[0;32m      4\u001B[0m \u001B[38;5;66;03m# CSV 파일로 저장\u001B[39;00m\n\u001B[1;32m----> 5\u001B[0m combined_df\u001B[38;5;241m.\u001B[39mto_csv(save_path, index\u001B[38;5;241m=\u001B[39m\u001B[38;5;28;01mFalse\u001B[39;00m, encoding\u001B[38;5;241m=\u001B[39m\u001B[38;5;124m'\u001B[39m\u001B[38;5;124mutf-8-sig\u001B[39m\u001B[38;5;124m'\u001B[39m)\n\u001B[0;32m      7\u001B[0m \u001B[38;5;28mprint\u001B[39m(\u001B[38;5;124mf\u001B[39m\u001B[38;5;124m\"\u001B[39m\u001B[38;5;124m데이터프레임이 로컬에 저장되었습니다: \u001B[39m\u001B[38;5;132;01m{\u001B[39;00msave_path\u001B[38;5;132;01m}\u001B[39;00m\u001B[38;5;124m\"\u001B[39m)\n",
      "File \u001B[1;32m~\\anaconda3\\Lib\\site-packages\\pandas\\util\\_decorators.py:333\u001B[0m, in \u001B[0;36mdeprecate_nonkeyword_arguments.<locals>.decorate.<locals>.wrapper\u001B[1;34m(*args, **kwargs)\u001B[0m\n\u001B[0;32m    327\u001B[0m \u001B[38;5;28;01mif\u001B[39;00m \u001B[38;5;28mlen\u001B[39m(args) \u001B[38;5;241m>\u001B[39m num_allow_args:\n\u001B[0;32m    328\u001B[0m     warnings\u001B[38;5;241m.\u001B[39mwarn(\n\u001B[0;32m    329\u001B[0m         msg\u001B[38;5;241m.\u001B[39mformat(arguments\u001B[38;5;241m=\u001B[39m_format_argument_list(allow_args)),\n\u001B[0;32m    330\u001B[0m         \u001B[38;5;167;01mFutureWarning\u001B[39;00m,\n\u001B[0;32m    331\u001B[0m         stacklevel\u001B[38;5;241m=\u001B[39mfind_stack_level(),\n\u001B[0;32m    332\u001B[0m     )\n\u001B[1;32m--> 333\u001B[0m \u001B[38;5;28;01mreturn\u001B[39;00m func(\u001B[38;5;241m*\u001B[39margs, \u001B[38;5;241m*\u001B[39m\u001B[38;5;241m*\u001B[39mkwargs)\n",
      "File \u001B[1;32m~\\anaconda3\\Lib\\site-packages\\pandas\\core\\generic.py:3967\u001B[0m, in \u001B[0;36mNDFrame.to_csv\u001B[1;34m(self, path_or_buf, sep, na_rep, float_format, columns, header, index, index_label, mode, encoding, compression, quoting, quotechar, lineterminator, chunksize, date_format, doublequote, escapechar, decimal, errors, storage_options)\u001B[0m\n\u001B[0;32m   3956\u001B[0m df \u001B[38;5;241m=\u001B[39m \u001B[38;5;28mself\u001B[39m \u001B[38;5;28;01mif\u001B[39;00m \u001B[38;5;28misinstance\u001B[39m(\u001B[38;5;28mself\u001B[39m, ABCDataFrame) \u001B[38;5;28;01melse\u001B[39;00m \u001B[38;5;28mself\u001B[39m\u001B[38;5;241m.\u001B[39mto_frame()\n\u001B[0;32m   3958\u001B[0m formatter \u001B[38;5;241m=\u001B[39m DataFrameFormatter(\n\u001B[0;32m   3959\u001B[0m     frame\u001B[38;5;241m=\u001B[39mdf,\n\u001B[0;32m   3960\u001B[0m     header\u001B[38;5;241m=\u001B[39mheader,\n\u001B[1;32m   (...)\u001B[0m\n\u001B[0;32m   3964\u001B[0m     decimal\u001B[38;5;241m=\u001B[39mdecimal,\n\u001B[0;32m   3965\u001B[0m )\n\u001B[1;32m-> 3967\u001B[0m \u001B[38;5;28;01mreturn\u001B[39;00m DataFrameRenderer(formatter)\u001B[38;5;241m.\u001B[39mto_csv(\n\u001B[0;32m   3968\u001B[0m     path_or_buf,\n\u001B[0;32m   3969\u001B[0m     lineterminator\u001B[38;5;241m=\u001B[39mlineterminator,\n\u001B[0;32m   3970\u001B[0m     sep\u001B[38;5;241m=\u001B[39msep,\n\u001B[0;32m   3971\u001B[0m     encoding\u001B[38;5;241m=\u001B[39mencoding,\n\u001B[0;32m   3972\u001B[0m     errors\u001B[38;5;241m=\u001B[39merrors,\n\u001B[0;32m   3973\u001B[0m     compression\u001B[38;5;241m=\u001B[39mcompression,\n\u001B[0;32m   3974\u001B[0m     quoting\u001B[38;5;241m=\u001B[39mquoting,\n\u001B[0;32m   3975\u001B[0m     columns\u001B[38;5;241m=\u001B[39mcolumns,\n\u001B[0;32m   3976\u001B[0m     index_label\u001B[38;5;241m=\u001B[39mindex_label,\n\u001B[0;32m   3977\u001B[0m     mode\u001B[38;5;241m=\u001B[39mmode,\n\u001B[0;32m   3978\u001B[0m     chunksize\u001B[38;5;241m=\u001B[39mchunksize,\n\u001B[0;32m   3979\u001B[0m     quotechar\u001B[38;5;241m=\u001B[39mquotechar,\n\u001B[0;32m   3980\u001B[0m     date_format\u001B[38;5;241m=\u001B[39mdate_format,\n\u001B[0;32m   3981\u001B[0m     doublequote\u001B[38;5;241m=\u001B[39mdoublequote,\n\u001B[0;32m   3982\u001B[0m     escapechar\u001B[38;5;241m=\u001B[39mescapechar,\n\u001B[0;32m   3983\u001B[0m     storage_options\u001B[38;5;241m=\u001B[39mstorage_options,\n\u001B[0;32m   3984\u001B[0m )\n",
      "File \u001B[1;32m~\\anaconda3\\Lib\\site-packages\\pandas\\io\\formats\\format.py:1014\u001B[0m, in \u001B[0;36mDataFrameRenderer.to_csv\u001B[1;34m(self, path_or_buf, encoding, sep, columns, index_label, mode, compression, quoting, quotechar, lineterminator, chunksize, date_format, doublequote, escapechar, errors, storage_options)\u001B[0m\n\u001B[0;32m    993\u001B[0m     created_buffer \u001B[38;5;241m=\u001B[39m \u001B[38;5;28;01mFalse\u001B[39;00m\n\u001B[0;32m    995\u001B[0m csv_formatter \u001B[38;5;241m=\u001B[39m CSVFormatter(\n\u001B[0;32m    996\u001B[0m     path_or_buf\u001B[38;5;241m=\u001B[39mpath_or_buf,\n\u001B[0;32m    997\u001B[0m     lineterminator\u001B[38;5;241m=\u001B[39mlineterminator,\n\u001B[1;32m   (...)\u001B[0m\n\u001B[0;32m   1012\u001B[0m     formatter\u001B[38;5;241m=\u001B[39m\u001B[38;5;28mself\u001B[39m\u001B[38;5;241m.\u001B[39mfmt,\n\u001B[0;32m   1013\u001B[0m )\n\u001B[1;32m-> 1014\u001B[0m csv_formatter\u001B[38;5;241m.\u001B[39msave()\n\u001B[0;32m   1016\u001B[0m \u001B[38;5;28;01mif\u001B[39;00m created_buffer:\n\u001B[0;32m   1017\u001B[0m     \u001B[38;5;28;01massert\u001B[39;00m \u001B[38;5;28misinstance\u001B[39m(path_or_buf, StringIO)\n",
      "File \u001B[1;32m~\\anaconda3\\Lib\\site-packages\\pandas\\io\\formats\\csvs.py:270\u001B[0m, in \u001B[0;36mCSVFormatter.save\u001B[1;34m(self)\u001B[0m\n\u001B[0;32m    251\u001B[0m \u001B[38;5;28;01mwith\u001B[39;00m get_handle(\n\u001B[0;32m    252\u001B[0m     \u001B[38;5;28mself\u001B[39m\u001B[38;5;241m.\u001B[39mfilepath_or_buffer,\n\u001B[0;32m    253\u001B[0m     \u001B[38;5;28mself\u001B[39m\u001B[38;5;241m.\u001B[39mmode,\n\u001B[1;32m   (...)\u001B[0m\n\u001B[0;32m    258\u001B[0m ) \u001B[38;5;28;01mas\u001B[39;00m handles:\n\u001B[0;32m    259\u001B[0m     \u001B[38;5;66;03m# Note: self.encoding is irrelevant here\u001B[39;00m\n\u001B[0;32m    260\u001B[0m     \u001B[38;5;28mself\u001B[39m\u001B[38;5;241m.\u001B[39mwriter \u001B[38;5;241m=\u001B[39m csvlib\u001B[38;5;241m.\u001B[39mwriter(\n\u001B[0;32m    261\u001B[0m         handles\u001B[38;5;241m.\u001B[39mhandle,\n\u001B[0;32m    262\u001B[0m         lineterminator\u001B[38;5;241m=\u001B[39m\u001B[38;5;28mself\u001B[39m\u001B[38;5;241m.\u001B[39mlineterminator,\n\u001B[1;32m   (...)\u001B[0m\n\u001B[0;32m    267\u001B[0m         quotechar\u001B[38;5;241m=\u001B[39m\u001B[38;5;28mself\u001B[39m\u001B[38;5;241m.\u001B[39mquotechar,\n\u001B[0;32m    268\u001B[0m     )\n\u001B[1;32m--> 270\u001B[0m     \u001B[38;5;28mself\u001B[39m\u001B[38;5;241m.\u001B[39m_save()\n",
      "File \u001B[1;32m~\\anaconda3\\Lib\\site-packages\\pandas\\io\\formats\\csvs.py:275\u001B[0m, in \u001B[0;36mCSVFormatter._save\u001B[1;34m(self)\u001B[0m\n\u001B[0;32m    273\u001B[0m \u001B[38;5;28;01mif\u001B[39;00m \u001B[38;5;28mself\u001B[39m\u001B[38;5;241m.\u001B[39m_need_to_save_header:\n\u001B[0;32m    274\u001B[0m     \u001B[38;5;28mself\u001B[39m\u001B[38;5;241m.\u001B[39m_save_header()\n\u001B[1;32m--> 275\u001B[0m \u001B[38;5;28mself\u001B[39m\u001B[38;5;241m.\u001B[39m_save_body()\n",
      "File \u001B[1;32m~\\anaconda3\\Lib\\site-packages\\pandas\\io\\formats\\csvs.py:313\u001B[0m, in \u001B[0;36mCSVFormatter._save_body\u001B[1;34m(self)\u001B[0m\n\u001B[0;32m    311\u001B[0m \u001B[38;5;28;01mif\u001B[39;00m start_i \u001B[38;5;241m>\u001B[39m\u001B[38;5;241m=\u001B[39m end_i:\n\u001B[0;32m    312\u001B[0m     \u001B[38;5;28;01mbreak\u001B[39;00m\n\u001B[1;32m--> 313\u001B[0m \u001B[38;5;28mself\u001B[39m\u001B[38;5;241m.\u001B[39m_save_chunk(start_i, end_i)\n",
      "File \u001B[1;32m~\\anaconda3\\Lib\\site-packages\\pandas\\io\\formats\\csvs.py:324\u001B[0m, in \u001B[0;36mCSVFormatter._save_chunk\u001B[1;34m(self, start_i, end_i)\u001B[0m\n\u001B[0;32m    321\u001B[0m data \u001B[38;5;241m=\u001B[39m \u001B[38;5;28mlist\u001B[39m(res\u001B[38;5;241m.\u001B[39m_iter_column_arrays())\n\u001B[0;32m    323\u001B[0m ix \u001B[38;5;241m=\u001B[39m \u001B[38;5;28mself\u001B[39m\u001B[38;5;241m.\u001B[39mdata_index[slicer]\u001B[38;5;241m.\u001B[39m_get_values_for_csv(\u001B[38;5;241m*\u001B[39m\u001B[38;5;241m*\u001B[39m\u001B[38;5;28mself\u001B[39m\u001B[38;5;241m.\u001B[39m_number_format)\n\u001B[1;32m--> 324\u001B[0m libwriters\u001B[38;5;241m.\u001B[39mwrite_csv_rows(\n\u001B[0;32m    325\u001B[0m     data,\n\u001B[0;32m    326\u001B[0m     ix,\n\u001B[0;32m    327\u001B[0m     \u001B[38;5;28mself\u001B[39m\u001B[38;5;241m.\u001B[39mnlevels,\n\u001B[0;32m    328\u001B[0m     \u001B[38;5;28mself\u001B[39m\u001B[38;5;241m.\u001B[39mcols,\n\u001B[0;32m    329\u001B[0m     \u001B[38;5;28mself\u001B[39m\u001B[38;5;241m.\u001B[39mwriter,\n\u001B[0;32m    330\u001B[0m )\n",
      "File \u001B[1;32mwriters.pyx:73\u001B[0m, in \u001B[0;36mpandas._libs.writers.write_csv_rows\u001B[1;34m()\u001B[0m\n",
      "\u001B[1;31mKeyboardInterrupt\u001B[0m: "
     ]
    }
   ],
   "execution_count": 16
  },
  {
   "metadata": {},
   "cell_type": "markdown",
   "source": "### EDA",
   "id": "727b06cb5e33f512"
  },
  {
   "metadata": {
    "ExecuteTime": {
     "end_time": "2025-01-28T17:19:16.693731500Z",
     "start_time": "2025-01-28T14:03:53.039832Z"
    }
   },
   "cell_type": "code",
   "source": [
    "import matplotlib.pyplot as plt\n",
    "import matplotlib.font_manager as fm\n",
    "\n",
    "# 한글 폰트 설정\n",
    "plt.rcParams['font.family'] = 'Malgun Gothic'  # Windows의 맑은 고딕\n",
    "plt.rcParams['axes.unicode_minus'] = False  # 마이너스 기호 깨짐 방지"
   ],
   "id": "f1d481e296897bf8",
   "outputs": [],
   "execution_count": 8
  },
  {
   "metadata": {
    "ExecuteTime": {
     "end_time": "2025-01-29T12:17:32.159315Z",
     "start_time": "2025-01-29T12:17:29.905780Z"
    }
   },
   "cell_type": "code",
   "source": "import pandas as pd",
   "id": "e6e5568c3f8131f7",
   "outputs": [],
   "execution_count": 1
  },
  {
   "metadata": {
    "ExecuteTime": {
     "end_time": "2025-01-30T13:09:21.870890Z",
     "start_time": "2025-01-30T13:09:20.737539Z"
    }
   },
   "cell_type": "code",
   "source": [
    "# 파일 불러오기\n",
    "\n",
    "file_path = r\"E:\\문화빅데이터플랫폼\\cleaned_data\\REVIEW_MOP_INFO.csv\"\n",
    "REVIEW_MOP_INFO = pd.read_csv(file_path)"
   ],
   "id": "869a1827416d2b3d",
   "outputs": [
    {
     "ename": "NameError",
     "evalue": "name 'pd' is not defined",
     "output_type": "error",
     "traceback": [
      "\u001B[1;31m---------------------------------------------------------------------------\u001B[0m",
      "\u001B[1;31mNameError\u001B[0m                                 Traceback (most recent call last)",
      "Cell \u001B[1;32mIn[1], line 4\u001B[0m\n\u001B[0;32m      1\u001B[0m \u001B[38;5;66;03m# 파일 불러오기\u001B[39;00m\n\u001B[0;32m      3\u001B[0m file_path \u001B[38;5;241m=\u001B[39m \u001B[38;5;124mr\u001B[39m\u001B[38;5;124m\"\u001B[39m\u001B[38;5;124mE:\u001B[39m\u001B[38;5;124m\\\u001B[39m\u001B[38;5;124m문화빅데이터플랫폼\u001B[39m\u001B[38;5;124m\\\u001B[39m\u001B[38;5;124mcleaned_data\u001B[39m\u001B[38;5;124m\\\u001B[39m\u001B[38;5;124mREVIEW_MOP_INFO.csv\u001B[39m\u001B[38;5;124m\"\u001B[39m\n\u001B[1;32m----> 4\u001B[0m REVIEW_MOP_INFO \u001B[38;5;241m=\u001B[39m \u001B[43mpd\u001B[49m\u001B[38;5;241m.\u001B[39mread_csv(file_path)\n",
      "\u001B[1;31mNameError\u001B[0m: name 'pd' is not defined"
     ]
    }
   ],
   "execution_count": 1
  },
  {
   "metadata": {
    "ExecuteTime": {
     "end_time": "2025-01-28T17:19:16.707730900Z",
     "start_time": "2025-01-28T14:02:53.453340Z"
    }
   },
   "cell_type": "code",
   "outputs": [
    {
     "name": "stdout",
     "output_type": "stream",
     "text": [
      "<class 'pandas.core.frame.DataFrame'>\n",
      "RangeIndex: 219655 entries, 0 to 219654\n",
      "Data columns (total 5 columns):\n",
      " #   Column       Non-Null Count   Dtype  \n",
      "---  ------       --------------   -----  \n",
      " 0   BASE_YM      219655 non-null  float64\n",
      " 1   CL_NM        219655 non-null  object \n",
      " 2   TRRSRT_NM    219655 non-null  object \n",
      " 3   TRRSRT_ADDR  219655 non-null  object \n",
      " 4   MOP_CN       219655 non-null  object \n",
      "dtypes: float64(1), object(4)\n",
      "memory usage: 8.4+ MB\n"
     ]
    }
   ],
   "execution_count": 3,
   "source": "REVIEW_MOP_INFO.info()",
   "id": "3654cf6e08fbd8e"
  },
  {
   "metadata": {
    "ExecuteTime": {
     "end_time": "2025-01-28T17:19:16.715730Z",
     "start_time": "2025-01-28T14:03:03.993424Z"
    }
   },
   "cell_type": "code",
   "outputs": [
    {
     "data": {
      "text/plain": [
       "         BASE_YM CL_NM  TRRSRT_NM              TRRSRT_ADDR              MOP_CN\n",
       "0       202301.0  공연전시     고흐의 정원  제주 서귀포시 성산읍 삼달신풍로 126-5              볼거리,다양\n",
       "1       202301.0  공연전시     고흐의 정원  제주 서귀포시 성산읍 삼달신풍로 126-5                  친구\n",
       "2       202301.0  공연전시     고흐의 정원  제주 서귀포시 성산읍 삼달신풍로 126-5                 관람객\n",
       "3       202301.0  공연전시     고흐의 정원  제주 서귀포시 성산읍 삼달신풍로 126-5  파충류,아이,도마뱀,고흐,트릭아트\n",
       "4       202301.0  공연전시     고흐의 정원  제주 서귀포시 성산읍 삼달신풍로 126-5               사진,아이\n",
       "...          ...   ...        ...                      ...                 ...\n",
       "219650  202303.0    키즈  아쿠아플라넷 제주     제주 서귀포시 성산읍 섭지코지로 95         관람,아이,최고,어른\n",
       "219651  202303.0    키즈  아쿠아플라넷 제주     제주 서귀포시 성산읍 섭지코지로 95      할인,활동,실내,제주,방문\n",
       "219652  202303.0    키즈  아쿠아플라넷 제주     제주 서귀포시 성산읍 섭지코지로 95                  친절\n",
       "219653  202303.0    키즈  아쿠아플라넷 제주     제주 서귀포시 성산읍 섭지코지로 95    할인,볼거리,도민,공연,이벤트\n",
       "219654  202303.0    키즈  아쿠아플라넷 제주     제주 서귀포시 성산읍 섭지코지로 95      공연,종일,코스,바다,가족\n",
       "\n",
       "[219655 rows x 5 columns]"
      ],
      "text/html": [
       "<div>\n",
       "<style scoped>\n",
       "    .dataframe tbody tr th:only-of-type {\n",
       "        vertical-align: middle;\n",
       "    }\n",
       "\n",
       "    .dataframe tbody tr th {\n",
       "        vertical-align: top;\n",
       "    }\n",
       "\n",
       "    .dataframe thead th {\n",
       "        text-align: right;\n",
       "    }\n",
       "</style>\n",
       "<table border=\"1\" class=\"dataframe\">\n",
       "  <thead>\n",
       "    <tr style=\"text-align: right;\">\n",
       "      <th></th>\n",
       "      <th>BASE_YM</th>\n",
       "      <th>CL_NM</th>\n",
       "      <th>TRRSRT_NM</th>\n",
       "      <th>TRRSRT_ADDR</th>\n",
       "      <th>MOP_CN</th>\n",
       "    </tr>\n",
       "  </thead>\n",
       "  <tbody>\n",
       "    <tr>\n",
       "      <th>0</th>\n",
       "      <td>202301.0</td>\n",
       "      <td>공연전시</td>\n",
       "      <td>고흐의 정원</td>\n",
       "      <td>제주 서귀포시 성산읍 삼달신풍로 126-5</td>\n",
       "      <td>볼거리,다양</td>\n",
       "    </tr>\n",
       "    <tr>\n",
       "      <th>1</th>\n",
       "      <td>202301.0</td>\n",
       "      <td>공연전시</td>\n",
       "      <td>고흐의 정원</td>\n",
       "      <td>제주 서귀포시 성산읍 삼달신풍로 126-5</td>\n",
       "      <td>친구</td>\n",
       "    </tr>\n",
       "    <tr>\n",
       "      <th>2</th>\n",
       "      <td>202301.0</td>\n",
       "      <td>공연전시</td>\n",
       "      <td>고흐의 정원</td>\n",
       "      <td>제주 서귀포시 성산읍 삼달신풍로 126-5</td>\n",
       "      <td>관람객</td>\n",
       "    </tr>\n",
       "    <tr>\n",
       "      <th>3</th>\n",
       "      <td>202301.0</td>\n",
       "      <td>공연전시</td>\n",
       "      <td>고흐의 정원</td>\n",
       "      <td>제주 서귀포시 성산읍 삼달신풍로 126-5</td>\n",
       "      <td>파충류,아이,도마뱀,고흐,트릭아트</td>\n",
       "    </tr>\n",
       "    <tr>\n",
       "      <th>4</th>\n",
       "      <td>202301.0</td>\n",
       "      <td>공연전시</td>\n",
       "      <td>고흐의 정원</td>\n",
       "      <td>제주 서귀포시 성산읍 삼달신풍로 126-5</td>\n",
       "      <td>사진,아이</td>\n",
       "    </tr>\n",
       "    <tr>\n",
       "      <th>...</th>\n",
       "      <td>...</td>\n",
       "      <td>...</td>\n",
       "      <td>...</td>\n",
       "      <td>...</td>\n",
       "      <td>...</td>\n",
       "    </tr>\n",
       "    <tr>\n",
       "      <th>219650</th>\n",
       "      <td>202303.0</td>\n",
       "      <td>키즈</td>\n",
       "      <td>아쿠아플라넷 제주</td>\n",
       "      <td>제주 서귀포시 성산읍 섭지코지로 95</td>\n",
       "      <td>관람,아이,최고,어른</td>\n",
       "    </tr>\n",
       "    <tr>\n",
       "      <th>219651</th>\n",
       "      <td>202303.0</td>\n",
       "      <td>키즈</td>\n",
       "      <td>아쿠아플라넷 제주</td>\n",
       "      <td>제주 서귀포시 성산읍 섭지코지로 95</td>\n",
       "      <td>할인,활동,실내,제주,방문</td>\n",
       "    </tr>\n",
       "    <tr>\n",
       "      <th>219652</th>\n",
       "      <td>202303.0</td>\n",
       "      <td>키즈</td>\n",
       "      <td>아쿠아플라넷 제주</td>\n",
       "      <td>제주 서귀포시 성산읍 섭지코지로 95</td>\n",
       "      <td>친절</td>\n",
       "    </tr>\n",
       "    <tr>\n",
       "      <th>219653</th>\n",
       "      <td>202303.0</td>\n",
       "      <td>키즈</td>\n",
       "      <td>아쿠아플라넷 제주</td>\n",
       "      <td>제주 서귀포시 성산읍 섭지코지로 95</td>\n",
       "      <td>할인,볼거리,도민,공연,이벤트</td>\n",
       "    </tr>\n",
       "    <tr>\n",
       "      <th>219654</th>\n",
       "      <td>202303.0</td>\n",
       "      <td>키즈</td>\n",
       "      <td>아쿠아플라넷 제주</td>\n",
       "      <td>제주 서귀포시 성산읍 섭지코지로 95</td>\n",
       "      <td>공연,종일,코스,바다,가족</td>\n",
       "    </tr>\n",
       "  </tbody>\n",
       "</table>\n",
       "<p>219655 rows × 5 columns</p>\n",
       "</div>"
      ]
     },
     "execution_count": 4,
     "metadata": {},
     "output_type": "execute_result"
    }
   ],
   "execution_count": 4,
   "source": "REVIEW_MOP_INFO",
   "id": "806577ac9fc8104"
  },
  {
   "metadata": {
    "ExecuteTime": {
     "end_time": "2025-01-28T17:19:16.718729100Z",
     "start_time": "2025-01-28T14:18:09.595107Z"
    }
   },
   "cell_type": "code",
   "source": [
    "# 고유한 관광지 확인\n",
    "\n",
    "unique_places = REVIEW_MOP_INFO['TRRSRT_NM'].unique()\n",
    "\n",
    "# 고유값 개수와 리스트 출력\n",
    "print(f\"관광지의 고유값 개수: {len(unique_places)}\")\n",
    "print(\"고유값 리스트:\")\n",
    "print(unique_places)"
   ],
   "id": "7ef5c5cc15a4956f",
   "outputs": [
    {
     "name": "stdout",
     "output_type": "stream",
     "text": [
      "관광지의 고유값 개수: 89\n",
      "고유값 리스트:\n",
      "['고흐의 정원' '빛의벙커' '세계자동차박물관' '수목원테마파크' '아리랑공연장' '건강과성박물관' '윈드1947카트 테마파크'\n",
      " '테디베어박물관' '점보빌리지' '헬로키티아일랜드' '피규어뮤지엄제주' '제주난타' '스카이워터쇼' '제주산방산탄산온천'\n",
      " '오설록 티 뮤지엄' '명월국민학교' '김녕요트투어' '서귀포잠수함' '제주 레일바이크' '제주레포츠랜드' '제주제트'\n",
      " '뽀로로&타요테마파크 제주' '아쿠아플라넷 제주' '라온 더마파크' '메이즈랜드' '여미지식물원' '브릭캠퍼스' '일출랜드'\n",
      " '상효원' '소인국테마파크' '스누피가든' '신화테마파크제주' '제주돌문화공원' '제주민속촌' '카멜리아힐' '한림공원'\n",
      " '제주허브동산' '이중섭미술관' '비자림' '만장굴' '성산일출봉' '아프리카박물관' '초콜릿랜드' '삼성혈' '마라도가는여객선'\n",
      " '산양큰엉곶' '방림원' '제주무민랜드' '다이나믹메이즈제주' '감귤박물관' '에코랜드' '숨도' '제주해양동물박물관'\n",
      " '그리스신화박물관' '섬타르' '망고레이섭지코지점' '걸리버여행기' '산방산유람선' '제주바다체험장' '제주실탄사격장'\n",
      " '중문오프로드체험장' '중문카트' '퍼시픽마리나' '세별헤이요목장' '서프라이즈테마파크' '액트몬' '제주코코몽에코파크'\n",
      " '생각하는정원' '쇠소깍산물관광농원' '훈데르트바서파크' '액티브파크' '천제연폭포' '정방폭포' '더힐링타임'\n",
      " '신화월드 랜딩다이닝' '신화월드 스카이 온 파이브 다이닝' '고스트타운' '제주씨월드(우도잠수함)' '제주그림카페'\n",
      " '난드르깡통구이' '용머리해안' '천지연폭포' '화조원' '서귀포치유의숲' '블루마운틴4255' '베니스랜드' '대포주상절리'\n",
      " '중문승마공원' '제주유리박물관']\n"
     ]
    }
   ],
   "execution_count": 21
  },
  {
   "metadata": {
    "ExecuteTime": {
     "end_time": "2025-01-28T17:19:16.720727300Z",
     "start_time": "2025-01-28T14:03:46.698152Z"
    }
   },
   "cell_type": "code",
   "outputs": [
    {
     "name": "stdout",
     "output_type": "stream",
     "text": [
      "가장 많이 언급된 상위 30개 관광지: TRRSRT_NM\n",
      "제주산방산탄산온천        28718\n",
      "스누피가든            21924\n",
      "아쿠아플라넷 제주        20918\n",
      "오설록 티 뮤지엄        19806\n",
      "제주레포츠랜드          18913\n",
      "카멜리아힐            18588\n",
      "세계자동차박물관         16896\n",
      "뽀로로&타요테마파크 제주    12696\n",
      "헬로키티아일랜드         11684\n",
      "한림공원              4813\n",
      "윈드1947카트 테마파크     3496\n",
      "비자림               3212\n",
      "빛의벙커              2765\n",
      "제주무민랜드            2515\n",
      "제주 레일바이크          2355\n",
      "서귀포잠수함            2268\n",
      "고흐의 정원            2000\n",
      "피규어뮤지엄제주          1739\n",
      "중문오프로드체험장         1701\n",
      "테디베어박물관           1550\n",
      "여미지식물원            1500\n",
      "스카이워터쇼            1449\n",
      "수목원테마파크           1267\n",
      "에코랜드              1150\n",
      "제주민속촌             1119\n",
      "액티브파크              923\n",
      "제주실탄사격장            876\n",
      "브릭캠퍼스              830\n",
      "라온 더마파크            729\n",
      "점보빌리지              615\n",
      "Name: count, dtype: int64\n"
     ]
    }
   ],
   "execution_count": 7,
   "source": [
    "# 언급 횟수 상위 30개의 관광지\n",
    "place_counts = REVIEW_MOP_INFO['TRRSRT_NM'].value_counts()\n",
    "\n",
    "top_30_places = place_counts.head(30)\n",
    "\n",
    "print(f\"가장 많이 언급된 상위 30개 관광지: {top_30_places}\")"
   ],
   "id": "69f347fdcc4a8264"
  },
  {
   "metadata": {
    "ExecuteTime": {
     "end_time": "2025-01-28T17:19:16.730730300Z",
     "start_time": "2025-01-28T14:05:08.463419Z"
    }
   },
   "cell_type": "code",
   "outputs": [
    {
     "data": {
      "text/plain": [
       "array(['공연전시', '기타', '레저관광', '키즈', '테마파크', '자연', '체험', '관광호텔업', '일반호텔',\n",
       "       '관광호텔', '숙박업(생활)', '여관업', '휴양콘도미니엄업'], dtype=object)"
      ]
     },
     "execution_count": 9,
     "metadata": {},
     "output_type": "execute_result"
    }
   ],
   "execution_count": 9,
   "source": [
    "unique_cl_nm = REVIEW_MOP_INFO['CL_NM'].unique()\n",
    "unique_cl_nm"
   ],
   "id": "21fd45244610b6c"
  },
  {
   "metadata": {
    "ExecuteTime": {
     "end_time": "2025-01-28T17:19:16.733728500Z",
     "start_time": "2025-01-28T14:18:57.088036Z"
    }
   },
   "cell_type": "code",
   "source": [
    "unique_cl_nm_counts = REVIEW_MOP_INFO['CL_NM'].value_counts()\n",
    "unique_cl_nm_counts"
   ],
   "id": "2257a4fdfc262f9f",
   "outputs": [
    {
     "data": {
      "text/plain": [
       "CL_NM\n",
       "테마파크    56209\n",
       "기타      49813\n",
       "공연전시    45653\n",
       "키즈      33880\n",
       "레저관광    27023\n",
       "자연       3746\n",
       "체험         23\n",
       "Name: count, dtype: int64"
      ]
     },
     "execution_count": 22,
     "metadata": {},
     "output_type": "execute_result"
    }
   ],
   "execution_count": 22
  },
  {
   "metadata": {
    "ExecuteTime": {
     "end_time": "2025-01-29T12:17:59.719143Z",
     "start_time": "2025-01-29T12:17:59.605856Z"
    }
   },
   "cell_type": "code",
   "source": [
    "# 숙박 관련은 제외\n",
    "REVIEW_MOP_INFO = REVIEW_MOP_INFO[~REVIEW_MOP_INFO['CL_NM'].isin(['관광호텔', '일반호텔', '숙박업(생활)', '휴양콘도미니엄업', '관광호텔업', '여관업'])]"
   ],
   "id": "fd3cd6c64632a1a0",
   "outputs": [],
   "execution_count": 3
  },
  {
   "metadata": {
    "ExecuteTime": {
     "end_time": "2025-01-28T17:19:42.906964Z",
     "start_time": "2025-01-28T17:19:42.832497Z"
    }
   },
   "cell_type": "code",
   "source": [
    "unique_cl_nm_counts = REVIEW_MOP_INFO['CL_NM'].value_counts()\n",
    "unique_cl_nm_counts"
   ],
   "id": "d4309ded36aa5921",
   "outputs": [
    {
     "data": {
      "text/plain": [
       "CL_NM\n",
       "테마파크    56209\n",
       "기타      49813\n",
       "공연전시    45653\n",
       "키즈      33880\n",
       "레저관광    27023\n",
       "자연       3746\n",
       "체험         23\n",
       "Name: count, dtype: int64"
      ]
     },
     "execution_count": 79,
     "metadata": {},
     "output_type": "execute_result"
    }
   ],
   "execution_count": 79
  },
  {
   "metadata": {
    "ExecuteTime": {
     "end_time": "2025-01-29T10:54:36.079840Z",
     "start_time": "2025-01-29T10:54:36.039570Z"
    }
   },
   "cell_type": "code",
   "source": [
    "unique_trrsrt_nm = REVIEW_MOP_INFO.loc[REVIEW_MOP_INFO['CL_NM'] == '기타', 'TRRSRT_NM'].unique()\n",
    "unique_trrsrt_nm # 후식"
   ],
   "id": "9f04909779651cd8",
   "outputs": [
    {
     "data": {
      "text/plain": [
       "array(['제주산방산탄산온천', '오설록 티 뮤지엄', '명월국민학교', '삼성혈', '섬타르', '망고레이섭지코지점',\n",
       "       '더힐링타임', '신화월드 랜딩다이닝', '신화월드 스카이 온 파이브 다이닝', '제주그림카페', '난드르깡통구이'],\n",
       "      dtype=object)"
      ]
     },
     "execution_count": 130,
     "metadata": {},
     "output_type": "execute_result"
    }
   ],
   "execution_count": 130
  },
  {
   "metadata": {},
   "cell_type": "markdown",
   "source": "",
   "id": "467000ac71c08e00"
  },
  {
   "metadata": {
    "ExecuteTime": {
     "end_time": "2025-01-28T17:19:16.749731300Z",
     "start_time": "2025-01-28T14:22:23.458227Z"
    }
   },
   "cell_type": "code",
   "source": "REVIEW_MOP_INFO",
   "id": "a7f329fe2d7c92c6",
   "outputs": [
    {
     "data": {
      "text/plain": [
       "         BASE_YM CL_NM  TRRSRT_NM              TRRSRT_ADDR              MOP_CN\n",
       "0       202301.0  공연전시     고흐의 정원  제주 서귀포시 성산읍 삼달신풍로 126-5              볼거리,다양\n",
       "1       202301.0  공연전시     고흐의 정원  제주 서귀포시 성산읍 삼달신풍로 126-5                  친구\n",
       "2       202301.0  공연전시     고흐의 정원  제주 서귀포시 성산읍 삼달신풍로 126-5                 관람객\n",
       "3       202301.0  공연전시     고흐의 정원  제주 서귀포시 성산읍 삼달신풍로 126-5  파충류,아이,도마뱀,고흐,트릭아트\n",
       "4       202301.0  공연전시     고흐의 정원  제주 서귀포시 성산읍 삼달신풍로 126-5               사진,아이\n",
       "...          ...   ...        ...                      ...                 ...\n",
       "219650  202303.0    키즈  아쿠아플라넷 제주     제주 서귀포시 성산읍 섭지코지로 95         관람,아이,최고,어른\n",
       "219651  202303.0    키즈  아쿠아플라넷 제주     제주 서귀포시 성산읍 섭지코지로 95      할인,활동,실내,제주,방문\n",
       "219652  202303.0    키즈  아쿠아플라넷 제주     제주 서귀포시 성산읍 섭지코지로 95                  친절\n",
       "219653  202303.0    키즈  아쿠아플라넷 제주     제주 서귀포시 성산읍 섭지코지로 95    할인,볼거리,도민,공연,이벤트\n",
       "219654  202303.0    키즈  아쿠아플라넷 제주     제주 서귀포시 성산읍 섭지코지로 95      공연,종일,코스,바다,가족\n",
       "\n",
       "[216347 rows x 5 columns]"
      ],
      "text/html": [
       "<div>\n",
       "<style scoped>\n",
       "    .dataframe tbody tr th:only-of-type {\n",
       "        vertical-align: middle;\n",
       "    }\n",
       "\n",
       "    .dataframe tbody tr th {\n",
       "        vertical-align: top;\n",
       "    }\n",
       "\n",
       "    .dataframe thead th {\n",
       "        text-align: right;\n",
       "    }\n",
       "</style>\n",
       "<table border=\"1\" class=\"dataframe\">\n",
       "  <thead>\n",
       "    <tr style=\"text-align: right;\">\n",
       "      <th></th>\n",
       "      <th>BASE_YM</th>\n",
       "      <th>CL_NM</th>\n",
       "      <th>TRRSRT_NM</th>\n",
       "      <th>TRRSRT_ADDR</th>\n",
       "      <th>MOP_CN</th>\n",
       "    </tr>\n",
       "  </thead>\n",
       "  <tbody>\n",
       "    <tr>\n",
       "      <th>0</th>\n",
       "      <td>202301.0</td>\n",
       "      <td>공연전시</td>\n",
       "      <td>고흐의 정원</td>\n",
       "      <td>제주 서귀포시 성산읍 삼달신풍로 126-5</td>\n",
       "      <td>볼거리,다양</td>\n",
       "    </tr>\n",
       "    <tr>\n",
       "      <th>1</th>\n",
       "      <td>202301.0</td>\n",
       "      <td>공연전시</td>\n",
       "      <td>고흐의 정원</td>\n",
       "      <td>제주 서귀포시 성산읍 삼달신풍로 126-5</td>\n",
       "      <td>친구</td>\n",
       "    </tr>\n",
       "    <tr>\n",
       "      <th>2</th>\n",
       "      <td>202301.0</td>\n",
       "      <td>공연전시</td>\n",
       "      <td>고흐의 정원</td>\n",
       "      <td>제주 서귀포시 성산읍 삼달신풍로 126-5</td>\n",
       "      <td>관람객</td>\n",
       "    </tr>\n",
       "    <tr>\n",
       "      <th>3</th>\n",
       "      <td>202301.0</td>\n",
       "      <td>공연전시</td>\n",
       "      <td>고흐의 정원</td>\n",
       "      <td>제주 서귀포시 성산읍 삼달신풍로 126-5</td>\n",
       "      <td>파충류,아이,도마뱀,고흐,트릭아트</td>\n",
       "    </tr>\n",
       "    <tr>\n",
       "      <th>4</th>\n",
       "      <td>202301.0</td>\n",
       "      <td>공연전시</td>\n",
       "      <td>고흐의 정원</td>\n",
       "      <td>제주 서귀포시 성산읍 삼달신풍로 126-5</td>\n",
       "      <td>사진,아이</td>\n",
       "    </tr>\n",
       "    <tr>\n",
       "      <th>...</th>\n",
       "      <td>...</td>\n",
       "      <td>...</td>\n",
       "      <td>...</td>\n",
       "      <td>...</td>\n",
       "      <td>...</td>\n",
       "    </tr>\n",
       "    <tr>\n",
       "      <th>219650</th>\n",
       "      <td>202303.0</td>\n",
       "      <td>키즈</td>\n",
       "      <td>아쿠아플라넷 제주</td>\n",
       "      <td>제주 서귀포시 성산읍 섭지코지로 95</td>\n",
       "      <td>관람,아이,최고,어른</td>\n",
       "    </tr>\n",
       "    <tr>\n",
       "      <th>219651</th>\n",
       "      <td>202303.0</td>\n",
       "      <td>키즈</td>\n",
       "      <td>아쿠아플라넷 제주</td>\n",
       "      <td>제주 서귀포시 성산읍 섭지코지로 95</td>\n",
       "      <td>할인,활동,실내,제주,방문</td>\n",
       "    </tr>\n",
       "    <tr>\n",
       "      <th>219652</th>\n",
       "      <td>202303.0</td>\n",
       "      <td>키즈</td>\n",
       "      <td>아쿠아플라넷 제주</td>\n",
       "      <td>제주 서귀포시 성산읍 섭지코지로 95</td>\n",
       "      <td>친절</td>\n",
       "    </tr>\n",
       "    <tr>\n",
       "      <th>219653</th>\n",
       "      <td>202303.0</td>\n",
       "      <td>키즈</td>\n",
       "      <td>아쿠아플라넷 제주</td>\n",
       "      <td>제주 서귀포시 성산읍 섭지코지로 95</td>\n",
       "      <td>할인,볼거리,도민,공연,이벤트</td>\n",
       "    </tr>\n",
       "    <tr>\n",
       "      <th>219654</th>\n",
       "      <td>202303.0</td>\n",
       "      <td>키즈</td>\n",
       "      <td>아쿠아플라넷 제주</td>\n",
       "      <td>제주 서귀포시 성산읍 섭지코지로 95</td>\n",
       "      <td>공연,종일,코스,바다,가족</td>\n",
       "    </tr>\n",
       "  </tbody>\n",
       "</table>\n",
       "<p>216347 rows × 5 columns</p>\n",
       "</div>"
      ]
     },
     "execution_count": 24,
     "metadata": {},
     "output_type": "execute_result"
    }
   ],
   "execution_count": 24
  },
  {
   "metadata": {
    "ExecuteTime": {
     "end_time": "2025-01-29T12:18:12.536935Z",
     "start_time": "2025-01-29T12:18:12.100867Z"
    }
   },
   "cell_type": "code",
   "source": [
    "# TRRSRT_NM별 MOP_CN 빈도수 정리\n",
    "mop_cn_counts = REVIEW_MOP_INFO.groupby(['TRRSRT_NM', 'MOP_CN']).size().reset_index(name='count')\n",
    "\n",
    "# TRRSRT_NM별 가장 많이 등장한 MOP_CN 찾기\n",
    "most_frequent_mop_cn = mop_cn_counts.loc[mop_cn_counts.groupby('TRRSRT_NM')['count'].idxmax()]\n",
    "\n",
    "most_frequent_mop_cn"
   ],
   "id": "a101376cbd51550",
   "outputs": [
    {
     "data": {
      "text/plain": [
       "      TRRSRT_NM     MOP_CN  count\n",
       "0         감귤박물관      가격,전망      1\n",
       "54      건강과성박물관         구경     19\n",
       "206      걸리버여행기         친절      4\n",
       "230       고스트타운         아이      5\n",
       "390      고흐의 정원         아이     35\n",
       "...         ...        ...    ...\n",
       "24327  피규어뮤지엄제주         아이     48\n",
       "24856      한림공원         산책     29\n",
       "26057  헬로키티아일랜드         아이     84\n",
       "26875       화조원         아이      3\n",
       "26922  훈데르트바서파크  가을,풍경,겨울철      2\n",
       "\n",
       "[89 rows x 3 columns]"
      ],
      "text/html": [
       "<div>\n",
       "<style scoped>\n",
       "    .dataframe tbody tr th:only-of-type {\n",
       "        vertical-align: middle;\n",
       "    }\n",
       "\n",
       "    .dataframe tbody tr th {\n",
       "        vertical-align: top;\n",
       "    }\n",
       "\n",
       "    .dataframe thead th {\n",
       "        text-align: right;\n",
       "    }\n",
       "</style>\n",
       "<table border=\"1\" class=\"dataframe\">\n",
       "  <thead>\n",
       "    <tr style=\"text-align: right;\">\n",
       "      <th></th>\n",
       "      <th>TRRSRT_NM</th>\n",
       "      <th>MOP_CN</th>\n",
       "      <th>count</th>\n",
       "    </tr>\n",
       "  </thead>\n",
       "  <tbody>\n",
       "    <tr>\n",
       "      <th>0</th>\n",
       "      <td>감귤박물관</td>\n",
       "      <td>가격,전망</td>\n",
       "      <td>1</td>\n",
       "    </tr>\n",
       "    <tr>\n",
       "      <th>54</th>\n",
       "      <td>건강과성박물관</td>\n",
       "      <td>구경</td>\n",
       "      <td>19</td>\n",
       "    </tr>\n",
       "    <tr>\n",
       "      <th>206</th>\n",
       "      <td>걸리버여행기</td>\n",
       "      <td>친절</td>\n",
       "      <td>4</td>\n",
       "    </tr>\n",
       "    <tr>\n",
       "      <th>230</th>\n",
       "      <td>고스트타운</td>\n",
       "      <td>아이</td>\n",
       "      <td>5</td>\n",
       "    </tr>\n",
       "    <tr>\n",
       "      <th>390</th>\n",
       "      <td>고흐의 정원</td>\n",
       "      <td>아이</td>\n",
       "      <td>35</td>\n",
       "    </tr>\n",
       "    <tr>\n",
       "      <th>...</th>\n",
       "      <td>...</td>\n",
       "      <td>...</td>\n",
       "      <td>...</td>\n",
       "    </tr>\n",
       "    <tr>\n",
       "      <th>24327</th>\n",
       "      <td>피규어뮤지엄제주</td>\n",
       "      <td>아이</td>\n",
       "      <td>48</td>\n",
       "    </tr>\n",
       "    <tr>\n",
       "      <th>24856</th>\n",
       "      <td>한림공원</td>\n",
       "      <td>산책</td>\n",
       "      <td>29</td>\n",
       "    </tr>\n",
       "    <tr>\n",
       "      <th>26057</th>\n",
       "      <td>헬로키티아일랜드</td>\n",
       "      <td>아이</td>\n",
       "      <td>84</td>\n",
       "    </tr>\n",
       "    <tr>\n",
       "      <th>26875</th>\n",
       "      <td>화조원</td>\n",
       "      <td>아이</td>\n",
       "      <td>3</td>\n",
       "    </tr>\n",
       "    <tr>\n",
       "      <th>26922</th>\n",
       "      <td>훈데르트바서파크</td>\n",
       "      <td>가을,풍경,겨울철</td>\n",
       "      <td>2</td>\n",
       "    </tr>\n",
       "  </tbody>\n",
       "</table>\n",
       "<p>89 rows × 3 columns</p>\n",
       "</div>"
      ]
     },
     "execution_count": 4,
     "metadata": {},
     "output_type": "execute_result"
    }
   ],
   "execution_count": 4
  },
  {
   "metadata": {
    "ExecuteTime": {
     "end_time": "2025-01-30T13:09:42.678609Z",
     "start_time": "2025-01-30T13:09:37.878045Z"
    }
   },
   "cell_type": "code",
   "source": "import pandas as pd",
   "id": "74fbd8b0b9619b5c",
   "outputs": [],
   "execution_count": 4
  },
  {
   "metadata": {
    "ExecuteTime": {
     "end_time": "2025-01-30T13:09:45.385448Z",
     "start_time": "2025-01-30T13:09:44.625141Z"
    }
   },
   "cell_type": "code",
   "source": [
    "file_path = r\"E:\\문화빅데이터플랫폼\\cleaned_data\\AVRG_SCORE_REVIEW_INFO_cleaned.csv\"\n",
    "\n",
    "AVRG_SCORE_REVIEW_INFO = pd.read_csv(file_path)\n",
    "\n",
    "AVRG_SCORE_REVIEW_INFO"
   ],
   "id": "7ad99e56666a1794",
   "outputs": [
    {
     "data": {
      "text/plain": [
       "        TRRSRT_NM                       CORE_KWRD_CN\n",
       "0          고흐의 정원     파충류,아이,체험,고흐,사진,친절,정원,설명,그림,시간\n",
       "1            빛의벙커      작품,음악,그림,시간,전시,감상,벙커,관람,제주,아이\n",
       "2        세계자동차박물관   자동차,아이,피아노,체험,사슴,먹이,박물관,구경,시간,전시\n",
       "3         수목원테마파크  아이,체험,썰매,얼음,수목원,테마파크,아이스,시간,사진,어른\n",
       "4          아리랑공연장     공연,아이,태권도,관람,낙타,사진,만족,부모,한국,시간\n",
       "..            ...                                ...\n",
       "500  제주씨월드(우도잠수함)    잠수함,우도,물고기,가격,재미,체험,대비,최고,아이,과정\n",
       "501        중문승마공원     아이,친절,호텔,코스,체험,직원,방문,냄새,조련사,생각\n",
       "502         천지연폭포    폭포,방문,입장료,산책,주차,도보,티켓,이후,주변,제주도\n",
       "503        제주그림카페              우주,항공,박물관,아이,카페,가족,추억\n",
       "504       난드르깡통구이     서비스,돼지,맛집,수저,목살,연탄,구이,가격,음식,매장\n",
       "\n",
       "[505 rows x 2 columns]"
      ],
      "text/html": [
       "<div>\n",
       "<style scoped>\n",
       "    .dataframe tbody tr th:only-of-type {\n",
       "        vertical-align: middle;\n",
       "    }\n",
       "\n",
       "    .dataframe tbody tr th {\n",
       "        vertical-align: top;\n",
       "    }\n",
       "\n",
       "    .dataframe thead th {\n",
       "        text-align: right;\n",
       "    }\n",
       "</style>\n",
       "<table border=\"1\" class=\"dataframe\">\n",
       "  <thead>\n",
       "    <tr style=\"text-align: right;\">\n",
       "      <th></th>\n",
       "      <th>TRRSRT_NM</th>\n",
       "      <th>CORE_KWRD_CN</th>\n",
       "    </tr>\n",
       "  </thead>\n",
       "  <tbody>\n",
       "    <tr>\n",
       "      <th>0</th>\n",
       "      <td>고흐의 정원</td>\n",
       "      <td>파충류,아이,체험,고흐,사진,친절,정원,설명,그림,시간</td>\n",
       "    </tr>\n",
       "    <tr>\n",
       "      <th>1</th>\n",
       "      <td>빛의벙커</td>\n",
       "      <td>작품,음악,그림,시간,전시,감상,벙커,관람,제주,아이</td>\n",
       "    </tr>\n",
       "    <tr>\n",
       "      <th>2</th>\n",
       "      <td>세계자동차박물관</td>\n",
       "      <td>자동차,아이,피아노,체험,사슴,먹이,박물관,구경,시간,전시</td>\n",
       "    </tr>\n",
       "    <tr>\n",
       "      <th>3</th>\n",
       "      <td>수목원테마파크</td>\n",
       "      <td>아이,체험,썰매,얼음,수목원,테마파크,아이스,시간,사진,어른</td>\n",
       "    </tr>\n",
       "    <tr>\n",
       "      <th>4</th>\n",
       "      <td>아리랑공연장</td>\n",
       "      <td>공연,아이,태권도,관람,낙타,사진,만족,부모,한국,시간</td>\n",
       "    </tr>\n",
       "    <tr>\n",
       "      <th>...</th>\n",
       "      <td>...</td>\n",
       "      <td>...</td>\n",
       "    </tr>\n",
       "    <tr>\n",
       "      <th>500</th>\n",
       "      <td>제주씨월드(우도잠수함)</td>\n",
       "      <td>잠수함,우도,물고기,가격,재미,체험,대비,최고,아이,과정</td>\n",
       "    </tr>\n",
       "    <tr>\n",
       "      <th>501</th>\n",
       "      <td>중문승마공원</td>\n",
       "      <td>아이,친절,호텔,코스,체험,직원,방문,냄새,조련사,생각</td>\n",
       "    </tr>\n",
       "    <tr>\n",
       "      <th>502</th>\n",
       "      <td>천지연폭포</td>\n",
       "      <td>폭포,방문,입장료,산책,주차,도보,티켓,이후,주변,제주도</td>\n",
       "    </tr>\n",
       "    <tr>\n",
       "      <th>503</th>\n",
       "      <td>제주그림카페</td>\n",
       "      <td>우주,항공,박물관,아이,카페,가족,추억</td>\n",
       "    </tr>\n",
       "    <tr>\n",
       "      <th>504</th>\n",
       "      <td>난드르깡통구이</td>\n",
       "      <td>서비스,돼지,맛집,수저,목살,연탄,구이,가격,음식,매장</td>\n",
       "    </tr>\n",
       "  </tbody>\n",
       "</table>\n",
       "<p>505 rows × 2 columns</p>\n",
       "</div>"
      ]
     },
     "execution_count": 5,
     "metadata": {},
     "output_type": "execute_result"
    }
   ],
   "execution_count": 5
  },
  {
   "metadata": {
    "ExecuteTime": {
     "end_time": "2025-01-30T13:09:51.076496Z",
     "start_time": "2025-01-30T13:09:50.048973Z"
    }
   },
   "cell_type": "code",
   "source": [
    "# TRRSRT_NM을 기준으로 병합 (inner join)\n",
    "merged_df = pd.merge(REVIEW_MOP_INFO, AVRG_SCORE_REVIEW_INFO, on=\"TRRSRT_NM\", how=\"inner\")\n",
    "\n",
    "# 이름이 같은 것의 개수\n",
    "same_count = len(merged_df)\n",
    "\n",
    "# 이름이 다른 것의 개수 계산\n",
    "# REVIEW_MOP_INFO에만 있는 데이터\n",
    "only_in_review_mop = pd.merge(REVIEW_MOP_INFO, AVRG_SCORE_REVIEW_INFO, on=\"TRRSRT_NM\", how=\"left\", indicator=True)\n",
    "diff_in_review_mop = only_in_review_mop[only_in_review_mop[\"_merge\"] == \"left_only\"]\n",
    "\n",
    "# AVRG_SCORE_REVIEW_INFO에만 있는 데이터\n",
    "only_in_avrg_score = pd.merge(REVIEW_MOP_INFO, AVRG_SCORE_REVIEW_INFO, on=\"TRRSRT_NM\", how=\"right\", indicator=True)\n",
    "diff_in_avrg_score = only_in_avrg_score[only_in_avrg_score[\"_merge\"] == \"right_only\"]\n",
    "\n",
    "# 이름이 다른 것의 총 개수\n",
    "diff_count = len(diff_in_review_mop) + len(diff_in_avrg_score)\n",
    "\n",
    "# 결과 출력\n",
    "print(\"병합된 데이터프레임:\")\n",
    "print(merged_df)\n",
    "print(f\"\\n이름이 같은 것의 개수: {same_count}\")\n",
    "print(f\"이름이 다른 것의 개수: {diff_count}\")"
   ],
   "id": "50582503cc4f1e3e",
   "outputs": [
    {
     "ename": "NameError",
     "evalue": "name 'REVIEW_MOP_INFO' is not defined",
     "output_type": "error",
     "traceback": [
      "\u001B[1;31m---------------------------------------------------------------------------\u001B[0m",
      "\u001B[1;31mNameError\u001B[0m                                 Traceback (most recent call last)",
      "Cell \u001B[1;32mIn[6], line 2\u001B[0m\n\u001B[0;32m      1\u001B[0m \u001B[38;5;66;03m# TRRSRT_NM을 기준으로 병합 (inner join)\u001B[39;00m\n\u001B[1;32m----> 2\u001B[0m merged_df \u001B[38;5;241m=\u001B[39m pd\u001B[38;5;241m.\u001B[39mmerge(\u001B[43mREVIEW_MOP_INFO\u001B[49m, AVRG_SCORE_REVIEW_INFO, on\u001B[38;5;241m=\u001B[39m\u001B[38;5;124m\"\u001B[39m\u001B[38;5;124mTRRSRT_NM\u001B[39m\u001B[38;5;124m\"\u001B[39m, how\u001B[38;5;241m=\u001B[39m\u001B[38;5;124m\"\u001B[39m\u001B[38;5;124minner\u001B[39m\u001B[38;5;124m\"\u001B[39m)\n\u001B[0;32m      4\u001B[0m \u001B[38;5;66;03m# 이름이 같은 것의 개수\u001B[39;00m\n\u001B[0;32m      5\u001B[0m same_count \u001B[38;5;241m=\u001B[39m \u001B[38;5;28mlen\u001B[39m(merged_df)\n",
      "\u001B[1;31mNameError\u001B[0m: name 'REVIEW_MOP_INFO' is not defined"
     ]
    }
   ],
   "execution_count": 6
  },
  {
   "metadata": {
    "ExecuteTime": {
     "end_time": "2025-01-28T17:23:49.200953Z",
     "start_time": "2025-01-28T17:23:49.181390Z"
    }
   },
   "cell_type": "code",
   "source": "merged_df",
   "id": "28ccd8e14ec8ffb1",
   "outputs": [
    {
     "data": {
      "text/plain": [
       "          BASE_YM CL_NM  TRRSRT_NM              TRRSRT_ADDR          MOP_CN  \\\n",
       "0        202301.0  공연전시     고흐의 정원  제주 서귀포시 성산읍 삼달신풍로 126-5          볼거리,다양   \n",
       "1        202301.0  공연전시     고흐의 정원  제주 서귀포시 성산읍 삼달신풍로 126-5          볼거리,다양   \n",
       "2        202301.0  공연전시     고흐의 정원  제주 서귀포시 성산읍 삼달신풍로 126-5          볼거리,다양   \n",
       "3        202301.0  공연전시     고흐의 정원  제주 서귀포시 성산읍 삼달신풍로 126-5          볼거리,다양   \n",
       "4        202301.0  공연전시     고흐의 정원  제주 서귀포시 성산읍 삼달신풍로 126-5          볼거리,다양   \n",
       "...           ...   ...        ...                      ...             ...   \n",
       "1288902  202303.0    키즈  아쿠아플라넷 제주     제주 서귀포시 성산읍 섭지코지로 95  공연,종일,코스,바다,가족   \n",
       "1288903  202303.0    키즈  아쿠아플라넷 제주     제주 서귀포시 성산읍 섭지코지로 95  공연,종일,코스,바다,가족   \n",
       "1288904  202303.0    키즈  아쿠아플라넷 제주     제주 서귀포시 성산읍 섭지코지로 95  공연,종일,코스,바다,가족   \n",
       "1288905  202303.0    키즈  아쿠아플라넷 제주     제주 서귀포시 성산읍 섭지코지로 95  공연,종일,코스,바다,가족   \n",
       "1288906  202303.0    키즈  아쿠아플라넷 제주     제주 서귀포시 성산읍 섭지코지로 95  공연,종일,코스,바다,가족   \n",
       "\n",
       "                                CORE_KWRD_CN  \n",
       "0             파충류,아이,체험,고흐,사진,친절,정원,설명,그림,시간  \n",
       "1        친절,사진,고흐,너어무,직원,입장권,주차장,네이버,구매,취향저격  \n",
       "2             파충류,체험,고흐,친절,사진,이용,그림,직원,정원,작품  \n",
       "3             파충류,체험,아이,사진,친절,고흐,방문,정원,설명,시간  \n",
       "4             관람,파충류,체험,규모,시간,정도,미로,공원,카페,구성  \n",
       "...                                      ...  \n",
       "1288902  시간,공연,볼거리,시설,아이,사진,수족관,가격,서커스,아쿠아리움  \n",
       "1288903   공연,아이,수족관,시간,추천,아쿠아리움,제주,할인,물고기,방문  \n",
       "1288904   공연,아이,볼거리,시간,아쿠아리움,제주,방문,아레나,규모,관람  \n",
       "1288905     공연,아이,돌고래,최고,동물,가격,카드,제주도,단체,관광객  \n",
       "1288906  수족관,공연,방문,아이,시간,생물,아쿠아리움,볼거리,돌고래,동물  \n",
       "\n",
       "[1288907 rows x 6 columns]"
      ],
      "text/html": [
       "<div>\n",
       "<style scoped>\n",
       "    .dataframe tbody tr th:only-of-type {\n",
       "        vertical-align: middle;\n",
       "    }\n",
       "\n",
       "    .dataframe tbody tr th {\n",
       "        vertical-align: top;\n",
       "    }\n",
       "\n",
       "    .dataframe thead th {\n",
       "        text-align: right;\n",
       "    }\n",
       "</style>\n",
       "<table border=\"1\" class=\"dataframe\">\n",
       "  <thead>\n",
       "    <tr style=\"text-align: right;\">\n",
       "      <th></th>\n",
       "      <th>BASE_YM</th>\n",
       "      <th>CL_NM</th>\n",
       "      <th>TRRSRT_NM</th>\n",
       "      <th>TRRSRT_ADDR</th>\n",
       "      <th>MOP_CN</th>\n",
       "      <th>CORE_KWRD_CN</th>\n",
       "    </tr>\n",
       "  </thead>\n",
       "  <tbody>\n",
       "    <tr>\n",
       "      <th>0</th>\n",
       "      <td>202301.0</td>\n",
       "      <td>공연전시</td>\n",
       "      <td>고흐의 정원</td>\n",
       "      <td>제주 서귀포시 성산읍 삼달신풍로 126-5</td>\n",
       "      <td>볼거리,다양</td>\n",
       "      <td>파충류,아이,체험,고흐,사진,친절,정원,설명,그림,시간</td>\n",
       "    </tr>\n",
       "    <tr>\n",
       "      <th>1</th>\n",
       "      <td>202301.0</td>\n",
       "      <td>공연전시</td>\n",
       "      <td>고흐의 정원</td>\n",
       "      <td>제주 서귀포시 성산읍 삼달신풍로 126-5</td>\n",
       "      <td>볼거리,다양</td>\n",
       "      <td>친절,사진,고흐,너어무,직원,입장권,주차장,네이버,구매,취향저격</td>\n",
       "    </tr>\n",
       "    <tr>\n",
       "      <th>2</th>\n",
       "      <td>202301.0</td>\n",
       "      <td>공연전시</td>\n",
       "      <td>고흐의 정원</td>\n",
       "      <td>제주 서귀포시 성산읍 삼달신풍로 126-5</td>\n",
       "      <td>볼거리,다양</td>\n",
       "      <td>파충류,체험,고흐,친절,사진,이용,그림,직원,정원,작품</td>\n",
       "    </tr>\n",
       "    <tr>\n",
       "      <th>3</th>\n",
       "      <td>202301.0</td>\n",
       "      <td>공연전시</td>\n",
       "      <td>고흐의 정원</td>\n",
       "      <td>제주 서귀포시 성산읍 삼달신풍로 126-5</td>\n",
       "      <td>볼거리,다양</td>\n",
       "      <td>파충류,체험,아이,사진,친절,고흐,방문,정원,설명,시간</td>\n",
       "    </tr>\n",
       "    <tr>\n",
       "      <th>4</th>\n",
       "      <td>202301.0</td>\n",
       "      <td>공연전시</td>\n",
       "      <td>고흐의 정원</td>\n",
       "      <td>제주 서귀포시 성산읍 삼달신풍로 126-5</td>\n",
       "      <td>볼거리,다양</td>\n",
       "      <td>관람,파충류,체험,규모,시간,정도,미로,공원,카페,구성</td>\n",
       "    </tr>\n",
       "    <tr>\n",
       "      <th>...</th>\n",
       "      <td>...</td>\n",
       "      <td>...</td>\n",
       "      <td>...</td>\n",
       "      <td>...</td>\n",
       "      <td>...</td>\n",
       "      <td>...</td>\n",
       "    </tr>\n",
       "    <tr>\n",
       "      <th>1288902</th>\n",
       "      <td>202303.0</td>\n",
       "      <td>키즈</td>\n",
       "      <td>아쿠아플라넷 제주</td>\n",
       "      <td>제주 서귀포시 성산읍 섭지코지로 95</td>\n",
       "      <td>공연,종일,코스,바다,가족</td>\n",
       "      <td>시간,공연,볼거리,시설,아이,사진,수족관,가격,서커스,아쿠아리움</td>\n",
       "    </tr>\n",
       "    <tr>\n",
       "      <th>1288903</th>\n",
       "      <td>202303.0</td>\n",
       "      <td>키즈</td>\n",
       "      <td>아쿠아플라넷 제주</td>\n",
       "      <td>제주 서귀포시 성산읍 섭지코지로 95</td>\n",
       "      <td>공연,종일,코스,바다,가족</td>\n",
       "      <td>공연,아이,수족관,시간,추천,아쿠아리움,제주,할인,물고기,방문</td>\n",
       "    </tr>\n",
       "    <tr>\n",
       "      <th>1288904</th>\n",
       "      <td>202303.0</td>\n",
       "      <td>키즈</td>\n",
       "      <td>아쿠아플라넷 제주</td>\n",
       "      <td>제주 서귀포시 성산읍 섭지코지로 95</td>\n",
       "      <td>공연,종일,코스,바다,가족</td>\n",
       "      <td>공연,아이,볼거리,시간,아쿠아리움,제주,방문,아레나,규모,관람</td>\n",
       "    </tr>\n",
       "    <tr>\n",
       "      <th>1288905</th>\n",
       "      <td>202303.0</td>\n",
       "      <td>키즈</td>\n",
       "      <td>아쿠아플라넷 제주</td>\n",
       "      <td>제주 서귀포시 성산읍 섭지코지로 95</td>\n",
       "      <td>공연,종일,코스,바다,가족</td>\n",
       "      <td>공연,아이,돌고래,최고,동물,가격,카드,제주도,단체,관광객</td>\n",
       "    </tr>\n",
       "    <tr>\n",
       "      <th>1288906</th>\n",
       "      <td>202303.0</td>\n",
       "      <td>키즈</td>\n",
       "      <td>아쿠아플라넷 제주</td>\n",
       "      <td>제주 서귀포시 성산읍 섭지코지로 95</td>\n",
       "      <td>공연,종일,코스,바다,가족</td>\n",
       "      <td>수족관,공연,방문,아이,시간,생물,아쿠아리움,볼거리,돌고래,동물</td>\n",
       "    </tr>\n",
       "  </tbody>\n",
       "</table>\n",
       "<p>1288907 rows × 6 columns</p>\n",
       "</div>"
      ]
     },
     "execution_count": 86,
     "metadata": {},
     "output_type": "execute_result"
    }
   ],
   "execution_count": 86
  },
  {
   "metadata": {
    "ExecuteTime": {
     "end_time": "2025-01-29T12:19:26.201472Z",
     "start_time": "2025-01-29T12:18:40.442217Z"
    }
   },
   "cell_type": "code",
   "source": [
    "# `apply`를 사용해 각 행에서 MOP_CN과 CORE_KWRD_CN을 결합\n",
    "def merge_and_remove_duplicates(row):\n",
    "    # `,`로 구분된 문자열을 리스트로 변환 후 집합(Set)으로 중복 제거\n",
    "    combined_set = set(row['MOP_CN'].split(',')) | set(row['CORE_KWRD_CN'].split(','))\n",
    "    # 집합을 다시 문자열로 변환\n",
    "    return ','.join(sorted(combined_set))  # 정렬은 선택 사항\n",
    "\n",
    "# 데이터프레임에 새 열 생성\n",
    "merged_df['MERGED_CN'] = merged_df.apply(merge_and_remove_duplicates, axis=1)\n",
    "\n",
    "# 결과 확인\n",
    "print(merged_df)"
   ],
   "id": "31655984e7f2a78d",
   "outputs": [
    {
     "name": "stdout",
     "output_type": "stream",
     "text": [
      "          BASE_YM CL_NM  TRRSRT_NM              TRRSRT_ADDR          MOP_CN  \\\n",
      "0        202301.0  공연전시     고흐의 정원  제주 서귀포시 성산읍 삼달신풍로 126-5          볼거리,다양   \n",
      "1        202301.0  공연전시     고흐의 정원  제주 서귀포시 성산읍 삼달신풍로 126-5          볼거리,다양   \n",
      "2        202301.0  공연전시     고흐의 정원  제주 서귀포시 성산읍 삼달신풍로 126-5          볼거리,다양   \n",
      "3        202301.0  공연전시     고흐의 정원  제주 서귀포시 성산읍 삼달신풍로 126-5          볼거리,다양   \n",
      "4        202301.0  공연전시     고흐의 정원  제주 서귀포시 성산읍 삼달신풍로 126-5          볼거리,다양   \n",
      "...           ...   ...        ...                      ...             ...   \n",
      "1288902  202303.0    키즈  아쿠아플라넷 제주     제주 서귀포시 성산읍 섭지코지로 95  공연,종일,코스,바다,가족   \n",
      "1288903  202303.0    키즈  아쿠아플라넷 제주     제주 서귀포시 성산읍 섭지코지로 95  공연,종일,코스,바다,가족   \n",
      "1288904  202303.0    키즈  아쿠아플라넷 제주     제주 서귀포시 성산읍 섭지코지로 95  공연,종일,코스,바다,가족   \n",
      "1288905  202303.0    키즈  아쿠아플라넷 제주     제주 서귀포시 성산읍 섭지코지로 95  공연,종일,코스,바다,가족   \n",
      "1288906  202303.0    키즈  아쿠아플라넷 제주     제주 서귀포시 성산읍 섭지코지로 95  공연,종일,코스,바다,가족   \n",
      "\n",
      "                                CORE_KWRD_CN  \\\n",
      "0             파충류,아이,체험,고흐,사진,친절,정원,설명,그림,시간   \n",
      "1        친절,사진,고흐,너어무,직원,입장권,주차장,네이버,구매,취향저격   \n",
      "2             파충류,체험,고흐,친절,사진,이용,그림,직원,정원,작품   \n",
      "3             파충류,체험,아이,사진,친절,고흐,방문,정원,설명,시간   \n",
      "4             관람,파충류,체험,규모,시간,정도,미로,공원,카페,구성   \n",
      "...                                      ...   \n",
      "1288902  시간,공연,볼거리,시설,아이,사진,수족관,가격,서커스,아쿠아리움   \n",
      "1288903   공연,아이,수족관,시간,추천,아쿠아리움,제주,할인,물고기,방문   \n",
      "1288904   공연,아이,볼거리,시간,아쿠아리움,제주,방문,아레나,규모,관람   \n",
      "1288905     공연,아이,돌고래,최고,동물,가격,카드,제주도,단체,관광객   \n",
      "1288906  수족관,공연,방문,아이,시간,생물,아쿠아리움,볼거리,돌고래,동물   \n",
      "\n",
      "                                               MERGED_CN  \n",
      "0                  고흐,그림,다양,볼거리,사진,설명,시간,아이,정원,체험,친절,파충류  \n",
      "1             고흐,구매,너어무,네이버,다양,볼거리,사진,입장권,주차장,직원,취향저격,친절  \n",
      "2                  고흐,그림,다양,볼거리,사진,이용,작품,정원,직원,체험,친절,파충류  \n",
      "3                  고흐,다양,방문,볼거리,사진,설명,시간,아이,정원,체험,친절,파충류  \n",
      "4                  공원,관람,구성,규모,다양,미로,볼거리,시간,정도,체험,카페,파충류  \n",
      "...                                                  ...  \n",
      "1288902  가격,가족,공연,바다,볼거리,사진,서커스,수족관,시간,시설,아이,아쿠아리움,종일,코스  \n",
      "1288903   가족,공연,물고기,바다,방문,수족관,시간,아이,아쿠아리움,제주,종일,추천,코스,할인  \n",
      "1288904   가족,공연,관람,규모,바다,방문,볼거리,시간,아레나,아이,아쿠아리움,제주,종일,코스  \n",
      "1288905     가격,가족,공연,관광객,단체,돌고래,동물,바다,아이,제주도,종일,최고,카드,코스  \n",
      "1288906  가족,공연,돌고래,동물,바다,방문,볼거리,생물,수족관,시간,아이,아쿠아리움,종일,코스  \n",
      "\n",
      "[1288907 rows x 7 columns]\n"
     ]
    }
   ],
   "execution_count": 8
  },
  {
   "metadata": {
    "ExecuteTime": {
     "end_time": "2025-01-28T17:26:44.925971Z",
     "start_time": "2025-01-28T17:26:43.853791Z"
    }
   },
   "cell_type": "code",
   "source": "merged_df.info()",
   "id": "f6e129de4c0ddc8a",
   "outputs": [
    {
     "name": "stdout",
     "output_type": "stream",
     "text": [
      "<class 'pandas.core.frame.DataFrame'>\n",
      "RangeIndex: 1288907 entries, 0 to 1288906\n",
      "Data columns (total 7 columns):\n",
      " #   Column        Non-Null Count    Dtype  \n",
      "---  ------        --------------    -----  \n",
      " 0   BASE_YM       1288907 non-null  float64\n",
      " 1   CL_NM         1288907 non-null  object \n",
      " 2   TRRSRT_NM     1288907 non-null  object \n",
      " 3   TRRSRT_ADDR   1288907 non-null  object \n",
      " 4   MOP_CN        1288907 non-null  object \n",
      " 5   CORE_KWRD_CN  1288907 non-null  object \n",
      " 6   MERGED_CN     1288907 non-null  object \n",
      "dtypes: float64(1), object(6)\n",
      "memory usage: 68.8+ MB\n"
     ]
    }
   ],
   "execution_count": 88
  },
  {
   "metadata": {
    "ExecuteTime": {
     "end_time": "2025-01-29T10:55:13.238394Z",
     "start_time": "2025-01-29T10:55:13.181915Z"
    }
   },
   "cell_type": "code",
   "source": "merged_df[['TRRSRT_NM', 'MERGED_CN', 'TRRSRT_ADDR']]",
   "id": "286e8d838ea0b85d",
   "outputs": [
    {
     "data": {
      "text/plain": [
       "         TRRSRT_NM                                        MERGED_CN  \\\n",
       "0           고흐의 정원            고흐,그림,다양,볼거리,사진,설명,시간,아이,정원,체험,친절,파충류   \n",
       "1           고흐의 정원       고흐,구매,너어무,네이버,다양,볼거리,사진,입장권,주차장,직원,취향저격,친절   \n",
       "2           고흐의 정원            고흐,그림,다양,볼거리,사진,이용,작품,정원,직원,체험,친절,파충류   \n",
       "3           고흐의 정원            고흐,다양,방문,볼거리,사진,설명,시간,아이,정원,체험,친절,파충류   \n",
       "4           고흐의 정원            공원,관람,구성,규모,다양,미로,볼거리,시간,정도,체험,카페,파충류   \n",
       "...            ...                                              ...   \n",
       "1288902  아쿠아플라넷 제주  가격,가족,공연,바다,볼거리,사진,서커스,수족관,시간,시설,아이,아쿠아리움,종일,코스   \n",
       "1288903  아쿠아플라넷 제주   가족,공연,물고기,바다,방문,수족관,시간,아이,아쿠아리움,제주,종일,추천,코스,할인   \n",
       "1288904  아쿠아플라넷 제주   가족,공연,관람,규모,바다,방문,볼거리,시간,아레나,아이,아쿠아리움,제주,종일,코스   \n",
       "1288905  아쿠아플라넷 제주     가격,가족,공연,관광객,단체,돌고래,동물,바다,아이,제주도,종일,최고,카드,코스   \n",
       "1288906  아쿠아플라넷 제주  가족,공연,돌고래,동물,바다,방문,볼거리,생물,수족관,시간,아이,아쿠아리움,종일,코스   \n",
       "\n",
       "                     TRRSRT_ADDR  \n",
       "0        제주 서귀포시 성산읍 삼달신풍로 126-5  \n",
       "1        제주 서귀포시 성산읍 삼달신풍로 126-5  \n",
       "2        제주 서귀포시 성산읍 삼달신풍로 126-5  \n",
       "3        제주 서귀포시 성산읍 삼달신풍로 126-5  \n",
       "4        제주 서귀포시 성산읍 삼달신풍로 126-5  \n",
       "...                          ...  \n",
       "1288902     제주 서귀포시 성산읍 섭지코지로 95  \n",
       "1288903     제주 서귀포시 성산읍 섭지코지로 95  \n",
       "1288904     제주 서귀포시 성산읍 섭지코지로 95  \n",
       "1288905     제주 서귀포시 성산읍 섭지코지로 95  \n",
       "1288906     제주 서귀포시 성산읍 섭지코지로 95  \n",
       "\n",
       "[1288907 rows x 3 columns]"
      ],
      "text/html": [
       "<div>\n",
       "<style scoped>\n",
       "    .dataframe tbody tr th:only-of-type {\n",
       "        vertical-align: middle;\n",
       "    }\n",
       "\n",
       "    .dataframe tbody tr th {\n",
       "        vertical-align: top;\n",
       "    }\n",
       "\n",
       "    .dataframe thead th {\n",
       "        text-align: right;\n",
       "    }\n",
       "</style>\n",
       "<table border=\"1\" class=\"dataframe\">\n",
       "  <thead>\n",
       "    <tr style=\"text-align: right;\">\n",
       "      <th></th>\n",
       "      <th>TRRSRT_NM</th>\n",
       "      <th>MERGED_CN</th>\n",
       "      <th>TRRSRT_ADDR</th>\n",
       "    </tr>\n",
       "  </thead>\n",
       "  <tbody>\n",
       "    <tr>\n",
       "      <th>0</th>\n",
       "      <td>고흐의 정원</td>\n",
       "      <td>고흐,그림,다양,볼거리,사진,설명,시간,아이,정원,체험,친절,파충류</td>\n",
       "      <td>제주 서귀포시 성산읍 삼달신풍로 126-5</td>\n",
       "    </tr>\n",
       "    <tr>\n",
       "      <th>1</th>\n",
       "      <td>고흐의 정원</td>\n",
       "      <td>고흐,구매,너어무,네이버,다양,볼거리,사진,입장권,주차장,직원,취향저격,친절</td>\n",
       "      <td>제주 서귀포시 성산읍 삼달신풍로 126-5</td>\n",
       "    </tr>\n",
       "    <tr>\n",
       "      <th>2</th>\n",
       "      <td>고흐의 정원</td>\n",
       "      <td>고흐,그림,다양,볼거리,사진,이용,작품,정원,직원,체험,친절,파충류</td>\n",
       "      <td>제주 서귀포시 성산읍 삼달신풍로 126-5</td>\n",
       "    </tr>\n",
       "    <tr>\n",
       "      <th>3</th>\n",
       "      <td>고흐의 정원</td>\n",
       "      <td>고흐,다양,방문,볼거리,사진,설명,시간,아이,정원,체험,친절,파충류</td>\n",
       "      <td>제주 서귀포시 성산읍 삼달신풍로 126-5</td>\n",
       "    </tr>\n",
       "    <tr>\n",
       "      <th>4</th>\n",
       "      <td>고흐의 정원</td>\n",
       "      <td>공원,관람,구성,규모,다양,미로,볼거리,시간,정도,체험,카페,파충류</td>\n",
       "      <td>제주 서귀포시 성산읍 삼달신풍로 126-5</td>\n",
       "    </tr>\n",
       "    <tr>\n",
       "      <th>...</th>\n",
       "      <td>...</td>\n",
       "      <td>...</td>\n",
       "      <td>...</td>\n",
       "    </tr>\n",
       "    <tr>\n",
       "      <th>1288902</th>\n",
       "      <td>아쿠아플라넷 제주</td>\n",
       "      <td>가격,가족,공연,바다,볼거리,사진,서커스,수족관,시간,시설,아이,아쿠아리움,종일,코스</td>\n",
       "      <td>제주 서귀포시 성산읍 섭지코지로 95</td>\n",
       "    </tr>\n",
       "    <tr>\n",
       "      <th>1288903</th>\n",
       "      <td>아쿠아플라넷 제주</td>\n",
       "      <td>가족,공연,물고기,바다,방문,수족관,시간,아이,아쿠아리움,제주,종일,추천,코스,할인</td>\n",
       "      <td>제주 서귀포시 성산읍 섭지코지로 95</td>\n",
       "    </tr>\n",
       "    <tr>\n",
       "      <th>1288904</th>\n",
       "      <td>아쿠아플라넷 제주</td>\n",
       "      <td>가족,공연,관람,규모,바다,방문,볼거리,시간,아레나,아이,아쿠아리움,제주,종일,코스</td>\n",
       "      <td>제주 서귀포시 성산읍 섭지코지로 95</td>\n",
       "    </tr>\n",
       "    <tr>\n",
       "      <th>1288905</th>\n",
       "      <td>아쿠아플라넷 제주</td>\n",
       "      <td>가격,가족,공연,관광객,단체,돌고래,동물,바다,아이,제주도,종일,최고,카드,코스</td>\n",
       "      <td>제주 서귀포시 성산읍 섭지코지로 95</td>\n",
       "    </tr>\n",
       "    <tr>\n",
       "      <th>1288906</th>\n",
       "      <td>아쿠아플라넷 제주</td>\n",
       "      <td>가족,공연,돌고래,동물,바다,방문,볼거리,생물,수족관,시간,아이,아쿠아리움,종일,코스</td>\n",
       "      <td>제주 서귀포시 성산읍 섭지코지로 95</td>\n",
       "    </tr>\n",
       "  </tbody>\n",
       "</table>\n",
       "<p>1288907 rows × 3 columns</p>\n",
       "</div>"
      ]
     },
     "execution_count": 135,
     "metadata": {},
     "output_type": "execute_result"
    }
   ],
   "execution_count": 135
  },
  {
   "metadata": {
    "ExecuteTime": {
     "end_time": "2025-01-29T10:55:32.134062Z",
     "start_time": "2025-01-29T10:55:20.125153Z"
    }
   },
   "cell_type": "code",
   "source": [
    "import pandas as pd\n",
    "from sklearn.feature_extraction.text import TfidfVectorizer\n",
    "from sklearn.metrics.pairwise import cosine_similarity\n",
    "\n",
    "# TF-IDF 벡터화 함수\n",
    "def vectorize_data(df):\n",
    "    vectorizer = TfidfVectorizer()\n",
    "    tfidf_matrix = vectorizer.fit_transform(df['MERGED_CN'])\n",
    "    return vectorizer, tfidf_matrix\n",
    "\n",
    "# 유사한 관광지 추천 함수\n",
    "def recommend_similar_places(user_query, df, vectorizer, tfidf_matrix, top_n=5):\n",
    "    user_vec = vectorizer.transform([user_query])  # 사용자의 키워드 벡터화\n",
    "    cosine_sim = cosine_similarity(user_vec, tfidf_matrix).flatten()  # 1D 배열 변환\n",
    "    sorted_indices = cosine_sim.argsort()[::-1]  # 유사도 높은 순 정렬\n",
    "\n",
    "    # 중복 없이 상위 top_n개 추출\n",
    "    seen_names = set()\n",
    "    recommendations = []\n",
    "    \n",
    "    for idx in sorted_indices:\n",
    "        name = df.iloc[idx]['TRRSRT_NM']\n",
    "        if name not in seen_names:\n",
    "            seen_names.add(name)\n",
    "            recommendations.append((df.iloc[idx]['TRRSRT_NM'], cosine_sim[idx]))\n",
    "        if len(recommendations) == top_n:\n",
    "            break\n",
    "    \n",
    "    # 추천 결과를 데이터프레임으로 변환\n",
    "    result_df = pd.DataFrame(recommendations, columns=['TRRSRT_NM','Similarity'])\n",
    "    return result_df\n",
    "\n",
    "# TF-IDF 벡터화 실행\n",
    "vectorizer, tfidf_matrix = vectorize_data(merged_df)"
   ],
   "id": "de4b19aa3d072e6a",
   "outputs": [],
   "execution_count": 136
  },
  {
   "metadata": {},
   "cell_type": "markdown",
   "source": [
    "사용자+아이템\n",
    "\n",
    "\n",
    "텍스트 ->\n",
    "\n"
   ],
   "id": "a447e71f3c44a03b"
  },
  {
   "metadata": {
    "ExecuteTime": {
     "end_time": "2025-01-29T11:25:42.892755Z",
     "start_time": "2025-01-29T11:25:42.608011Z"
    }
   },
   "cell_type": "code",
   "source": [
    "# 사용자의 키워드 입력 예시\n",
    "user_query = \"사진\"\n",
    "recommended_places = recommend_similar_places(user_query, merged_df, vectorizer, tfidf_matrix)\n",
    "\n",
    "# 추천 결과 출력\n",
    "print(recommended_places)"
   ],
   "id": "5d997935cf81af13",
   "outputs": [
    {
     "name": "stdout",
     "output_type": "stream",
     "text": [
      "       TRRSRT_NM  Similarity\n",
      "0          스누피가든    0.750746\n",
      "1      아쿠아플라넷 제주    0.672159\n",
      "2  뽀로로&타요테마파크 제주    0.639796\n",
      "3        소인국테마파크    0.632229\n",
      "4       제주 레일바이크    0.000000\n"
     ]
    }
   ],
   "execution_count": 168
  },
  {
   "metadata": {},
   "cell_type": "code",
   "source": [
    "import pandas as pd\n",
    "from collections import Counter\n",
    "\n",
    "# MERGED_CN 컬럼에서 모든 키워드를 리스트로 변환\n",
    "all_keywords = \",\".join(merged_df[\"MERGED_CN\"]).split(\",\")\n",
    "\n",
    "# 키워드 등장 횟수 계산\n",
    "keyword_counts = Counter(all_keywords)\n",
    "\n",
    "# 빈도순으로 정렬하여 DataFrame 생성\n",
    "keyword_df = pd.DataFrame(keyword_counts.items(), columns=[\"Keyword\", \"Count\"]).sort_values(by=\"Count\", ascending=False)\n",
    "\n",
    "keyword_df"
   ],
   "id": "bd2be5b47cd1d908",
   "outputs": [],
   "execution_count": null
  },
  {
   "metadata": {
    "ExecuteTime": {
     "end_time": "2025-01-29T10:59:24.297204Z",
     "start_time": "2025-01-29T10:59:24.289388Z"
    }
   },
   "cell_type": "code",
   "source": "keyword_df",
   "id": "bdfe1e11ee8c28d7",
   "outputs": [
    {
     "data": {
      "text/plain": [
       "     Keyword   Count         Ratio\n",
       "21        방문  710504  4.410077e-02\n",
       "7         아이  674543  4.186868e-02\n",
       "6         시간  569677  3.535968e-02\n",
       "4         사진  467838  2.903857e-02\n",
       "48        제주  388756  2.412997e-02\n",
       "...      ...     ...           ...\n",
       "2431    보물찾기       1  6.206970e-08\n",
       "3027     아무것       1  6.206970e-08\n",
       "2430    플라스틱       1  6.206970e-08\n",
       "3025      뒤편       1  6.206970e-08\n",
       "3026      그때       1  6.206970e-08\n",
       "\n",
       "[3098 rows x 3 columns]"
      ],
      "text/html": [
       "<div>\n",
       "<style scoped>\n",
       "    .dataframe tbody tr th:only-of-type {\n",
       "        vertical-align: middle;\n",
       "    }\n",
       "\n",
       "    .dataframe tbody tr th {\n",
       "        vertical-align: top;\n",
       "    }\n",
       "\n",
       "    .dataframe thead th {\n",
       "        text-align: right;\n",
       "    }\n",
       "</style>\n",
       "<table border=\"1\" class=\"dataframe\">\n",
       "  <thead>\n",
       "    <tr style=\"text-align: right;\">\n",
       "      <th></th>\n",
       "      <th>Keyword</th>\n",
       "      <th>Count</th>\n",
       "      <th>Ratio</th>\n",
       "    </tr>\n",
       "  </thead>\n",
       "  <tbody>\n",
       "    <tr>\n",
       "      <th>21</th>\n",
       "      <td>방문</td>\n",
       "      <td>710504</td>\n",
       "      <td>4.410077e-02</td>\n",
       "    </tr>\n",
       "    <tr>\n",
       "      <th>7</th>\n",
       "      <td>아이</td>\n",
       "      <td>674543</td>\n",
       "      <td>4.186868e-02</td>\n",
       "    </tr>\n",
       "    <tr>\n",
       "      <th>6</th>\n",
       "      <td>시간</td>\n",
       "      <td>569677</td>\n",
       "      <td>3.535968e-02</td>\n",
       "    </tr>\n",
       "    <tr>\n",
       "      <th>4</th>\n",
       "      <td>사진</td>\n",
       "      <td>467838</td>\n",
       "      <td>2.903857e-02</td>\n",
       "    </tr>\n",
       "    <tr>\n",
       "      <th>48</th>\n",
       "      <td>제주</td>\n",
       "      <td>388756</td>\n",
       "      <td>2.412997e-02</td>\n",
       "    </tr>\n",
       "    <tr>\n",
       "      <th>...</th>\n",
       "      <td>...</td>\n",
       "      <td>...</td>\n",
       "      <td>...</td>\n",
       "    </tr>\n",
       "    <tr>\n",
       "      <th>2431</th>\n",
       "      <td>보물찾기</td>\n",
       "      <td>1</td>\n",
       "      <td>6.206970e-08</td>\n",
       "    </tr>\n",
       "    <tr>\n",
       "      <th>3027</th>\n",
       "      <td>아무것</td>\n",
       "      <td>1</td>\n",
       "      <td>6.206970e-08</td>\n",
       "    </tr>\n",
       "    <tr>\n",
       "      <th>2430</th>\n",
       "      <td>플라스틱</td>\n",
       "      <td>1</td>\n",
       "      <td>6.206970e-08</td>\n",
       "    </tr>\n",
       "    <tr>\n",
       "      <th>3025</th>\n",
       "      <td>뒤편</td>\n",
       "      <td>1</td>\n",
       "      <td>6.206970e-08</td>\n",
       "    </tr>\n",
       "    <tr>\n",
       "      <th>3026</th>\n",
       "      <td>그때</td>\n",
       "      <td>1</td>\n",
       "      <td>6.206970e-08</td>\n",
       "    </tr>\n",
       "  </tbody>\n",
       "</table>\n",
       "<p>3098 rows × 3 columns</p>\n",
       "</div>"
      ]
     },
     "execution_count": 148,
     "metadata": {},
     "output_type": "execute_result"
    }
   ],
   "execution_count": 148
  },
  {
   "metadata": {
    "ExecuteTime": {
     "end_time": "2025-01-29T12:26:07.942980Z",
     "start_time": "2025-01-29T12:25:15.683413Z"
    }
   },
   "cell_type": "code",
   "source": "!pip install gensim",
   "id": "1f914a1952594e13",
   "outputs": [
    {
     "name": "stdout",
     "output_type": "stream",
     "text": [
      "Collecting gensim\n",
      "  Downloading gensim-4.3.3-cp312-cp312-win_amd64.whl.metadata (8.2 kB)\n",
      "Collecting numpy<2.0,>=1.18.5 (from gensim)\n",
      "  Using cached numpy-1.26.4-cp312-cp312-win_amd64.whl.metadata (61 kB)\n",
      "Collecting scipy<1.14.0,>=1.7.0 (from gensim)\n",
      "  Downloading scipy-1.13.1-cp312-cp312-win_amd64.whl.metadata (60 kB)\n",
      "Collecting smart-open>=1.8.1 (from gensim)\n",
      "  Downloading smart_open-7.1.0-py3-none-any.whl.metadata (24 kB)\n",
      "Collecting wrapt (from smart-open>=1.8.1->gensim)\n",
      "  Downloading wrapt-1.17.2-cp312-cp312-win_amd64.whl.metadata (6.5 kB)\n",
      "Downloading gensim-4.3.3-cp312-cp312-win_amd64.whl (24.0 MB)\n",
      "   ---------------------------------------- 0.0/24.0 MB ? eta -:--:--\n",
      "   ------ --------------------------------- 3.9/24.0 MB 19.6 MB/s eta 0:00:02\n",
      "   ------------- -------------------------- 8.4/24.0 MB 20.0 MB/s eta 0:00:01\n",
      "   -------------------- ------------------- 12.1/24.0 MB 18.9 MB/s eta 0:00:01\n",
      "   --------------------------- ------------ 16.5/24.0 MB 19.6 MB/s eta 0:00:01\n",
      "   ---------------------------------- ----- 20.7/24.0 MB 19.5 MB/s eta 0:00:01\n",
      "   ---------------------------------------  23.9/24.0 MB 20.1 MB/s eta 0:00:01\n",
      "   ---------------------------------------- 24.0/24.0 MB 16.7 MB/s eta 0:00:00\n",
      "Using cached numpy-1.26.4-cp312-cp312-win_amd64.whl (15.5 MB)\n",
      "Downloading scipy-1.13.1-cp312-cp312-win_amd64.whl (45.9 MB)\n",
      "   ---------------------------------------- 0.0/45.9 MB ? eta -:--:--\n",
      "   --- ------------------------------------ 4.2/45.9 MB 19.4 MB/s eta 0:00:03\n",
      "   ------- -------------------------------- 8.9/45.9 MB 20.5 MB/s eta 0:00:02\n",
      "   ----------- ---------------------------- 13.6/45.9 MB 21.4 MB/s eta 0:00:02\n",
      "   --------------- ------------------------ 17.8/45.9 MB 21.2 MB/s eta 0:00:02\n",
      "   ------------------- -------------------- 22.5/45.9 MB 21.3 MB/s eta 0:00:02\n",
      "   ----------------------- ---------------- 27.3/45.9 MB 21.3 MB/s eta 0:00:01\n",
      "   ---------------------------- ----------- 32.2/45.9 MB 21.6 MB/s eta 0:00:01\n",
      "   -------------------------------- ------- 37.2/45.9 MB 21.9 MB/s eta 0:00:01\n",
      "   ----------------------------------- ---- 41.2/45.9 MB 21.6 MB/s eta 0:00:01\n",
      "   ---------------------------------------  45.6/45.9 MB 21.3 MB/s eta 0:00:01\n",
      "   ---------------------------------------  45.9/45.9 MB 21.5 MB/s eta 0:00:01\n",
      "   ---------------------------------------- 45.9/45.9 MB 18.6 MB/s eta 0:00:00\n",
      "Downloading smart_open-7.1.0-py3-none-any.whl (61 kB)\n",
      "Downloading wrapt-1.17.2-cp312-cp312-win_amd64.whl (38 kB)\n",
      "Installing collected packages: wrapt, numpy, smart-open, scipy, gensim\n",
      "  Attempting uninstall: numpy\n",
      "    Found existing installation: numpy 2.2.1\n",
      "    Uninstalling numpy-2.2.1:\n",
      "      Successfully uninstalled numpy-2.2.1\n",
      "  Attempting uninstall: scipy\n",
      "    Found existing installation: scipy 1.15.1\n",
      "    Uninstalling scipy-1.15.1:\n",
      "      Successfully uninstalled scipy-1.15.1\n",
      "Successfully installed gensim-4.3.3 numpy-1.26.4 scipy-1.13.1 smart-open-7.1.0 wrapt-1.17.2\n"
     ]
    }
   ],
   "execution_count": 10
  },
  {
   "metadata": {
    "ExecuteTime": {
     "end_time": "2025-01-29T12:28:26.777094Z",
     "start_time": "2025-01-29T12:28:26.225776Z"
    }
   },
   "cell_type": "code",
   "source": [
    "from gensim.models import FastText\n",
    "from sklearn.metrics.pairwise import cosine_similarity\n",
    "import numpy as np"
   ],
   "id": "1b7b7d327a7cd86b",
   "outputs": [
    {
     "ename": "ImportError",
     "evalue": "\n\nIMPORTANT: PLEASE READ THIS FOR ADVICE ON HOW TO SOLVE THIS ISSUE!\n\nImporting the numpy C-extensions failed. This error can happen for\nmany reasons, often due to issues with your setup or how NumPy was\ninstalled.\n\nWe have compiled some common reasons and troubleshooting tips at:\n\n    https://numpy.org/devdocs/user/troubleshooting-importerror.html\n\nPlease note and check the following:\n\n  * The Python version is: Python3.12 from \"C:\\Users\\user\\anaconda3\\envs\\my_env\\python.exe\"\n  * The NumPy version is: \"2.2.1\"\n\nand make sure that they are the versions you expect.\nPlease carefully study the documentation linked above for further help.\n\nOriginal error was: DLL load failed while importing _multiarray_umath: 지정된 모듈을 찾을 수 없습니다.\n",
     "output_type": "error",
     "traceback": [
      "\u001B[1;31m---------------------------------------------------------------------------\u001B[0m",
      "\u001B[1;31mImportError\u001B[0m                               Traceback (most recent call last)",
      "File \u001B[1;32m~\\anaconda3\\envs\\my_env\\Lib\\site-packages\\numpy\\core\\__init__.py:24\u001B[0m\n\u001B[0;32m     23\u001B[0m \u001B[38;5;28;01mtry\u001B[39;00m:\n\u001B[1;32m---> 24\u001B[0m     \u001B[38;5;28;01mfrom\u001B[39;00m \u001B[38;5;21;01m.\u001B[39;00m \u001B[38;5;28;01mimport\u001B[39;00m multiarray\n\u001B[0;32m     25\u001B[0m \u001B[38;5;28;01mexcept\u001B[39;00m \u001B[38;5;167;01mImportError\u001B[39;00m \u001B[38;5;28;01mas\u001B[39;00m exc:\n",
      "File \u001B[1;32m~\\anaconda3\\envs\\my_env\\Lib\\site-packages\\numpy\\core\\multiarray.py:10\u001B[0m\n\u001B[0;32m      9\u001B[0m \u001B[38;5;28;01mimport\u001B[39;00m \u001B[38;5;21;01mfunctools\u001B[39;00m\n\u001B[1;32m---> 10\u001B[0m \u001B[38;5;28;01mfrom\u001B[39;00m \u001B[38;5;21;01m.\u001B[39;00m \u001B[38;5;28;01mimport\u001B[39;00m overrides\n\u001B[0;32m     11\u001B[0m \u001B[38;5;28;01mfrom\u001B[39;00m \u001B[38;5;21;01m.\u001B[39;00m \u001B[38;5;28;01mimport\u001B[39;00m _multiarray_umath\n",
      "File \u001B[1;32m~\\anaconda3\\envs\\my_env\\Lib\\site-packages\\numpy\\core\\overrides.py:8\u001B[0m\n\u001B[0;32m      7\u001B[0m \u001B[38;5;28;01mfrom\u001B[39;00m \u001B[38;5;21;01m.\u001B[39;00m\u001B[38;5;21;01m.\u001B[39;00m\u001B[38;5;21;01m_utils\u001B[39;00m\u001B[38;5;21;01m.\u001B[39;00m\u001B[38;5;21;01m_inspect\u001B[39;00m \u001B[38;5;28;01mimport\u001B[39;00m getargspec\n\u001B[1;32m----> 8\u001B[0m \u001B[38;5;28;01mfrom\u001B[39;00m \u001B[38;5;21;01mnumpy\u001B[39;00m\u001B[38;5;21;01m.\u001B[39;00m\u001B[38;5;21;01mcore\u001B[39;00m\u001B[38;5;21;01m.\u001B[39;00m\u001B[38;5;21;01m_multiarray_umath\u001B[39;00m \u001B[38;5;28;01mimport\u001B[39;00m (\n\u001B[0;32m      9\u001B[0m     add_docstring,  _get_implementing_args, _ArrayFunctionDispatcher)\n\u001B[0;32m     12\u001B[0m ARRAY_FUNCTIONS \u001B[38;5;241m=\u001B[39m \u001B[38;5;28mset\u001B[39m()\n",
      "\u001B[1;31mImportError\u001B[0m: DLL load failed while importing _multiarray_umath: 지정된 모듈을 찾을 수 없습니다.",
      "\nDuring handling of the above exception, another exception occurred:\n",
      "\u001B[1;31mImportError\u001B[0m                               Traceback (most recent call last)",
      "Cell \u001B[1;32mIn[12], line 1\u001B[0m\n\u001B[1;32m----> 1\u001B[0m \u001B[38;5;28;01mfrom\u001B[39;00m \u001B[38;5;21;01mgensim\u001B[39;00m\u001B[38;5;21;01m.\u001B[39;00m\u001B[38;5;21;01mmodels\u001B[39;00m \u001B[38;5;28;01mimport\u001B[39;00m FastText\n\u001B[0;32m      2\u001B[0m \u001B[38;5;28;01mfrom\u001B[39;00m \u001B[38;5;21;01msklearn\u001B[39;00m\u001B[38;5;21;01m.\u001B[39;00m\u001B[38;5;21;01mmetrics\u001B[39;00m\u001B[38;5;21;01m.\u001B[39;00m\u001B[38;5;21;01mpairwise\u001B[39;00m \u001B[38;5;28;01mimport\u001B[39;00m cosine_similarity\n\u001B[0;32m      3\u001B[0m \u001B[38;5;28;01mimport\u001B[39;00m \u001B[38;5;21;01mnumpy\u001B[39;00m \u001B[38;5;28;01mas\u001B[39;00m \u001B[38;5;21;01mnp\u001B[39;00m\n",
      "File \u001B[1;32m~\\anaconda3\\envs\\my_env\\Lib\\site-packages\\gensim\\__init__.py:11\u001B[0m\n\u001B[0;32m      7\u001B[0m __version__ \u001B[38;5;241m=\u001B[39m \u001B[38;5;124m'\u001B[39m\u001B[38;5;124m4.3.3\u001B[39m\u001B[38;5;124m'\u001B[39m\n\u001B[0;32m      9\u001B[0m \u001B[38;5;28;01mimport\u001B[39;00m \u001B[38;5;21;01mlogging\u001B[39;00m\n\u001B[1;32m---> 11\u001B[0m \u001B[38;5;28;01mfrom\u001B[39;00m \u001B[38;5;21;01mgensim\u001B[39;00m \u001B[38;5;28;01mimport\u001B[39;00m parsing, corpora, matutils, interfaces, models, similarities, utils  \u001B[38;5;66;03m# noqa:F401\u001B[39;00m\n\u001B[0;32m     14\u001B[0m logger \u001B[38;5;241m=\u001B[39m logging\u001B[38;5;241m.\u001B[39mgetLogger(\u001B[38;5;124m'\u001B[39m\u001B[38;5;124mgensim\u001B[39m\u001B[38;5;124m'\u001B[39m)\n\u001B[0;32m     15\u001B[0m \u001B[38;5;28;01mif\u001B[39;00m \u001B[38;5;129;01mnot\u001B[39;00m logger\u001B[38;5;241m.\u001B[39mhandlers:  \u001B[38;5;66;03m# To ensure reload() doesn't add another one\u001B[39;00m\n",
      "File \u001B[1;32m~\\anaconda3\\envs\\my_env\\Lib\\site-packages\\gensim\\parsing\\__init__.py:4\u001B[0m\n\u001B[0;32m      1\u001B[0m \u001B[38;5;124;03m\"\"\"This package contains functions to preprocess raw text\"\"\"\u001B[39;00m\n\u001B[0;32m      3\u001B[0m \u001B[38;5;28;01mfrom\u001B[39;00m \u001B[38;5;21;01m.\u001B[39;00m\u001B[38;5;21;01mporter\u001B[39;00m \u001B[38;5;28;01mimport\u001B[39;00m PorterStemmer  \u001B[38;5;66;03m# noqa:F401\u001B[39;00m\n\u001B[1;32m----> 4\u001B[0m \u001B[38;5;28;01mfrom\u001B[39;00m \u001B[38;5;21;01m.\u001B[39;00m\u001B[38;5;21;01mpreprocessing\u001B[39;00m \u001B[38;5;28;01mimport\u001B[39;00m (  \u001B[38;5;66;03m# noqa:F401\u001B[39;00m\n\u001B[0;32m      5\u001B[0m     preprocess_documents,\n\u001B[0;32m      6\u001B[0m     preprocess_string,\n\u001B[0;32m      7\u001B[0m     read_file,\n\u001B[0;32m      8\u001B[0m     read_files,\n\u001B[0;32m      9\u001B[0m     remove_stopwords,\n\u001B[0;32m     10\u001B[0m     split_alphanum,\n\u001B[0;32m     11\u001B[0m     stem_text,\n\u001B[0;32m     12\u001B[0m     strip_multiple_whitespaces,\n\u001B[0;32m     13\u001B[0m     strip_non_alphanum,\n\u001B[0;32m     14\u001B[0m     strip_numeric,\n\u001B[0;32m     15\u001B[0m     strip_punctuation,\n\u001B[0;32m     16\u001B[0m     strip_short,\n\u001B[0;32m     17\u001B[0m     strip_tags,\n\u001B[0;32m     18\u001B[0m )\n",
      "File \u001B[1;32m~\\anaconda3\\envs\\my_env\\Lib\\site-packages\\gensim\\parsing\\preprocessing.py:26\u001B[0m\n\u001B[0;32m     23\u001B[0m \u001B[38;5;28;01mimport\u001B[39;00m \u001B[38;5;21;01mstring\u001B[39;00m\n\u001B[0;32m     24\u001B[0m \u001B[38;5;28;01mimport\u001B[39;00m \u001B[38;5;21;01mglob\u001B[39;00m\n\u001B[1;32m---> 26\u001B[0m \u001B[38;5;28;01mfrom\u001B[39;00m \u001B[38;5;21;01mgensim\u001B[39;00m \u001B[38;5;28;01mimport\u001B[39;00m utils\n\u001B[0;32m     27\u001B[0m \u001B[38;5;28;01mfrom\u001B[39;00m \u001B[38;5;21;01mgensim\u001B[39;00m\u001B[38;5;21;01m.\u001B[39;00m\u001B[38;5;21;01mparsing\u001B[39;00m\u001B[38;5;21;01m.\u001B[39;00m\u001B[38;5;21;01mporter\u001B[39;00m \u001B[38;5;28;01mimport\u001B[39;00m PorterStemmer\n\u001B[0;32m     30\u001B[0m STOPWORDS \u001B[38;5;241m=\u001B[39m \u001B[38;5;28mfrozenset\u001B[39m([\n\u001B[0;32m     31\u001B[0m     \u001B[38;5;124m'\u001B[39m\u001B[38;5;124mall\u001B[39m\u001B[38;5;124m'\u001B[39m, \u001B[38;5;124m'\u001B[39m\u001B[38;5;124msix\u001B[39m\u001B[38;5;124m'\u001B[39m, \u001B[38;5;124m'\u001B[39m\u001B[38;5;124mjust\u001B[39m\u001B[38;5;124m'\u001B[39m, \u001B[38;5;124m'\u001B[39m\u001B[38;5;124mless\u001B[39m\u001B[38;5;124m'\u001B[39m, \u001B[38;5;124m'\u001B[39m\u001B[38;5;124mbeing\u001B[39m\u001B[38;5;124m'\u001B[39m, \u001B[38;5;124m'\u001B[39m\u001B[38;5;124mindeed\u001B[39m\u001B[38;5;124m'\u001B[39m, \u001B[38;5;124m'\u001B[39m\u001B[38;5;124mover\u001B[39m\u001B[38;5;124m'\u001B[39m, \u001B[38;5;124m'\u001B[39m\u001B[38;5;124mmove\u001B[39m\u001B[38;5;124m'\u001B[39m, \u001B[38;5;124m'\u001B[39m\u001B[38;5;124manyway\u001B[39m\u001B[38;5;124m'\u001B[39m, \u001B[38;5;124m'\u001B[39m\u001B[38;5;124mfour\u001B[39m\u001B[38;5;124m'\u001B[39m, \u001B[38;5;124m'\u001B[39m\u001B[38;5;124mnot\u001B[39m\u001B[38;5;124m'\u001B[39m, \u001B[38;5;124m'\u001B[39m\u001B[38;5;124mown\u001B[39m\u001B[38;5;124m'\u001B[39m, \u001B[38;5;124m'\u001B[39m\u001B[38;5;124mthrough\u001B[39m\u001B[38;5;124m'\u001B[39m,\n\u001B[0;32m     32\u001B[0m     \u001B[38;5;124m'\u001B[39m\u001B[38;5;124musing\u001B[39m\u001B[38;5;124m'\u001B[39m, \u001B[38;5;124m'\u001B[39m\u001B[38;5;124mfifty\u001B[39m\u001B[38;5;124m'\u001B[39m, \u001B[38;5;124m'\u001B[39m\u001B[38;5;124mwhere\u001B[39m\u001B[38;5;124m'\u001B[39m, \u001B[38;5;124m'\u001B[39m\u001B[38;5;124mmill\u001B[39m\u001B[38;5;124m'\u001B[39m, \u001B[38;5;124m'\u001B[39m\u001B[38;5;124monly\u001B[39m\u001B[38;5;124m'\u001B[39m, \u001B[38;5;124m'\u001B[39m\u001B[38;5;124mfind\u001B[39m\u001B[38;5;124m'\u001B[39m, \u001B[38;5;124m'\u001B[39m\u001B[38;5;124mbefore\u001B[39m\u001B[38;5;124m'\u001B[39m, \u001B[38;5;124m'\u001B[39m\u001B[38;5;124mone\u001B[39m\u001B[38;5;124m'\u001B[39m, \u001B[38;5;124m'\u001B[39m\u001B[38;5;124mwhose\u001B[39m\u001B[38;5;124m'\u001B[39m, \u001B[38;5;124m'\u001B[39m\u001B[38;5;124msystem\u001B[39m\u001B[38;5;124m'\u001B[39m, \u001B[38;5;124m'\u001B[39m\u001B[38;5;124mhow\u001B[39m\u001B[38;5;124m'\u001B[39m, \u001B[38;5;124m'\u001B[39m\u001B[38;5;124msomewhere\u001B[39m\u001B[38;5;124m'\u001B[39m,\n\u001B[1;32m   (...)\u001B[0m\n\u001B[0;32m     58\u001B[0m     \u001B[38;5;124m'\u001B[39m\u001B[38;5;124mmake\u001B[39m\u001B[38;5;124m'\u001B[39m, \u001B[38;5;124m'\u001B[39m\u001B[38;5;124monce\u001B[39m\u001B[38;5;124m'\u001B[39m\n\u001B[0;32m     59\u001B[0m ])\n",
      "File \u001B[1;32m~\\anaconda3\\envs\\my_env\\Lib\\site-packages\\gensim\\utils.py:35\u001B[0m\n\u001B[0;32m     32\u001B[0m \u001B[38;5;28;01mimport\u001B[39;00m \u001B[38;5;21;01mtypes\u001B[39;00m\n\u001B[0;32m     34\u001B[0m \u001B[38;5;28;01mimport\u001B[39;00m \u001B[38;5;21;01mnumpy\u001B[39;00m \u001B[38;5;28;01mas\u001B[39;00m \u001B[38;5;21;01mnp\u001B[39;00m\n\u001B[1;32m---> 35\u001B[0m \u001B[38;5;28;01mimport\u001B[39;00m \u001B[38;5;21;01mscipy\u001B[39;00m\u001B[38;5;21;01m.\u001B[39;00m\u001B[38;5;21;01msparse\u001B[39;00m\n\u001B[0;32m     36\u001B[0m \u001B[38;5;28;01mfrom\u001B[39;00m \u001B[38;5;21;01msmart_open\u001B[39;00m \u001B[38;5;28;01mimport\u001B[39;00m \u001B[38;5;28mopen\u001B[39m\n\u001B[0;32m     38\u001B[0m \u001B[38;5;28;01mfrom\u001B[39;00m \u001B[38;5;21;01mgensim\u001B[39;00m \u001B[38;5;28;01mimport\u001B[39;00m __version__ \u001B[38;5;28;01mas\u001B[39;00m gensim_version\n",
      "File \u001B[1;32m~\\anaconda3\\envs\\my_env\\Lib\\site-packages\\scipy\\sparse\\__init__.py:294\u001B[0m\n\u001B[0;32m    288\u001B[0m \u001B[38;5;66;03m# Original code by Travis Oliphant.\u001B[39;00m\n\u001B[0;32m    289\u001B[0m \u001B[38;5;66;03m# Modified and extended by Ed Schofield, Robert Cimrman,\u001B[39;00m\n\u001B[0;32m    290\u001B[0m \u001B[38;5;66;03m# Nathan Bell, and Jake Vanderplas.\u001B[39;00m\n\u001B[0;32m    292\u001B[0m \u001B[38;5;28;01mimport\u001B[39;00m \u001B[38;5;21;01mwarnings\u001B[39;00m \u001B[38;5;28;01mas\u001B[39;00m \u001B[38;5;21;01m_warnings\u001B[39;00m\n\u001B[1;32m--> 294\u001B[0m \u001B[38;5;28;01mfrom\u001B[39;00m \u001B[38;5;21;01m.\u001B[39;00m\u001B[38;5;21;01m_base\u001B[39;00m \u001B[38;5;28;01mimport\u001B[39;00m \u001B[38;5;241m*\u001B[39m\n\u001B[0;32m    295\u001B[0m \u001B[38;5;28;01mfrom\u001B[39;00m \u001B[38;5;21;01m.\u001B[39;00m\u001B[38;5;21;01m_csr\u001B[39;00m \u001B[38;5;28;01mimport\u001B[39;00m \u001B[38;5;241m*\u001B[39m\n\u001B[0;32m    296\u001B[0m \u001B[38;5;28;01mfrom\u001B[39;00m \u001B[38;5;21;01m.\u001B[39;00m\u001B[38;5;21;01m_csc\u001B[39;00m \u001B[38;5;28;01mimport\u001B[39;00m \u001B[38;5;241m*\u001B[39m\n",
      "File \u001B[1;32m~\\anaconda3\\envs\\my_env\\Lib\\site-packages\\scipy\\sparse\\_base.py:5\u001B[0m\n\u001B[0;32m      2\u001B[0m \u001B[38;5;28;01mfrom\u001B[39;00m \u001B[38;5;21;01mwarnings\u001B[39;00m \u001B[38;5;28;01mimport\u001B[39;00m warn\n\u001B[0;32m      4\u001B[0m \u001B[38;5;28;01mimport\u001B[39;00m \u001B[38;5;21;01mnumpy\u001B[39;00m \u001B[38;5;28;01mas\u001B[39;00m \u001B[38;5;21;01mnp\u001B[39;00m\n\u001B[1;32m----> 5\u001B[0m \u001B[38;5;28;01mfrom\u001B[39;00m \u001B[38;5;21;01mscipy\u001B[39;00m\u001B[38;5;21;01m.\u001B[39;00m\u001B[38;5;21;01m_lib\u001B[39;00m\u001B[38;5;21;01m.\u001B[39;00m\u001B[38;5;21;01m_util\u001B[39;00m \u001B[38;5;28;01mimport\u001B[39;00m VisibleDeprecationWarning\n\u001B[0;32m      7\u001B[0m \u001B[38;5;28;01mfrom\u001B[39;00m \u001B[38;5;21;01m.\u001B[39;00m\u001B[38;5;21;01m_sputils\u001B[39;00m \u001B[38;5;28;01mimport\u001B[39;00m (asmatrix, check_reshape_kwargs, check_shape,\n\u001B[0;32m      8\u001B[0m                        get_sum_dtype, isdense, isscalarlike,\n\u001B[0;32m      9\u001B[0m                        matrix, validateaxis,)\n\u001B[0;32m     11\u001B[0m \u001B[38;5;28;01mfrom\u001B[39;00m \u001B[38;5;21;01m.\u001B[39;00m\u001B[38;5;21;01m_matrix\u001B[39;00m \u001B[38;5;28;01mimport\u001B[39;00m spmatrix\n",
      "File \u001B[1;32m~\\anaconda3\\envs\\my_env\\Lib\\site-packages\\scipy\\_lib\\_util.py:18\u001B[0m\n\u001B[0;32m     10\u001B[0m \u001B[38;5;28;01mfrom\u001B[39;00m \u001B[38;5;21;01mtyping\u001B[39;00m \u001B[38;5;28;01mimport\u001B[39;00m (\n\u001B[0;32m     11\u001B[0m     Optional,\n\u001B[0;32m     12\u001B[0m     Union,\n\u001B[0;32m     13\u001B[0m     TYPE_CHECKING,\n\u001B[0;32m     14\u001B[0m     TypeVar,\n\u001B[0;32m     15\u001B[0m )\n\u001B[0;32m     17\u001B[0m \u001B[38;5;28;01mimport\u001B[39;00m \u001B[38;5;21;01mnumpy\u001B[39;00m \u001B[38;5;28;01mas\u001B[39;00m \u001B[38;5;21;01mnp\u001B[39;00m\n\u001B[1;32m---> 18\u001B[0m \u001B[38;5;28;01mfrom\u001B[39;00m \u001B[38;5;21;01mscipy\u001B[39;00m\u001B[38;5;21;01m.\u001B[39;00m\u001B[38;5;21;01m_lib\u001B[39;00m\u001B[38;5;21;01m.\u001B[39;00m\u001B[38;5;21;01m_array_api\u001B[39;00m \u001B[38;5;28;01mimport\u001B[39;00m array_namespace\n\u001B[0;32m     21\u001B[0m AxisError: \u001B[38;5;28mtype\u001B[39m[\u001B[38;5;167;01mException\u001B[39;00m]\n\u001B[0;32m     22\u001B[0m ComplexWarning: \u001B[38;5;28mtype\u001B[39m[\u001B[38;5;167;01mWarning\u001B[39;00m]\n",
      "File \u001B[1;32m~\\anaconda3\\envs\\my_env\\Lib\\site-packages\\scipy\\_lib\\_array_api.py:17\u001B[0m\n\u001B[0;32m     14\u001B[0m \u001B[38;5;28;01mimport\u001B[39;00m \u001B[38;5;21;01mnumpy\u001B[39;00m \u001B[38;5;28;01mas\u001B[39;00m \u001B[38;5;21;01mnp\u001B[39;00m\n\u001B[0;32m     16\u001B[0m \u001B[38;5;28;01mfrom\u001B[39;00m \u001B[38;5;21;01mscipy\u001B[39;00m\u001B[38;5;21;01m.\u001B[39;00m\u001B[38;5;21;01m_lib\u001B[39;00m \u001B[38;5;28;01mimport\u001B[39;00m array_api_compat\n\u001B[1;32m---> 17\u001B[0m \u001B[38;5;28;01mfrom\u001B[39;00m \u001B[38;5;21;01mscipy\u001B[39;00m\u001B[38;5;21;01m.\u001B[39;00m\u001B[38;5;21;01m_lib\u001B[39;00m\u001B[38;5;21;01m.\u001B[39;00m\u001B[38;5;21;01marray_api_compat\u001B[39;00m \u001B[38;5;28;01mimport\u001B[39;00m (\n\u001B[0;32m     18\u001B[0m     is_array_api_obj,\n\u001B[0;32m     19\u001B[0m     size,\n\u001B[0;32m     20\u001B[0m     numpy \u001B[38;5;28;01mas\u001B[39;00m np_compat,\n\u001B[0;32m     21\u001B[0m )\n\u001B[0;32m     23\u001B[0m __all__ \u001B[38;5;241m=\u001B[39m [\u001B[38;5;124m'\u001B[39m\u001B[38;5;124marray_namespace\u001B[39m\u001B[38;5;124m'\u001B[39m, \u001B[38;5;124m'\u001B[39m\u001B[38;5;124m_asarray\u001B[39m\u001B[38;5;124m'\u001B[39m, \u001B[38;5;124m'\u001B[39m\u001B[38;5;124msize\u001B[39m\u001B[38;5;124m'\u001B[39m]\n\u001B[0;32m     26\u001B[0m \u001B[38;5;66;03m# To enable array API and strict array-like input validation\u001B[39;00m\n",
      "File \u001B[1;32m~\\anaconda3\\envs\\my_env\\Lib\\site-packages\\scipy\\_lib\\array_api_compat\\numpy\\__init__.py:1\u001B[0m\n\u001B[1;32m----> 1\u001B[0m \u001B[38;5;28;01mfrom\u001B[39;00m \u001B[38;5;21;01mnumpy\u001B[39;00m \u001B[38;5;28;01mimport\u001B[39;00m \u001B[38;5;241m*\u001B[39m\n\u001B[0;32m      3\u001B[0m \u001B[38;5;66;03m# from numpy import * doesn't overwrite these builtin names\u001B[39;00m\n\u001B[0;32m      4\u001B[0m \u001B[38;5;28;01mfrom\u001B[39;00m \u001B[38;5;21;01mnumpy\u001B[39;00m \u001B[38;5;28;01mimport\u001B[39;00m \u001B[38;5;28mabs\u001B[39m, \u001B[38;5;28mmax\u001B[39m, \u001B[38;5;28mmin\u001B[39m, \u001B[38;5;28mround\u001B[39m\n",
      "File \u001B[1;32m~\\anaconda3\\envs\\my_env\\Lib\\site-packages\\numpy\\__init__.py:343\u001B[0m, in \u001B[0;36m__getattr__\u001B[1;34m(attr)\u001B[0m\n\u001B[0;32m    341\u001B[0m     \u001B[38;5;28;01mimport\u001B[39;00m \u001B[38;5;21;01mnumpy\u001B[39;00m\u001B[38;5;21;01m.\u001B[39;00m\u001B[38;5;21;01mtesting\u001B[39;00m \u001B[38;5;28;01mas\u001B[39;00m \u001B[38;5;21;01mtesting\u001B[39;00m\n\u001B[0;32m    342\u001B[0m     \u001B[38;5;28;01mreturn\u001B[39;00m testing\n\u001B[1;32m--> 343\u001B[0m \u001B[38;5;28;01melif\u001B[39;00m attr \u001B[38;5;241m==\u001B[39m \u001B[38;5;124m'\u001B[39m\u001B[38;5;124mTester\u001B[39m\u001B[38;5;124m'\u001B[39m:\n\u001B[0;32m    344\u001B[0m     \u001B[38;5;124m\"\u001B[39m\u001B[38;5;124mRemoved in NumPy 1.25.0\u001B[39m\u001B[38;5;124m\"\u001B[39m\n\u001B[0;32m    345\u001B[0m     \u001B[38;5;28;01mraise\u001B[39;00m \u001B[38;5;167;01mRuntimeError\u001B[39;00m(\u001B[38;5;124m\"\u001B[39m\u001B[38;5;124mTester was removed in NumPy 1.25.\u001B[39m\u001B[38;5;124m\"\u001B[39m)\n",
      "File \u001B[1;32m~\\anaconda3\\envs\\my_env\\Lib\\site-packages\\numpy\\polynomial\\__init__.py:116\u001B[0m\n\u001B[0;32m      1\u001B[0m \u001B[38;5;124;03m\"\"\"\u001B[39;00m\n\u001B[0;32m      2\u001B[0m \u001B[38;5;124;03mA sub-package for efficiently dealing with polynomials.\u001B[39;00m\n\u001B[0;32m      3\u001B[0m \n\u001B[1;32m   (...)\u001B[0m\n\u001B[0;32m    114\u001B[0m \n\u001B[0;32m    115\u001B[0m \u001B[38;5;124;03m\"\"\"\u001B[39;00m\n\u001B[1;32m--> 116\u001B[0m \u001B[38;5;28;01mfrom\u001B[39;00m \u001B[38;5;21;01m.\u001B[39;00m\u001B[38;5;21;01mpolynomial\u001B[39;00m \u001B[38;5;28;01mimport\u001B[39;00m Polynomial\n\u001B[0;32m    117\u001B[0m \u001B[38;5;28;01mfrom\u001B[39;00m \u001B[38;5;21;01m.\u001B[39;00m\u001B[38;5;21;01mchebyshev\u001B[39;00m \u001B[38;5;28;01mimport\u001B[39;00m Chebyshev\n\u001B[0;32m    118\u001B[0m \u001B[38;5;28;01mfrom\u001B[39;00m \u001B[38;5;21;01m.\u001B[39;00m\u001B[38;5;21;01mlegendre\u001B[39;00m \u001B[38;5;28;01mimport\u001B[39;00m Legendre\n",
      "File \u001B[1;32m~\\anaconda3\\envs\\my_env\\Lib\\site-packages\\numpy\\polynomial\\polynomial.py:84\u001B[0m\n\u001B[0;32m     82\u001B[0m \u001B[38;5;28;01mimport\u001B[39;00m \u001B[38;5;21;01mnumpy\u001B[39;00m \u001B[38;5;28;01mas\u001B[39;00m \u001B[38;5;21;01mnp\u001B[39;00m\n\u001B[0;32m     83\u001B[0m \u001B[38;5;28;01mimport\u001B[39;00m \u001B[38;5;21;01mnumpy\u001B[39;00m\u001B[38;5;21;01m.\u001B[39;00m\u001B[38;5;21;01mlinalg\u001B[39;00m \u001B[38;5;28;01mas\u001B[39;00m \u001B[38;5;21;01mla\u001B[39;00m\n\u001B[1;32m---> 84\u001B[0m \u001B[38;5;28;01mfrom\u001B[39;00m \u001B[38;5;21;01mnumpy\u001B[39;00m\u001B[38;5;21;01m.\u001B[39;00m\u001B[38;5;21;01mcore\u001B[39;00m\u001B[38;5;21;01m.\u001B[39;00m\u001B[38;5;21;01mmultiarray\u001B[39;00m \u001B[38;5;28;01mimport\u001B[39;00m normalize_axis_index\n\u001B[0;32m     86\u001B[0m \u001B[38;5;28;01mfrom\u001B[39;00m \u001B[38;5;21;01m.\u001B[39;00m \u001B[38;5;28;01mimport\u001B[39;00m polyutils \u001B[38;5;28;01mas\u001B[39;00m pu\n\u001B[0;32m     87\u001B[0m \u001B[38;5;28;01mfrom\u001B[39;00m \u001B[38;5;21;01m.\u001B[39;00m\u001B[38;5;21;01m_polybase\u001B[39;00m \u001B[38;5;28;01mimport\u001B[39;00m ABCPolyBase\n",
      "File \u001B[1;32m~\\anaconda3\\envs\\my_env\\Lib\\site-packages\\numpy\\core\\__init__.py:50\u001B[0m\n\u001B[0;32m     26\u001B[0m     \u001B[38;5;28;01mimport\u001B[39;00m \u001B[38;5;21;01msys\u001B[39;00m\n\u001B[0;32m     27\u001B[0m     msg \u001B[38;5;241m=\u001B[39m \u001B[38;5;124m\"\"\"\u001B[39m\n\u001B[0;32m     28\u001B[0m \n\u001B[0;32m     29\u001B[0m \u001B[38;5;124mIMPORTANT: PLEASE READ THIS FOR ADVICE ON HOW TO SOLVE THIS ISSUE!\u001B[39m\n\u001B[1;32m   (...)\u001B[0m\n\u001B[0;32m     48\u001B[0m \u001B[38;5;124m\"\"\"\u001B[39m \u001B[38;5;241m%\u001B[39m (sys\u001B[38;5;241m.\u001B[39mversion_info[\u001B[38;5;241m0\u001B[39m], sys\u001B[38;5;241m.\u001B[39mversion_info[\u001B[38;5;241m1\u001B[39m], sys\u001B[38;5;241m.\u001B[39mexecutable,\n\u001B[0;32m     49\u001B[0m         __version__, exc)\n\u001B[1;32m---> 50\u001B[0m     \u001B[38;5;28;01mraise\u001B[39;00m \u001B[38;5;167;01mImportError\u001B[39;00m(msg)\n\u001B[0;32m     51\u001B[0m \u001B[38;5;28;01mfinally\u001B[39;00m:\n\u001B[0;32m     52\u001B[0m     \u001B[38;5;28;01mfor\u001B[39;00m envkey \u001B[38;5;129;01min\u001B[39;00m env_added:\n",
      "\u001B[1;31mImportError\u001B[0m: \n\nIMPORTANT: PLEASE READ THIS FOR ADVICE ON HOW TO SOLVE THIS ISSUE!\n\nImporting the numpy C-extensions failed. This error can happen for\nmany reasons, often due to issues with your setup or how NumPy was\ninstalled.\n\nWe have compiled some common reasons and troubleshooting tips at:\n\n    https://numpy.org/devdocs/user/troubleshooting-importerror.html\n\nPlease note and check the following:\n\n  * The Python version is: Python3.12 from \"C:\\Users\\user\\anaconda3\\envs\\my_env\\python.exe\"\n  * The NumPy version is: \"2.2.1\"\n\nand make sure that they are the versions you expect.\nPlease carefully study the documentation linked above for further help.\n\nOriginal error was: DLL load failed while importing _multiarray_umath: 지정된 모듈을 찾을 수 없습니다.\n"
     ]
    }
   ],
   "execution_count": 12
  },
  {
   "metadata": {
    "ExecuteTime": {
     "end_time": "2025-01-29T12:01:29.504915Z",
     "start_time": "2025-01-29T12:01:11.261043Z"
    }
   },
   "cell_type": "code",
   "source": "!pip install --upgrade sentence-transformers torch torchvision torchaudio",
   "id": "9729767903be2861",
   "outputs": [
    {
     "name": "stdout",
     "output_type": "stream",
     "text": [
      "Collecting sentence-transformers\n",
      "  Downloading sentence_transformers-3.4.0-py3-none-any.whl.metadata (10 kB)\n",
      "Requirement already satisfied: torch in c:\\users\\user\\anaconda3\\lib\\site-packages (2.5.1)\n",
      "Requirement already satisfied: torchvision in c:\\users\\user\\anaconda3\\lib\\site-packages (0.20.1)\n",
      "Collecting torchaudio\n",
      "  Downloading torchaudio-2.5.1-cp312-cp312-win_amd64.whl.metadata (6.5 kB)\n",
      "Requirement already satisfied: transformers<5.0.0,>=4.41.0 in c:\\users\\user\\anaconda3\\lib\\site-packages (from sentence-transformers) (4.46.3)\n",
      "Requirement already satisfied: tqdm in c:\\users\\user\\anaconda3\\lib\\site-packages (from sentence-transformers) (4.66.4)\n",
      "Requirement already satisfied: scikit-learn in c:\\users\\user\\anaconda3\\lib\\site-packages (from sentence-transformers) (1.4.2)\n",
      "Requirement already satisfied: scipy in c:\\users\\user\\anaconda3\\lib\\site-packages (from sentence-transformers) (1.15.1)\n",
      "Requirement already satisfied: huggingface-hub>=0.20.0 in c:\\users\\user\\anaconda3\\lib\\site-packages (from sentence-transformers) (0.26.2)\n",
      "Requirement already satisfied: Pillow in c:\\users\\user\\anaconda3\\lib\\site-packages (from sentence-transformers) (10.3.0)\n",
      "Requirement already satisfied: filelock in c:\\users\\user\\anaconda3\\lib\\site-packages (from torch) (3.13.1)\n",
      "Requirement already satisfied: typing-extensions>=4.8.0 in c:\\users\\user\\anaconda3\\lib\\site-packages (from torch) (4.11.0)\n",
      "Requirement already satisfied: networkx in c:\\users\\user\\anaconda3\\lib\\site-packages (from torch) (3.2.1)\n",
      "Requirement already satisfied: jinja2 in c:\\users\\user\\anaconda3\\lib\\site-packages (from torch) (3.1.4)\n",
      "Requirement already satisfied: fsspec in c:\\users\\user\\anaconda3\\lib\\site-packages (from torch) (2024.3.1)\n",
      "Requirement already satisfied: setuptools in c:\\users\\user\\anaconda3\\lib\\site-packages (from torch) (69.5.1)\n",
      "Requirement already satisfied: sympy==1.13.1 in c:\\users\\user\\anaconda3\\lib\\site-packages (from torch) (1.13.1)\n",
      "Requirement already satisfied: mpmath<1.4,>=1.1.0 in c:\\users\\user\\anaconda3\\lib\\site-packages (from sympy==1.13.1->torch) (1.3.0)\n",
      "Requirement already satisfied: numpy in c:\\users\\user\\anaconda3\\lib\\site-packages (from torchvision) (1.26.4)\n",
      "Requirement already satisfied: packaging>=20.9 in c:\\users\\user\\anaconda3\\lib\\site-packages (from huggingface-hub>=0.20.0->sentence-transformers) (23.2)\n",
      "Requirement already satisfied: pyyaml>=5.1 in c:\\users\\user\\anaconda3\\lib\\site-packages (from huggingface-hub>=0.20.0->sentence-transformers) (6.0.1)\n",
      "Requirement already satisfied: requests in c:\\users\\user\\anaconda3\\lib\\site-packages (from huggingface-hub>=0.20.0->sentence-transformers) (2.32.2)\n",
      "Requirement already satisfied: colorama in c:\\users\\user\\anaconda3\\lib\\site-packages (from tqdm->sentence-transformers) (0.4.6)\n",
      "Requirement already satisfied: regex!=2019.12.17 in c:\\users\\user\\anaconda3\\lib\\site-packages (from transformers<5.0.0,>=4.41.0->sentence-transformers) (2023.10.3)\n",
      "Requirement already satisfied: tokenizers<0.21,>=0.20 in c:\\users\\user\\anaconda3\\lib\\site-packages (from transformers<5.0.0,>=4.41.0->sentence-transformers) (0.20.4)\n",
      "Requirement already satisfied: safetensors>=0.4.1 in c:\\users\\user\\anaconda3\\lib\\site-packages (from transformers<5.0.0,>=4.41.0->sentence-transformers) (0.4.5)\n",
      "Requirement already satisfied: MarkupSafe>=2.0 in c:\\users\\user\\anaconda3\\lib\\site-packages (from jinja2->torch) (2.1.3)\n",
      "Requirement already satisfied: joblib>=1.2.0 in c:\\users\\user\\anaconda3\\lib\\site-packages (from scikit-learn->sentence-transformers) (1.4.2)\n",
      "Requirement already satisfied: threadpoolctl>=2.0.0 in c:\\users\\user\\anaconda3\\lib\\site-packages (from scikit-learn->sentence-transformers) (2.2.0)\n",
      "Requirement already satisfied: charset-normalizer<4,>=2 in c:\\users\\user\\anaconda3\\lib\\site-packages (from requests->huggingface-hub>=0.20.0->sentence-transformers) (2.0.4)\n",
      "Requirement already satisfied: idna<4,>=2.5 in c:\\users\\user\\anaconda3\\lib\\site-packages (from requests->huggingface-hub>=0.20.0->sentence-transformers) (3.7)\n",
      "Requirement already satisfied: urllib3<3,>=1.21.1 in c:\\users\\user\\anaconda3\\lib\\site-packages (from requests->huggingface-hub>=0.20.0->sentence-transformers) (2.2.2)\n",
      "Requirement already satisfied: certifi>=2017.4.17 in c:\\users\\user\\anaconda3\\lib\\site-packages (from requests->huggingface-hub>=0.20.0->sentence-transformers) (2024.12.14)\n",
      "Downloading sentence_transformers-3.4.0-py3-none-any.whl (275 kB)\n",
      "   ---------------------------------------- 0.0/275.7 kB ? eta -:--:--\n",
      "   -------------------------------------- - 266.2/275.7 kB 5.4 MB/s eta 0:00:01\n",
      "   ---------------------------------------- 275.7/275.7 kB 4.3 MB/s eta 0:00:00\n",
      "Downloading torchaudio-2.5.1-cp312-cp312-win_amd64.whl (2.4 MB)\n",
      "   ---------------------------------------- 0.0/2.4 MB ? eta -:--:--\n",
      "   --------- ------------------------------ 0.6/2.4 MB 11.5 MB/s eta 0:00:01\n",
      "   --------------------- ------------------ 1.3/2.4 MB 13.6 MB/s eta 0:00:01\n",
      "   ---------------------------------- ----- 2.1/2.4 MB 14.7 MB/s eta 0:00:01\n",
      "   ---------------------------------------- 2.4/2.4 MB 12.9 MB/s eta 0:00:00\n",
      "Installing collected packages: torchaudio, sentence-transformers\n",
      "Successfully installed sentence-transformers-3.4.0 torchaudio-2.5.1\n"
     ]
    }
   ],
   "execution_count": 178
  },
  {
   "metadata": {},
   "cell_type": "code",
   "outputs": [],
   "execution_count": null,
   "source": [
    "# NLP\n",
    "\n"
   ],
   "id": "8a11af01d10f92de"
  },
  {
   "metadata": {},
   "cell_type": "code",
   "outputs": [],
   "execution_count": null,
   "source": "keyword_df",
   "id": "f39331514ba4f3a4"
  }
 ],
 "metadata": {
  "kernelspec": {
   "display_name": "Python 3",
   "language": "python",
   "name": "python3"
  },
  "language_info": {
   "codemirror_mode": {
    "name": "ipython",
    "version": 2
   },
   "file_extension": ".py",
   "mimetype": "text/x-python",
   "name": "python",
   "nbconvert_exporter": "python",
   "pygments_lexer": "ipython2",
   "version": "2.7.6"
  }
 },
 "nbformat": 4,
 "nbformat_minor": 5
}
