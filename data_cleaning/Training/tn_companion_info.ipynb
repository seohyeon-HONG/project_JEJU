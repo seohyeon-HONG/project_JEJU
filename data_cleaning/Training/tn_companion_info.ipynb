{
 "cells": [
  {
   "cell_type": "code",
   "id": "initial_id",
   "metadata": {
    "collapsed": true,
    "ExecuteTime": {
     "end_time": "2025-01-28T10:44:52.938456Z",
     "start_time": "2025-01-28T10:44:52.033463Z"
    }
   },
   "source": "import pandas as pd",
   "outputs": [],
   "execution_count": 2
  },
  {
   "metadata": {
    "ExecuteTime": {
     "end_time": "2025-01-28T10:44:54.106768Z",
     "start_time": "2025-01-28T10:44:54.082404Z"
    }
   },
   "cell_type": "code",
   "source": [
    "file_path = r\"E:\\AI_HUB\\data\\Training\\labeled_data\\TL_csv\\tn_companion_info_동반자정보_H.csv\"\n",
    "\n",
    "tn_companion_info = pd.read_csv(file_path)\n",
    "\n",
    "tn_companion_info"
   ],
   "id": "e4dee479ec223cf6",
   "outputs": [
    {
     "data": {
      "text/plain": [
       "      COMPANION_SEQ  TRAVEL_ID  REL_CD  COMPANION_GENDER  COMPANION_AGE_GRP  \\\n",
       "0                 4  e_e000295       7                 1                  3   \n",
       "1                 6  e_e000295       7                 1                  3   \n",
       "2                 8  e_e000295       7                 1                  4   \n",
       "3                10  e_e000295       7                 2                  4   \n",
       "4                12  e_e000295       7                 2                  4   \n",
       "...             ...        ...     ...               ...                ...   \n",
       "3946              1  h_h006755       8                 1                  3   \n",
       "3947              1  h_h006766       7                 2                  6   \n",
       "3948              1  h_h006870       2                 1                  2   \n",
       "3949              1  h_h006872       1                 1                  4   \n",
       "3950              2  h_h006872       2                 1                  1   \n",
       "\n",
       "      COMPANION_SITUATION  \n",
       "0                       3  \n",
       "1                       3  \n",
       "2                       3  \n",
       "3                       3  \n",
       "4                       3  \n",
       "...                   ...  \n",
       "3946                    1  \n",
       "3947                    1  \n",
       "3948                    1  \n",
       "3949                    1  \n",
       "3950                    1  \n",
       "\n",
       "[3951 rows x 6 columns]"
      ],
      "text/html": [
       "<div>\n",
       "<style scoped>\n",
       "    .dataframe tbody tr th:only-of-type {\n",
       "        vertical-align: middle;\n",
       "    }\n",
       "\n",
       "    .dataframe tbody tr th {\n",
       "        vertical-align: top;\n",
       "    }\n",
       "\n",
       "    .dataframe thead th {\n",
       "        text-align: right;\n",
       "    }\n",
       "</style>\n",
       "<table border=\"1\" class=\"dataframe\">\n",
       "  <thead>\n",
       "    <tr style=\"text-align: right;\">\n",
       "      <th></th>\n",
       "      <th>COMPANION_SEQ</th>\n",
       "      <th>TRAVEL_ID</th>\n",
       "      <th>REL_CD</th>\n",
       "      <th>COMPANION_GENDER</th>\n",
       "      <th>COMPANION_AGE_GRP</th>\n",
       "      <th>COMPANION_SITUATION</th>\n",
       "    </tr>\n",
       "  </thead>\n",
       "  <tbody>\n",
       "    <tr>\n",
       "      <th>0</th>\n",
       "      <td>4</td>\n",
       "      <td>e_e000295</td>\n",
       "      <td>7</td>\n",
       "      <td>1</td>\n",
       "      <td>3</td>\n",
       "      <td>3</td>\n",
       "    </tr>\n",
       "    <tr>\n",
       "      <th>1</th>\n",
       "      <td>6</td>\n",
       "      <td>e_e000295</td>\n",
       "      <td>7</td>\n",
       "      <td>1</td>\n",
       "      <td>3</td>\n",
       "      <td>3</td>\n",
       "    </tr>\n",
       "    <tr>\n",
       "      <th>2</th>\n",
       "      <td>8</td>\n",
       "      <td>e_e000295</td>\n",
       "      <td>7</td>\n",
       "      <td>1</td>\n",
       "      <td>4</td>\n",
       "      <td>3</td>\n",
       "    </tr>\n",
       "    <tr>\n",
       "      <th>3</th>\n",
       "      <td>10</td>\n",
       "      <td>e_e000295</td>\n",
       "      <td>7</td>\n",
       "      <td>2</td>\n",
       "      <td>4</td>\n",
       "      <td>3</td>\n",
       "    </tr>\n",
       "    <tr>\n",
       "      <th>4</th>\n",
       "      <td>12</td>\n",
       "      <td>e_e000295</td>\n",
       "      <td>7</td>\n",
       "      <td>2</td>\n",
       "      <td>4</td>\n",
       "      <td>3</td>\n",
       "    </tr>\n",
       "    <tr>\n",
       "      <th>...</th>\n",
       "      <td>...</td>\n",
       "      <td>...</td>\n",
       "      <td>...</td>\n",
       "      <td>...</td>\n",
       "      <td>...</td>\n",
       "      <td>...</td>\n",
       "    </tr>\n",
       "    <tr>\n",
       "      <th>3946</th>\n",
       "      <td>1</td>\n",
       "      <td>h_h006755</td>\n",
       "      <td>8</td>\n",
       "      <td>1</td>\n",
       "      <td>3</td>\n",
       "      <td>1</td>\n",
       "    </tr>\n",
       "    <tr>\n",
       "      <th>3947</th>\n",
       "      <td>1</td>\n",
       "      <td>h_h006766</td>\n",
       "      <td>7</td>\n",
       "      <td>2</td>\n",
       "      <td>6</td>\n",
       "      <td>1</td>\n",
       "    </tr>\n",
       "    <tr>\n",
       "      <th>3948</th>\n",
       "      <td>1</td>\n",
       "      <td>h_h006870</td>\n",
       "      <td>2</td>\n",
       "      <td>1</td>\n",
       "      <td>2</td>\n",
       "      <td>1</td>\n",
       "    </tr>\n",
       "    <tr>\n",
       "      <th>3949</th>\n",
       "      <td>1</td>\n",
       "      <td>h_h006872</td>\n",
       "      <td>1</td>\n",
       "      <td>1</td>\n",
       "      <td>4</td>\n",
       "      <td>1</td>\n",
       "    </tr>\n",
       "    <tr>\n",
       "      <th>3950</th>\n",
       "      <td>2</td>\n",
       "      <td>h_h006872</td>\n",
       "      <td>2</td>\n",
       "      <td>1</td>\n",
       "      <td>1</td>\n",
       "      <td>1</td>\n",
       "    </tr>\n",
       "  </tbody>\n",
       "</table>\n",
       "<p>3951 rows × 6 columns</p>\n",
       "</div>"
      ]
     },
     "execution_count": 3,
     "metadata": {},
     "output_type": "execute_result"
    }
   ],
   "execution_count": 3
  },
  {
   "metadata": {
    "ExecuteTime": {
     "end_time": "2025-01-28T10:51:54.534592Z",
     "start_time": "2025-01-28T10:51:54.529767Z"
    }
   },
   "cell_type": "code",
   "source": "tn_companion_info = tn_companion_info.drop(tn_companion_info[['COMPANION_GENDER', 'COMPANION_AGE_GRP', 'COMPANION_SITUATION']], axis=1)",
   "id": "ab6f7e3ac422a50c",
   "outputs": [],
   "execution_count": 8
  },
  {
   "metadata": {
    "ExecuteTime": {
     "end_time": "2025-01-28T10:59:27.631771Z",
     "start_time": "2025-01-28T10:59:27.624442Z"
    }
   },
   "cell_type": "code",
   "source": "tn_companion_info.info()",
   "id": "dcec3f1f40b464bb",
   "outputs": [
    {
     "name": "stdout",
     "output_type": "stream",
     "text": [
      "<class 'pandas.core.frame.DataFrame'>\n",
      "RangeIndex: 3951 entries, 0 to 3950\n",
      "Data columns (total 3 columns):\n",
      " #   Column         Non-Null Count  Dtype \n",
      "---  ------         --------------  ----- \n",
      " 0   COMPANION_SEQ  3951 non-null   int64 \n",
      " 1   TRAVEL_ID      3951 non-null   object\n",
      " 2   REL_CD         3951 non-null   int64 \n",
      "dtypes: int64(2), object(1)\n",
      "memory usage: 92.7+ KB\n"
     ]
    }
   ],
   "execution_count": 10
  },
  {
   "metadata": {
    "ExecuteTime": {
     "end_time": "2025-01-28T10:46:16.688230Z",
     "start_time": "2025-01-28T10:46:16.682662Z"
    }
   },
   "cell_type": "code",
   "source": [
    "rel_cd_counts = tn_companion_info[\"REL_CD\"].value_counts()\n",
    "print(rel_cd_counts) # 자녀, 친구, 배우자, 연인, 부모 순"
   ],
   "id": "9b06ea61fd9c0a30",
   "outputs": [
    {
     "name": "stdout",
     "output_type": "stream",
     "text": [
      "REL_CD\n",
      "2     895\n",
      "7     825\n",
      "1     703\n",
      "8     594\n",
      "3     389\n",
      "5     204\n",
      "6     122\n",
      "9      76\n",
      "11     63\n",
      "10     58\n",
      "4      22\n",
      "Name: count, dtype: int64\n"
     ]
    }
   ],
   "execution_count": 5
  },
  {
   "metadata": {},
   "cell_type": "code",
   "outputs": [],
   "execution_count": null,
   "source": "",
   "id": "4f40902e36dd251"
  },
  {
   "metadata": {},
   "cell_type": "code",
   "outputs": [],
   "execution_count": null,
   "source": "tn_companion_info = tn_companion_info.drop([tn_companion_info['']]",
   "id": "916a1fef01a6475c"
  }
 ],
 "metadata": {
  "kernelspec": {
   "display_name": "Python 3",
   "language": "python",
   "name": "python3"
  },
  "language_info": {
   "codemirror_mode": {
    "name": "ipython",
    "version": 2
   },
   "file_extension": ".py",
   "mimetype": "text/x-python",
   "name": "python",
   "nbconvert_exporter": "python",
   "pygments_lexer": "ipython2",
   "version": "2.7.6"
  }
 },
 "nbformat": 4,
 "nbformat_minor": 5
}
