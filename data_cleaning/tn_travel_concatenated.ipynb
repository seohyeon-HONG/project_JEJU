{
 "cells": [
  {
   "cell_type": "code",
   "id": "initial_id",
   "metadata": {
    "collapsed": true,
    "ExecuteTime": {
     "end_time": "2025-01-31T08:35:54.119047Z",
     "start_time": "2025-01-31T08:35:54.106191Z"
    }
   },
   "source": "import pandas as pd",
   "outputs": [],
   "execution_count": 1
  },
  {
   "metadata": {
    "ExecuteTime": {
     "end_time": "2025-01-31T08:51:08.951180Z",
     "start_time": "2025-01-31T08:51:08.927742Z"
    }
   },
   "cell_type": "code",
   "source": [
    "file01 = pd.read_csv(r\"E:\\AI_HUB\\data\\Training\\labeled_data\\TL_csv\\cleaned_data\\tn_travel_jeju_filtered.csv\")\n",
    "file02 = pd.read_csv(r\"E:\\AI_HUB\\data\\Validation\\labeled_data\\VL_csv\\cleaned_data\\tn_travel_jeju_filtered.csv\")"
   ],
   "id": "c7842df1ce23cd18",
   "outputs": [],
   "execution_count": 2
  },
  {
   "metadata": {
    "ExecuteTime": {
     "end_time": "2025-01-31T08:51:10.787243Z",
     "start_time": "2025-01-31T08:51:10.778338Z"
    }
   },
   "cell_type": "code",
   "source": "merged_df = pd.concat([file01, file02], ignore_index=True)",
   "id": "5dbf85b91964f1c",
   "outputs": [],
   "execution_count": 3
  },
  {
   "metadata": {
    "ExecuteTime": {
     "end_time": "2025-01-31T08:51:13.894209Z",
     "start_time": "2025-01-31T08:51:13.876443Z"
    }
   },
   "cell_type": "code",
   "source": "merged_df",
   "id": "a59857c53cb3b814",
   "outputs": [
    {
     "data": {
      "text/plain": [
       "      TRAVEL_ID TRAVELER_ID\n",
       "0     e_e004090     e004090\n",
       "1     e_e004808     e004808\n",
       "2     e_e005480     e005480\n",
       "3     e_e005858     e005858\n",
       "4     g_g005682     g005682\n",
       "...         ...         ...\n",
       "1674  h_h006670     h006670\n",
       "1675  h_h006684     h006684\n",
       "1676  h_h006710     h006710\n",
       "1677  h_h006731     h006731\n",
       "1678  h_h006753     h006753\n",
       "\n",
       "[1679 rows x 2 columns]"
      ],
      "text/html": [
       "<div>\n",
       "<style scoped>\n",
       "    .dataframe tbody tr th:only-of-type {\n",
       "        vertical-align: middle;\n",
       "    }\n",
       "\n",
       "    .dataframe tbody tr th {\n",
       "        vertical-align: top;\n",
       "    }\n",
       "\n",
       "    .dataframe thead th {\n",
       "        text-align: right;\n",
       "    }\n",
       "</style>\n",
       "<table border=\"1\" class=\"dataframe\">\n",
       "  <thead>\n",
       "    <tr style=\"text-align: right;\">\n",
       "      <th></th>\n",
       "      <th>TRAVEL_ID</th>\n",
       "      <th>TRAVELER_ID</th>\n",
       "    </tr>\n",
       "  </thead>\n",
       "  <tbody>\n",
       "    <tr>\n",
       "      <th>0</th>\n",
       "      <td>e_e004090</td>\n",
       "      <td>e004090</td>\n",
       "    </tr>\n",
       "    <tr>\n",
       "      <th>1</th>\n",
       "      <td>e_e004808</td>\n",
       "      <td>e004808</td>\n",
       "    </tr>\n",
       "    <tr>\n",
       "      <th>2</th>\n",
       "      <td>e_e005480</td>\n",
       "      <td>e005480</td>\n",
       "    </tr>\n",
       "    <tr>\n",
       "      <th>3</th>\n",
       "      <td>e_e005858</td>\n",
       "      <td>e005858</td>\n",
       "    </tr>\n",
       "    <tr>\n",
       "      <th>4</th>\n",
       "      <td>g_g005682</td>\n",
       "      <td>g005682</td>\n",
       "    </tr>\n",
       "    <tr>\n",
       "      <th>...</th>\n",
       "      <td>...</td>\n",
       "      <td>...</td>\n",
       "    </tr>\n",
       "    <tr>\n",
       "      <th>1674</th>\n",
       "      <td>h_h006670</td>\n",
       "      <td>h006670</td>\n",
       "    </tr>\n",
       "    <tr>\n",
       "      <th>1675</th>\n",
       "      <td>h_h006684</td>\n",
       "      <td>h006684</td>\n",
       "    </tr>\n",
       "    <tr>\n",
       "      <th>1676</th>\n",
       "      <td>h_h006710</td>\n",
       "      <td>h006710</td>\n",
       "    </tr>\n",
       "    <tr>\n",
       "      <th>1677</th>\n",
       "      <td>h_h006731</td>\n",
       "      <td>h006731</td>\n",
       "    </tr>\n",
       "    <tr>\n",
       "      <th>1678</th>\n",
       "      <td>h_h006753</td>\n",
       "      <td>h006753</td>\n",
       "    </tr>\n",
       "  </tbody>\n",
       "</table>\n",
       "<p>1679 rows × 2 columns</p>\n",
       "</div>"
      ]
     },
     "execution_count": 4,
     "metadata": {},
     "output_type": "execute_result"
    }
   ],
   "execution_count": 4
  },
  {
   "metadata": {
    "ExecuteTime": {
     "end_time": "2025-01-31T08:52:04.356968Z",
     "start_time": "2025-01-31T08:52:04.334247Z"
    }
   },
   "cell_type": "code",
   "source": [
    "import shutil\n",
    "\n",
    "# 파일 저장 경로\n",
    "local_path = r\"E:\\AI_HUB\\data\\concatenated\\tn_travel_concatenated.csv\"\n",
    "merged_df.to_csv(local_path, index=False, encoding='utf-8-sig')\n",
    "\n",
    "# 파일 저장 확인\n",
    "print(f\"로컬 경로에 파일 저장 완료: {local_path}\")"
   ],
   "id": "13dfe04f17cdfc64",
   "outputs": [
    {
     "name": "stdout",
     "output_type": "stream",
     "text": [
      "로컬 경로에 파일 저장 완료: E:\\AI_HUB\\data\\concatenated\\tn_travel_concatenated.csv\n"
     ]
    }
   ],
   "execution_count": 5
  }
 ],
 "metadata": {
  "kernelspec": {
   "display_name": "Python 3",
   "language": "python",
   "name": "python3"
  },
  "language_info": {
   "codemirror_mode": {
    "name": "ipython",
    "version": 2
   },
   "file_extension": ".py",
   "mimetype": "text/x-python",
   "name": "python",
   "nbconvert_exporter": "python",
   "pygments_lexer": "ipython2",
   "version": "2.7.6"
  }
 },
 "nbformat": 4,
 "nbformat_minor": 5
}
